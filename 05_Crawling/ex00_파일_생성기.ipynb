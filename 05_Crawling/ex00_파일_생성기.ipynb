{
 "cells": [
  {
   "cell_type": "code",
   "execution_count": 1,
   "metadata": {},
   "outputs": [
    {
     "name": "stdout",
     "output_type": "stream",
     "text": [
      "ex10_파일명.ipynb 생성 완료\n",
      "ex11_파일명.ipynb 생성 완료\n"
     ]
    }
   ],
   "source": [
    "import os\n",
    "\n",
    "# ex00부터 ex10까지의 파일 생성\n",
    "for i in range(10,12):\n",
    "    filename = f\"ex{i:02d}_.ipynb\"\n",
    "    \n",
    "    # 파일이 존재하지 않을 경우에만 생성\n",
    "    if not os.path.exists(filename):\n",
    "        with open(filename, 'w', encoding='utf-8') as f:\n",
    "            # 빈 주피터 노트북 파일 기본 구조\n",
    "            notebook_structure = '''{\n",
    "                \"cells\": [],\n",
    "                \"metadata\": {\n",
    "                \"kernelspec\": {\n",
    "                \"display_name\": \"Python 3\",\n",
    "                \"language\": \"python\",\n",
    "                \"name\": \"python3\"\n",
    "                },\n",
    "                \"language_info\": {\n",
    "                \"codemirror_mode\": {\n",
    "                    \"name\": \"ipython\",\n",
    "                    \"version\": 3\n",
    "                },\n",
    "                \"file_extension\": \".py\",\n",
    "                \"mimetype\": \"text/x-python\",\n",
    "                \"name\": \"python\",\n",
    "                \"nbconvert_exporter\": \"python\",\n",
    "                \"pygments_lexer\": \"ipython3\",\n",
    "                \"version\": \"3.8.0\"\n",
    "                }\n",
    "                },\n",
    "                \"nbformat\": 4,\n",
    "                \"nbformat_minor\": 4\n",
    "                }'''\n",
    "            f.write(notebook_structure)"
   ]
  }
 ],
 "metadata": {
  "kernelspec": {
   "display_name": "base",
   "language": "python",
   "name": "python3"
  },
  "language_info": {
   "codemirror_mode": {
    "name": "ipython",
    "version": 3
   },
   "file_extension": ".py",
   "mimetype": "text/x-python",
   "name": "python",
   "nbconvert_exporter": "python",
   "pygments_lexer": "ipython3",
   "version": "3.12.7"
  }
 },
 "nbformat": 4,
 "nbformat_minor": 2
}
