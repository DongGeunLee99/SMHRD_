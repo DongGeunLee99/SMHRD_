{
 "cells": [
  {
   "cell_type": "markdown",
   "metadata": {},
   "source": [
    "<h2 style=\"color:pink; font-weight:bold\"> selenium 라이브러리 사용법 </h2>\n",
    "- 동적 페이지를 크롤링할 때 사용<br>\n",
    "- 웹페이지를 제어하기 위한 라이브러리"
   ]
  },
  {
   "cell_type": "code",
   "execution_count": 43,
   "metadata": {},
   "outputs": [],
   "source": [
    "# !pip install selenium\n",
    "# !pip install -U selenium\n",
    "# !pip install webdriver_manager"
   ]
  },
  {
   "cell_type": "code",
   "execution_count": 44,
   "metadata": {},
   "outputs": [],
   "source": [
    "# 웹 브라우저를 통제하기 위한 라이브러리\n",
    "from selenium import webdriver as wb\n",
    "# html문서에서 태그와 선택자의 위치를 찾기 위한 라이브러리\n",
    "from selenium.webdriver.common.by import By\n",
    "# 웹에게 값을 입력하기 위한 라이브러리 -> 컴퓨터용 키보드\n",
    "from selenium.webdriver.common.keys import Keys\n",
    "# 사용자가 사용하는 최신버전의 크롬 드라이버와 일치하는 드라이버를 찾아주는 라이브러리\n",
    "from selenium.webdriver.chrome.service import Service\n",
    "# 최신버전의 크롭 드라이버를 찾고 다운로드 해주는 라이브러리\n",
    "from webdriver_manager.chrome import ChromeDriverManager"
   ]
  },
  {
   "cell_type": "code",
   "execution_count": 45,
   "metadata": {},
   "outputs": [],
   "source": [
    "# 파이썬 전용 크롬 드라이버 업데이트 및 설치\n",
    "s = Service(ChromeDriverManager().install())\n",
    "driver = wb.Chrome(service = s)\n",
    "\n",
    "# 주소를 알려주지 않으면 빈 창이 뜨므로\n",
    "# request에서 한 것처럼 get메소드를 사용해서 페이지 url입력\n",
    "driver.get(\"https://www.naver.com/\")"
   ]
  },
  {
   "cell_type": "code",
   "execution_count": 46,
   "metadata": {},
   "outputs": [],
   "source": [
    "# 검색창 위치 찾기\n",
    "search = driver.find_element(By.ID, 'query')"
   ]
  },
  {
   "cell_type": "code",
   "execution_count": 47,
   "metadata": {},
   "outputs": [],
   "source": [
    "# 검색어 입력하기\n",
    "search.send_keys('피카소')"
   ]
  },
  {
   "cell_type": "code",
   "execution_count": 48,
   "metadata": {},
   "outputs": [],
   "source": [
    "# 엔터 -> 키보드에 ENTER 기능 사용하기\n",
    "search.send_keys(Keys.ENTER)"
   ]
  },
  {
   "cell_type": "code",
   "execution_count": 49,
   "metadata": {},
   "outputs": [],
   "source": [
    "# 크롬창 뒤로가기\n",
    "driver.back()"
   ]
  },
  {
   "cell_type": "code",
   "execution_count": 50,
   "metadata": {},
   "outputs": [],
   "source": [
    "# 검색창 위치 찾기\n",
    "search = driver.find_element(By.ID, 'query')\n",
    "# 검색어 입력하기\n",
    "search.send_keys('하하')"
   ]
  },
  {
   "cell_type": "code",
   "execution_count": 51,
   "metadata": {},
   "outputs": [],
   "source": [
    "btn = driver.find_element(By.ID, 'search-btn')\n",
    "search.click()"
   ]
  },
  {
   "cell_type": "code",
   "execution_count": 52,
   "metadata": {},
   "outputs": [],
   "source": [
    "# driver.close()"
   ]
  }
 ],
 "metadata": {
  "kernelspec": {
   "display_name": "base",
   "language": "python",
   "name": "python3"
  },
  "language_info": {
   "codemirror_mode": {
    "name": "ipython",
    "version": 3
   },
   "file_extension": ".py",
   "mimetype": "text/x-python",
   "name": "python",
   "nbconvert_exporter": "python",
   "pygments_lexer": "ipython3",
   "version": "3.12.7"
  }
 },
 "nbformat": 4,
 "nbformat_minor": 2
}
