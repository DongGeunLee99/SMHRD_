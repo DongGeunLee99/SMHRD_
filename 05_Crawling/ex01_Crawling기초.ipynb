{
 "cells": [
  {
   "cell_type": "markdown",
   "metadata": {},
   "source": [
    "### requests 라이브러리 사용법"
   ]
  },
  {
   "cell_type": "code",
   "execution_count": 9,
   "metadata": {},
   "outputs": [],
   "source": [
    "# 서버에게 데이터를 요청 및 응답받기 위한 라이브러리\n",
    "import requests as req"
   ]
  },
  {
   "cell_type": "code",
   "execution_count": null,
   "metadata": {},
   "outputs": [],
   "source": [
    "res = req.get(\"https://www.naver.com/\")\n",
    "# Response [200]번대 : 성공적으로 요청 및 응답이 이루어졌다는 의미\n",
    "# Response [400]번대 : 클라이언트(요청) 부분에서 오류가 발생했다는 의미\n",
    "# Response [500]번대 : 서버(응답) 부분에서 오류가 발생했다는 의미"
   ]
  },
  {
   "cell_type": "code",
   "execution_count": null,
   "metadata": {},
   "outputs": [],
   "source": [
    "res.text"
   ]
  },
  {
   "cell_type": "markdown",
   "metadata": {},
   "source": [
    "### BeautifulSoup 라이브러리"
   ]
  },
  {
   "cell_type": "code",
   "execution_count": 12,
   "metadata": {},
   "outputs": [],
   "source": [
    "from bs4 import BeautifulSoup as bs\n",
    "# 컴퓨터가 이해할 수 있는 객체 형태로 변환해주는 라이브러리"
   ]
  },
  {
   "cell_type": "code",
   "execution_count": null,
   "metadata": {},
   "outputs": [],
   "source": [
    "# BeautifulSoup 객체화\n",
    "# bs(parsing할 html문서, 'parsing 방법')\n",
    "# lxml : 빠르고 관대하다는 장점\n",
    "soup = bs(res.text, 'lxml')"
   ]
  },
  {
   "cell_type": "markdown",
   "metadata": {},
   "source": [
    "1. 네이버 페이지에서 정보를 가져와보자\n",
    "2. 뉴스, 카페, 블로그 등과 같은 글자를 수집해보자"
   ]
  },
  {
   "cell_type": "code",
   "execution_count": null,
   "metadata": {},
   "outputs": [],
   "source": [
    "url = 'https://search.naver.com/search.naver?where=nexearch&sm=top_hty&fbm=0&ie=utf8&query='\n",
    "res = req.get(url)\n",
    "res"
   ]
  },
  {
   "cell_type": "code",
   "execution_count": null,
   "metadata": {},
   "outputs": [],
   "source": [
    "res.text"
   ]
  },
  {
   "cell_type": "code",
   "execution_count": null,
   "metadata": {},
   "outputs": [],
   "source": [
    "soup = bs(res.text, 'lxml')\n",
    "soup"
   ]
  },
  {
   "cell_type": "code",
   "execution_count": null,
   "metadata": {},
   "outputs": [],
   "source": [
    "# [ 태그의 위치 찾는 방법 ]\n",
    "# 1. 내가 가져오고 싶은 contents 위에 마우스 우클릭 -> 검사\n",
    "# 2. F12(개발자모드) 좌측 상단에 마우스 아이콘 클릭 -> 내가 가져오고 싶은 contents 클릭"
   ]
  },
  {
   "cell_type": "code",
   "execution_count": 39,
   "metadata": {},
   "outputs": [
    {
     "name": "stdout",
     "output_type": "stream",
     "text": [
      "<class 'bs4.element.ResultSet'>\n",
      "<class 'bs4.element.Tag'>\n"
     ]
    }
   ],
   "source": [
    "# a태그 가져오기\n",
    "# select() : 페이지에 있는 태그를 모두(복수형태 : list) 가져온다\n",
    "# select_one() : 페이지에 있는 태그 중에서 가장 첫 번째 요소를 하나만(단수 형태로) 가져온다\n",
    "\n",
    "print(type(soup.select('a')))\n",
    "print(type(soup.select_one('a')))"
   ]
  },
  {
   "cell_type": "code",
   "execution_count": 79,
   "metadata": {},
   "outputs": [
    {
     "name": "stdout",
     "output_type": "stream",
     "text": [
      "[<a aria-selected=\"false\" class=\"tab\" href=\"?ssc=tab.blog.all&amp;sm=tab_jum&amp;query=%EB%82%A0%EC%94%A8\" onclick=\"return goOtherCR(this,'a=tab*b.jmp&amp;r=1&amp;i=&amp;u='+urlencode(this.href));\" role=\"tab\"><i class=\"spnew2 ico_nav_blog\"></i>블로그</a>, <a aria-selected=\"false\" class=\"tab\" href=\"?ssc=tab.cafe.all&amp;sm=tab_jum&amp;query=%EB%82%A0%EC%94%A8\" onclick=\"return goOtherCR(this,'a=tab*c.jmp&amp;r=2&amp;i=&amp;u='+urlencode(this.href));\" role=\"tab\"><i class=\"spnew2 ico_nav_cafe\"></i>카페</a>, <a aria-selected=\"false\" class=\"tab\" href=\"?ssc=tab.image.all&amp;where=image&amp;sm=tab_jum&amp;query=%EB%82%A0%EC%94%A8\" onclick=\"return goOtherCR(this,'a=tab*i.jmp&amp;r=3&amp;i=&amp;u='+urlencode(this.href));\" role=\"tab\"><i class=\"spnew2 ico_nav_image\"></i>이미지</a>, <a aria-selected=\"false\" class=\"tab\" href=\"?ssc=tab.kin.kqna&amp;where=kin&amp;sm=tab_jum&amp;query=%EB%82%A0%EC%94%A8\" onclick=\"return goOtherCR(this,'a=tab*k.jmp&amp;r=4&amp;i=&amp;u='+urlencode(this.href));\" role=\"tab\"><i class=\"spnew2 ico_nav_kin\"></i>지식iN</a>, <a aria-selected=\"false\" class=\"tab\" href=\"?ssc=tab.influencer.chl&amp;where=influencer&amp;sm=tab_jum&amp;query=%EB%82%A0%EC%94%A8\" onclick=\"return goOtherCR(this,'a=tab*F.jmp&amp;r=5&amp;i=&amp;u='+urlencode(this.href));\" role=\"tab\"><i class=\"spnew2 ico_nav_inf\"></i>인플루언서</a>, <a aria-selected=\"false\" class=\"tab\" href=\"?ssc=tab.video.all&amp;where=video&amp;sm=tab_jum&amp;query=%EB%82%A0%EC%94%A8\" onclick=\"return goOtherCR(this,'a=tab*v.jmp&amp;r=6&amp;i=&amp;u='+urlencode(this.href));\" role=\"tab\"><i class=\"spnew2 ico_nav_video\"></i>동영상</a>, <a aria-selected=\"false\" class=\"tab\" href=\"https://search.shopping.naver.com/search/all?where=all&amp;frm=NVSCTAB&amp;query=%EB%82%A0%EC%94%A8\" onclick=\"return goOtherCR(this,'a=tab*S.jmp&amp;r=7&amp;i=&amp;u='+urlencode(this.href));\" role=\"tab\" target=\"_blank\">쇼핑</a>, <a aria-selected=\"false\" class=\"tab\" href=\"?ssc=tab.news.all&amp;where=news&amp;sm=tab_jum&amp;query=%EB%82%A0%EC%94%A8\" onclick=\"return goOtherCR(this,'a=tab*n.jmp&amp;r=8&amp;i=&amp;u='+urlencode(this.href));\" role=\"tab\"><i class=\"spnew2 ico_nav_news\"></i>뉴스</a>, <a aria-selected=\"false\" class=\"tab\" href=\"?ssc=tab.shortents.all&amp;sm=tab_jum&amp;query=%EB%82%A0%EC%94%A8\" onclick=\"return goOtherCR(this,'a=tab*d.jmp&amp;r=9&amp;i=&amp;u='+urlencode(this.href));\" role=\"tab\"><i class=\"spnew2 ico_nav_shortents\"></i>숏텐츠</a>, <a aria-selected=\"false\" class=\"tab\" href=\"https://dict.naver.com/dict.search?query=%EB%82%A0%EC%94%A8&amp;from=tsearch\" onclick=\"return goOtherCR(this,'a=tab*L.jmp&amp;r=10&amp;i=&amp;u='+urlencode(this.href));\" role=\"tab\" target=\"_blank\">어학사전</a>, <a aria-selected=\"false\" class=\"tab\" href=\"https://map.naver.com/v5/search/%EB%82%A0%EC%94%A8\" onclick=\"return goOtherCR(this,'a=tab*M.jmp&amp;r=11&amp;i=&amp;u='+urlencode(this.href));\" role=\"tab\" target=\"_blank\">지도</a>, <a aria-selected=\"false\" class=\"tab\" href=\"https://search.shopping.naver.com/book/search?query=%EB%82%A0%EC%94%A8\" onclick=\"return goOtherCR(this,'a=tab*B.jmp&amp;r=12&amp;i=&amp;u='+urlencode(this.href));\" role=\"tab\" target=\"_blank\">도서</a>, <a aria-selected=\"false\" class=\"tab\" href=\"https://terms.naver.com/search.naver?query=%EB%82%A0%EC%94%A8\" onclick=\"return goOtherCR(this,'a=tab*K.jmp&amp;r=13&amp;i=&amp;u='+urlencode(this.href));\" role=\"tab\" target=\"_blank\">지식백과</a>, <a aria-selected=\"false\" class=\"tab\" href=\"https://academic.naver.com/search.naver?field=0&amp;query=%EB%82%A0%EC%94%A8\" onclick=\"return goOtherCR(this,'a=tab*a.jmp&amp;r=14&amp;i=&amp;u='+urlencode(this.href));\" role=\"tab\" target=\"_blank\">학술정보</a>, <a aria-selected=\"true\" class=\"tab\" href=\"?ssc=tab.nx.all&amp;where=nexearch&amp;sm=tab_jum&amp;query=%EB%82%A0%EC%94%A8\" onclick=\"return goOtherCR(this,'a=tmr*N.now&amp;r=1&amp;i=&amp;u='+urlencode(this.href));\" role=\"tab\"><i class=\"spnew2 ico_nav_all\"></i>전체</a>, <a aria-selected=\"false\" class=\"tab\" href=\"?ssc=tab.blog.all&amp;sm=tab_jum&amp;query=%EB%82%A0%EC%94%A8\" onclick=\"return goOtherCR(this,'a=tmr*b.jmp&amp;r=2&amp;i=&amp;u='+urlencode(this.href));\" role=\"tab\"><i class=\"spnew2 ico_nav_blog\"></i>블로그</a>, <a aria-selected=\"false\" class=\"tab\" href=\"?ssc=tab.cafe.all&amp;sm=tab_jum&amp;query=%EB%82%A0%EC%94%A8\" onclick=\"return goOtherCR(this,'a=tmr*c.jmp&amp;r=3&amp;i=&amp;u='+urlencode(this.href));\" role=\"tab\"><i class=\"spnew2 ico_nav_cafe\"></i>카페</a>, <a aria-selected=\"false\" class=\"tab\" href=\"?ssc=tab.image.all&amp;where=image&amp;sm=tab_jum&amp;query=%EB%82%A0%EC%94%A8\" onclick=\"return goOtherCR(this,'a=tmr*i.jmp&amp;r=4&amp;i=&amp;u='+urlencode(this.href));\" role=\"tab\"><i class=\"spnew2 ico_nav_image\"></i>이미지</a>, <a aria-selected=\"false\" class=\"tab\" href=\"?ssc=tab.kin.kqna&amp;where=kin&amp;sm=tab_jum&amp;query=%EB%82%A0%EC%94%A8\" onclick=\"return goOtherCR(this,'a=tmr*k.jmp&amp;r=5&amp;i=&amp;u='+urlencode(this.href));\" role=\"tab\"><i class=\"spnew2 ico_nav_kin\"></i>지식iN</a>, <a aria-selected=\"false\" class=\"tab\" href=\"?ssc=tab.influencer.chl&amp;where=influencer&amp;sm=tab_jum&amp;query=%EB%82%A0%EC%94%A8\" onclick=\"return goOtherCR(this,'a=tmr*F.jmp&amp;r=6&amp;i=&amp;u='+urlencode(this.href));\" role=\"tab\"><i class=\"spnew2 ico_nav_inf\"></i>인플루언서</a>, <a aria-selected=\"false\" class=\"tab\" href=\"?ssc=tab.video.all&amp;where=video&amp;sm=tab_jum&amp;query=%EB%82%A0%EC%94%A8\" onclick=\"return goOtherCR(this,'a=tmr*v.jmp&amp;r=7&amp;i=&amp;u='+urlencode(this.href));\" role=\"tab\"><i class=\"spnew2 ico_nav_video\"></i>동영상</a>, <a aria-selected=\"false\" class=\"tab\" href=\"https://search.shopping.naver.com/search/all?where=all&amp;frm=NVSCTAB&amp;query=%EB%82%A0%EC%94%A8\" onclick=\"return goOtherCR(this,'a=tmr*S.jmp&amp;r=8&amp;i=&amp;u='+urlencode(this.href));\" role=\"tab\" target=\"_blank\"><i class=\"spnew2 ico_nav_shop\"></i>쇼핑</a>, <a aria-selected=\"false\" class=\"tab\" href=\"?ssc=tab.news.all&amp;where=news&amp;sm=tab_jum&amp;query=%EB%82%A0%EC%94%A8\" onclick=\"return goOtherCR(this,'a=tmr*n.jmp&amp;r=9&amp;i=&amp;u='+urlencode(this.href));\" role=\"tab\"><i class=\"spnew2 ico_nav_news\"></i>뉴스</a>, <a aria-selected=\"false\" class=\"tab\" href=\"?ssc=tab.shortents.all&amp;sm=tab_jum&amp;query=%EB%82%A0%EC%94%A8\" onclick=\"return goOtherCR(this,'a=tmr*d.jmp&amp;r=10&amp;i=&amp;u='+urlencode(this.href));\" role=\"tab\"><i class=\"spnew2 ico_nav_shortents\"></i>숏텐츠</a>, <a aria-selected=\"false\" class=\"tab\" href=\"https://dict.naver.com/dict.search?query=%EB%82%A0%EC%94%A8&amp;from=tsearch\" onclick=\"return goOtherCR(this,'a=tmr*L.jmp&amp;r=11&amp;i=&amp;u='+urlencode(this.href));\" role=\"tab\" target=\"_blank\"><i class=\"spnew2 ico_nav_dic\"></i>어학사전</a>, <a aria-selected=\"false\" class=\"tab\" href=\"https://map.naver.com/v5/search/%EB%82%A0%EC%94%A8\" onclick=\"return goOtherCR(this,'a=tmr*M.jmp&amp;r=12&amp;i=&amp;u='+urlencode(this.href));\" role=\"tab\" target=\"_blank\"><i class=\"spnew2 ico_nav_map\"></i>지도</a>, <a aria-selected=\"false\" class=\"tab\" href=\"https://search.shopping.naver.com/book/search?query=%EB%82%A0%EC%94%A8\" onclick=\"return goOtherCR(this,'a=tmr*B.jmp&amp;r=13&amp;i=&amp;u='+urlencode(this.href));\" role=\"tab\" target=\"_blank\"><i class=\"spnew2 ico_nav_book\"></i>도서</a>, <a aria-selected=\"false\" class=\"tab\" href=\"https://terms.naver.com/search.naver?query=%EB%82%A0%EC%94%A8\" onclick=\"return goOtherCR(this,'a=tmr*K.jmp&amp;r=14&amp;i=&amp;u='+urlencode(this.href));\" role=\"tab\" target=\"_blank\"><i class=\"spnew2 ico_nav_kindic\"></i>지식백과</a>, <a aria-selected=\"false\" class=\"tab\" href=\"https://academic.naver.com/search.naver?field=0&amp;query=%EB%82%A0%EC%94%A8\" onclick=\"return goOtherCR(this,'a=tmr*a.jmp&amp;r=15&amp;i=&amp;u='+urlencode(this.href));\" role=\"tab\" target=\"_blank\"><i class=\"spnew2 ico_nav_academic\"></i>학술정보</a>]\n"
     ]
    },
    {
     "data": {
      "text/plain": [
       "'블로그'"
      ]
     },
     "execution_count": 79,
     "metadata": {},
     "output_type": "execute_result"
    }
   ],
   "source": [
    "# a태그 중에서 tab이라는 class만 가져오는 방법\n",
    "soup.select('a.tab')\n",
    "# 인덱스로 특정 요소 만 가져오고, 태그를 없애고 contents만 가져오겠다.\n",
    "soup.select('a.tab')[0].text\n",
    "# select_one을 사용하는 방법\n",
    "soup.select_one('a.tab:contains(\"블로그\")').text"
   ]
  },
  {
   "cell_type": "markdown",
   "metadata": {},
   "source": [
    "### 데이터 수집 실습\n",
    "- 네이버에서 현재 온도 데이터 수집"
   ]
  },
  {
   "cell_type": "code",
   "execution_count": null,
   "metadata": {},
   "outputs": [
    {
     "name": "stdout",
     "output_type": "stream",
     "text": [
      "<Response [200]>\n"
     ]
    },
    {
     "data": {
      "text/plain": [
       "'현재 온도3.5°'"
      ]
     },
     "execution_count": 90,
     "metadata": {},
     "output_type": "execute_result"
    }
   ],
   "source": [
    "url = 'https://search.naver.com/search.naver?where=nexearch&sm=top_sug.pre&fbm=0&acr=1&acq=%EB%82%98&qdt=0&ie=utf8&query=%EB%82%A0%EC%94%A8'\n",
    "res = req.get(url)\n",
    "print(res)\n",
    "soup = bs(res.text, 'lxml')\n",
    "soup.select('div.temperature_text')[0].text\n",
    "soup.select_one('strong:contains(\"현재 온도\")').text"
   ]
  }
 ],
 "metadata": {
  "kernelspec": {
   "display_name": "base",
   "language": "python",
   "name": "python3"
  },
  "language_info": {
   "codemirror_mode": {
    "name": "ipython",
    "version": 3
   },
   "file_extension": ".py",
   "mimetype": "text/x-python",
   "name": "python",
   "nbconvert_exporter": "python",
   "pygments_lexer": "ipython3",
   "version": "3.12.7"
  }
 },
 "nbformat": 4,
 "nbformat_minor": 2
}
