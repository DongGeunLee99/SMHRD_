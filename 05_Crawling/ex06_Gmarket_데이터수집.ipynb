{
 "cells": [
  {
   "cell_type": "markdown",
   "metadata": {},
   "source": [
    "### Gmarket 사이트의 베스트 상품을 수집해보자\n",
    "- 상품명, 가격, 카테고리를 수집해보자"
   ]
  },
  {
   "cell_type": "markdown",
   "metadata": {},
   "source": [
    "- 지마켓 페이지에서 python 코드로 접근하는 것을 눈치챘다\n",
    "- 페이지가 눈치채지 못하도록 숨어서 접근해보자\n",
    "-  !pip install undetected-chromedriver"
   ]
  },
  {
   "cell_type": "code",
   "execution_count": 1,
   "metadata": {},
   "outputs": [],
   "source": [
    "import time\n",
    "import pandas as pd\n",
    "from bs4 import BeautifulSoup as bs\n",
    "from selenium import webdriver as wb\n",
    "from selenium.webdriver.common.by import By\n",
    "from selenium.webdriver.common.keys import Keys \n",
    "from selenium.webdriver.chrome.service import Service\n",
    "from webdriver_manager.chrome import ChromeDriverManager\n",
    "\n",
    "\n",
    "import undetected_chromedriver as uc"
   ]
  },
  {
   "cell_type": "code",
   "execution_count": 2,
   "metadata": {},
   "outputs": [],
   "source": [
    "driver = uc.Chrome()\n",
    "driver.get('https://www.gmarket.co.kr/n/best')"
   ]
  },
  {
   "cell_type": "code",
   "execution_count": 6,
   "metadata": {},
   "outputs": [
    {
     "ename": "ElementClickInterceptedException",
     "evalue": "Message: element click intercepted: Element <span class=\"box__label-rank\">...</span> is not clickable at point (50, 16). Other element would receive the click: <div class=\"box__head-content\">...</div>\n  (Session info: chrome=133.0.6943.99)\nStacktrace:\n\tGetHandleVerifier [0x008202D3+25139]\n\t(No symbol) [0x007AB284]\n\t(No symbol) [0x006804A3]\n\t(No symbol) [0x006CE5D0]\n\t(No symbol) [0x006CC984]\n\t(No symbol) [0x006CA517]\n\t(No symbol) [0x006C97D4]\n\t(No symbol) [0x006BDE55]\n\t(No symbol) [0x006ECF3C]\n\t(No symbol) [0x006BD8E4]\n\t(No symbol) [0x006ED1B4]\n\t(No symbol) [0x0070E6E1]\n\t(No symbol) [0x006ECD36]\n\t(No symbol) [0x006BBD29]\n\t(No symbol) [0x006BD064]\n\tGetHandleVerifier [0x00B2B193+3215603]\n\tGetHandleVerifier [0x00B4230A+3310186]\n\tGetHandleVerifier [0x00B3C522+3286146]\n\tGetHandleVerifier [0x008B9CD0+654384]\n\t(No symbol) [0x007B460D]\n\t(No symbol) [0x007B14F8]\n\t(No symbol) [0x007B1697]\n\t(No symbol) [0x007A3D70]\n\tBaseThreadInitThunk [0x75AFFCC9+25]\n\tRtlGetAppContainerNamedObjectPath [0x77A382AE+286]\n\tRtlGetAppContainerNamedObjectPath [0x77A3827E+238]\n",
     "output_type": "error",
     "traceback": [
      "\u001b[1;31m---------------------------------------------------------------------------\u001b[0m",
      "\u001b[1;31mElementClickInterceptedException\u001b[0m          Traceback (most recent call last)",
      "Cell \u001b[1;32mIn[6], line 2\u001b[0m\n\u001b[0;32m      1\u001b[0m pro_1 \u001b[38;5;241m=\u001b[39m driver\u001b[38;5;241m.\u001b[39mfind_elements(By\u001b[38;5;241m.\u001b[39mCSS_SELECTOR, \u001b[38;5;124m'\u001b[39m\u001b[38;5;124mspan.box__label-rank\u001b[39m\u001b[38;5;124m'\u001b[39m)\n\u001b[1;32m----> 2\u001b[0m pro_1[\u001b[38;5;241m0\u001b[39m]\u001b[38;5;241m.\u001b[39mclick()\n",
      "File \u001b[1;32mc:\\Users\\smhrd\\anaconda3\\Lib\\site-packages\\selenium\\webdriver\\remote\\webelement.py:119\u001b[0m, in \u001b[0;36mWebElement.click\u001b[1;34m(self)\u001b[0m\n\u001b[0;32m    111\u001b[0m \u001b[38;5;28;01mdef\u001b[39;00m \u001b[38;5;21mclick\u001b[39m(\u001b[38;5;28mself\u001b[39m) \u001b[38;5;241m-\u001b[39m\u001b[38;5;241m>\u001b[39m \u001b[38;5;28;01mNone\u001b[39;00m:\n\u001b[0;32m    112\u001b[0m \u001b[38;5;250m    \u001b[39m\u001b[38;5;124;03m\"\"\"Clicks the element.\u001b[39;00m\n\u001b[0;32m    113\u001b[0m \n\u001b[0;32m    114\u001b[0m \u001b[38;5;124;03m    Example:\u001b[39;00m\n\u001b[1;32m   (...)\u001b[0m\n\u001b[0;32m    117\u001b[0m \u001b[38;5;124;03m    >>> element.click()\u001b[39;00m\n\u001b[0;32m    118\u001b[0m \u001b[38;5;124;03m    \"\"\"\u001b[39;00m\n\u001b[1;32m--> 119\u001b[0m     \u001b[38;5;28mself\u001b[39m\u001b[38;5;241m.\u001b[39m_execute(Command\u001b[38;5;241m.\u001b[39mCLICK_ELEMENT)\n",
      "File \u001b[1;32mc:\\Users\\smhrd\\anaconda3\\Lib\\site-packages\\selenium\\webdriver\\remote\\webelement.py:570\u001b[0m, in \u001b[0;36mWebElement._execute\u001b[1;34m(self, command, params)\u001b[0m\n\u001b[0;32m    568\u001b[0m     params \u001b[38;5;241m=\u001b[39m {}\n\u001b[0;32m    569\u001b[0m params[\u001b[38;5;124m\"\u001b[39m\u001b[38;5;124mid\u001b[39m\u001b[38;5;124m\"\u001b[39m] \u001b[38;5;241m=\u001b[39m \u001b[38;5;28mself\u001b[39m\u001b[38;5;241m.\u001b[39m_id\n\u001b[1;32m--> 570\u001b[0m \u001b[38;5;28;01mreturn\u001b[39;00m \u001b[38;5;28mself\u001b[39m\u001b[38;5;241m.\u001b[39m_parent\u001b[38;5;241m.\u001b[39mexecute(command, params)\n",
      "File \u001b[1;32mc:\\Users\\smhrd\\anaconda3\\Lib\\site-packages\\selenium\\webdriver\\remote\\webdriver.py:429\u001b[0m, in \u001b[0;36mWebDriver.execute\u001b[1;34m(self, driver_command, params)\u001b[0m\n\u001b[0;32m    427\u001b[0m response \u001b[38;5;241m=\u001b[39m \u001b[38;5;28mself\u001b[39m\u001b[38;5;241m.\u001b[39mcommand_executor\u001b[38;5;241m.\u001b[39mexecute(driver_command, params)\n\u001b[0;32m    428\u001b[0m \u001b[38;5;28;01mif\u001b[39;00m response:\n\u001b[1;32m--> 429\u001b[0m     \u001b[38;5;28mself\u001b[39m\u001b[38;5;241m.\u001b[39merror_handler\u001b[38;5;241m.\u001b[39mcheck_response(response)\n\u001b[0;32m    430\u001b[0m     response[\u001b[38;5;124m\"\u001b[39m\u001b[38;5;124mvalue\u001b[39m\u001b[38;5;124m\"\u001b[39m] \u001b[38;5;241m=\u001b[39m \u001b[38;5;28mself\u001b[39m\u001b[38;5;241m.\u001b[39m_unwrap_value(response\u001b[38;5;241m.\u001b[39mget(\u001b[38;5;124m\"\u001b[39m\u001b[38;5;124mvalue\u001b[39m\u001b[38;5;124m\"\u001b[39m, \u001b[38;5;28;01mNone\u001b[39;00m))\n\u001b[0;32m    431\u001b[0m     \u001b[38;5;28;01mreturn\u001b[39;00m response\n",
      "File \u001b[1;32mc:\\Users\\smhrd\\anaconda3\\Lib\\site-packages\\selenium\\webdriver\\remote\\errorhandler.py:232\u001b[0m, in \u001b[0;36mErrorHandler.check_response\u001b[1;34m(self, response)\u001b[0m\n\u001b[0;32m    230\u001b[0m         alert_text \u001b[38;5;241m=\u001b[39m value[\u001b[38;5;124m\"\u001b[39m\u001b[38;5;124malert\u001b[39m\u001b[38;5;124m\"\u001b[39m]\u001b[38;5;241m.\u001b[39mget(\u001b[38;5;124m\"\u001b[39m\u001b[38;5;124mtext\u001b[39m\u001b[38;5;124m\"\u001b[39m)\n\u001b[0;32m    231\u001b[0m     \u001b[38;5;28;01mraise\u001b[39;00m exception_class(message, screen, stacktrace, alert_text)  \u001b[38;5;66;03m# type: ignore[call-arg]  # mypy is not smart enough here\u001b[39;00m\n\u001b[1;32m--> 232\u001b[0m \u001b[38;5;28;01mraise\u001b[39;00m exception_class(message, screen, stacktrace)\n",
      "\u001b[1;31mElementClickInterceptedException\u001b[0m: Message: element click intercepted: Element <span class=\"box__label-rank\">...</span> is not clickable at point (50, 16). Other element would receive the click: <div class=\"box__head-content\">...</div>\n  (Session info: chrome=133.0.6943.99)\nStacktrace:\n\tGetHandleVerifier [0x008202D3+25139]\n\t(No symbol) [0x007AB284]\n\t(No symbol) [0x006804A3]\n\t(No symbol) [0x006CE5D0]\n\t(No symbol) [0x006CC984]\n\t(No symbol) [0x006CA517]\n\t(No symbol) [0x006C97D4]\n\t(No symbol) [0x006BDE55]\n\t(No symbol) [0x006ECF3C]\n\t(No symbol) [0x006BD8E4]\n\t(No symbol) [0x006ED1B4]\n\t(No symbol) [0x0070E6E1]\n\t(No symbol) [0x006ECD36]\n\t(No symbol) [0x006BBD29]\n\t(No symbol) [0x006BD064]\n\tGetHandleVerifier [0x00B2B193+3215603]\n\tGetHandleVerifier [0x00B4230A+3310186]\n\tGetHandleVerifier [0x00B3C522+3286146]\n\tGetHandleVerifier [0x008B9CD0+654384]\n\t(No symbol) [0x007B460D]\n\t(No symbol) [0x007B14F8]\n\t(No symbol) [0x007B1697]\n\t(No symbol) [0x007A3D70]\n\tBaseThreadInitThunk [0x75AFFCC9+25]\n\tRtlGetAppContainerNamedObjectPath [0x77A382AE+286]\n\tRtlGetAppContainerNamedObjectPath [0x77A3827E+238]\n"
     ]
    }
   ],
   "source": [
    "pro_1 = driver.find_elements(By.CSS_SELECTOR, 'span.box__label-rank')\n",
    "pro_1[0].click()\n",
    "# print(len(pro_1))"
   ]
  },
  {
   "cell_type": "code",
   "execution_count": 5,
   "metadata": {},
   "outputs": [],
   "source": [
    "suop = bs(driver.page_source, 'lxml')\n",
    "na = suop.select('h1.itemtit')\n",
    "pr = suop.select('strong.price_real')\n",
    "ca = suop.select('li.on')"
   ]
  },
  {
   "cell_type": "code",
   "execution_count": 6,
   "metadata": {},
   "outputs": [
    {
     "name": "stdout",
     "output_type": "stream",
     "text": [
      "갤럭시북4 NT750XGR i5 시리즈 최종가49만 인텔CPU 가성비노트북 대학생노트북 재택근무 강의용노트북 \n",
      "719,000원\n"
     ]
    },
    {
     "data": {
      "text/plain": [
       "'노트북'"
      ]
     },
     "execution_count": 6,
     "metadata": {},
     "output_type": "execute_result"
    }
   ],
   "source": [
    "print(na[0].text)\n",
    "\n",
    "print(pr[0].text)\n",
    "\n",
    "asd = ca[0].text.strip()\n",
    "asd[:asd.find('\\n')]"
   ]
  },
  {
   "cell_type": "code",
   "execution_count": 11,
   "metadata": {},
   "outputs": [],
   "source": [
    "driver.back()"
   ]
  },
  {
   "cell_type": "code",
   "execution_count": 1,
   "metadata": {},
   "outputs": [
    {
     "name": "stdout",
     "output_type": "stream",
     "text": [
      "['(로사네집) 하루한장 예비초등 국어 수학 ', '(신선집중) 10%/ 항공직송 고당도 생블루베리 빅사이즈 125g 4+1 총 5팩 (2/19일 단하루 행사) ', '(신선집중) 20% / 국내산 부산 손질 자반 고등어 대 10마리 대짜 310g 이상 간고등어 천일염 ', '미니멜츠 구슬 아이스크림 4종 18개 골라담기/솜사탕딸기레인보우초코 ', '(사은품증정)베베쥬 15+10%쿠폰/봄 신상 오픈특가/겨울 클리어런스/전 상품 무배 ', '(무료반품+20%쿠폰) 요즘에 마지막 세일/봄신상/청바지/기모바지/면바지/밴딩바지/티셔츠 ', '국내산 제육볶음 고추장불고기 한돈1등급 300gx5팩 이지팩 진공소포장 ', '20%/ 일상식품 두번삶은 탱돌이 메추리알장조림 1kg x 2봉 ', '따풀 / 따라하면 풀리는 초등수학 ', '(봄패션페스티벌 최대혜택) 무료배송 + 30%할인 푸마/네파/카파 봄꽃샘추위대비 5900원부터 ', '온더바디 코튼풋 발을씻자 풋샴푸 자몽 385ml 2개+리필 500ml 2개 ', '플루크 10% 쿠폰 FW 신상 맨투맨 후드티 피그먼트 패딩 FW 신상 초특가 + 클리어런스 초특가 ', '(15%할인쿠폰)예스플러스_여성 순면팬티 10매세트/빅사이즈 추가/Cotton/여성팬티/여자팬티 ', '(신선집중) 특등급 새청무 쌀10kg 밥맛좋은 단일품종 쌀 ', '에뛰드 님프광채 볼류머컨실러 기획세트 ', '(끝장세일) 마데카솔 연고 2개 + 스팟패치 선택 베스트셀러 / 1등연고 마데카솔 개학 신학기 필수상처케어템 ', '한정수량 메종오브제 도자기 클리어런스 2900원부터~모두 무료배송 ', '(신선집중) 이츠웰 맛있는 냉동 블루베리 1kgx3개 외 4개/5개 옵션선택 ', '스너글 섬유유연제 대용량 4L + 2L 2개 + 캡슐세제 4P 증정 ', '스너글 섬유유연제 대용량 4L + 2L 2개 + 캡슐세제 4P 증정 ']\n",
      "['12,000원', '9,990원', '24,080원', '16,900원', '11,200원', '19,900원', '12,600원', '15,890원', '23,050원', '21,420원', '19,900원', '18,900원', '16,900원', '28,500원', '11,500원', '11,250원', '4,870원', '24,200원', '31,900원', '31,900원']\n",
      "['초등참고서', '블루베리', '고등어', '아이스크림', '유아동티셔츠', '스트레이트핏', '돼지고기양념육', '조림반찬류', '초등참고서', '골프점퍼', '바디케어', '라운드넥반팔티', '요일팬티/세트', '백미', '메이크업베이스', '상처소독제/연고', '접시', '아이스블루베리', '섬유유연제', '섬유유연제']\n"
     ]
    }
   ],
   "source": [
    "import time\n",
    "import pandas as pd\n",
    "from bs4 import BeautifulSoup as bs\n",
    "from selenium import webdriver as wb\n",
    "from selenium.webdriver.common.by import By\n",
    "from selenium.webdriver.common.keys import Keys \n",
    "from selenium.webdriver.chrome.service import Service\n",
    "from webdriver_manager.chrome import ChromeDriverManager\n",
    "\n",
    "import undetected_chromedriver as uc\n",
    "\n",
    "\n",
    "title_list = []\n",
    "price_list = []\n",
    "cate_list = []\n",
    "\n",
    "driver = uc.Chrome()\n",
    "driver.get('https://www.gmarket.co.kr/n/best')\n",
    "\n",
    "for i in range(20):\n",
    "    pro_1 = driver.find_elements(By.CSS_SELECTOR, 'span.box__label-rank')\n",
    "    pro_1[i].click()\n",
    "    suop = bs(driver.page_source, 'lxml')\n",
    "    na = suop.select('h1.itemtit')\n",
    "    pr = suop.select('strong.price_real')\n",
    "    ca = suop.select('li.on')\n",
    "\n",
    "    asd = ca[0].text.strip()\n",
    "    asd = asd[:asd.find('\\n')]\n",
    "    # print(a[0].text)\n",
    "    # print(s[0].text)\n",
    "    # print(asd)\n",
    "    title_list.append(na[0].text)\n",
    "    price_list.append(pr[0].text)\n",
    "    cate_list.append(asd)\n",
    "    driver.back()\n",
    "    time.sleep(2)\n",
    "print(title_list)\n",
    "print(price_list)\n",
    "print(cate_list)\n"
   ]
  },
  {
   "cell_type": "code",
   "execution_count": null,
   "metadata": {},
   "outputs": [
    {
     "data": {
      "text/html": [
       "<div>\n",
       "<style scoped>\n",
       "    .dataframe tbody tr th:only-of-type {\n",
       "        vertical-align: middle;\n",
       "    }\n",
       "\n",
       "    .dataframe tbody tr th {\n",
       "        vertical-align: top;\n",
       "    }\n",
       "\n",
       "    .dataframe thead th {\n",
       "        text-align: right;\n",
       "    }\n",
       "</style>\n",
       "<table border=\"1\" class=\"dataframe\">\n",
       "  <thead>\n",
       "    <tr style=\"text-align: right;\">\n",
       "      <th></th>\n",
       "      <th>이름</th>\n",
       "      <th>가격</th>\n",
       "      <th>카테고리</th>\n",
       "    </tr>\n",
       "  </thead>\n",
       "  <tbody>\n",
       "    <tr>\n",
       "      <th>0</th>\n",
       "      <td>(로사네집) 하루한장 예비초등 국어 수학</td>\n",
       "      <td>12,000원</td>\n",
       "      <td>초등참고서</td>\n",
       "    </tr>\n",
       "    <tr>\n",
       "      <th>1</th>\n",
       "      <td>(신선집중) 10%/ 항공직송 고당도 생블루베리 빅사이즈 125g 4+1 총 5팩 ...</td>\n",
       "      <td>9,990원</td>\n",
       "      <td>블루베리</td>\n",
       "    </tr>\n",
       "    <tr>\n",
       "      <th>2</th>\n",
       "      <td>(신선집중) 20% / 국내산 부산 손질 자반 고등어 대 10마리 대짜 310g 이...</td>\n",
       "      <td>24,080원</td>\n",
       "      <td>고등어</td>\n",
       "    </tr>\n",
       "    <tr>\n",
       "      <th>3</th>\n",
       "      <td>미니멜츠 구슬 아이스크림 4종 18개 골라담기/솜사탕딸기레인보우초코</td>\n",
       "      <td>16,900원</td>\n",
       "      <td>아이스크림</td>\n",
       "    </tr>\n",
       "    <tr>\n",
       "      <th>4</th>\n",
       "      <td>(사은품증정)베베쥬 15+10%쿠폰/봄 신상 오픈특가/겨울 클리어런스/전 상품 무배</td>\n",
       "      <td>11,200원</td>\n",
       "      <td>유아동티셔츠</td>\n",
       "    </tr>\n",
       "    <tr>\n",
       "      <th>5</th>\n",
       "      <td>(무료반품+20%쿠폰) 요즘에 마지막 세일/봄신상/청바지/기모바지/면바지/밴딩바지/...</td>\n",
       "      <td>19,900원</td>\n",
       "      <td>스트레이트핏</td>\n",
       "    </tr>\n",
       "    <tr>\n",
       "      <th>6</th>\n",
       "      <td>국내산 제육볶음 고추장불고기 한돈1등급 300gx5팩 이지팩 진공소포장</td>\n",
       "      <td>12,600원</td>\n",
       "      <td>돼지고기양념육</td>\n",
       "    </tr>\n",
       "    <tr>\n",
       "      <th>7</th>\n",
       "      <td>20%/ 일상식품 두번삶은 탱돌이 메추리알장조림 1kg x 2봉</td>\n",
       "      <td>15,890원</td>\n",
       "      <td>조림반찬류</td>\n",
       "    </tr>\n",
       "    <tr>\n",
       "      <th>8</th>\n",
       "      <td>따풀 / 따라하면 풀리는 초등수학</td>\n",
       "      <td>23,050원</td>\n",
       "      <td>초등참고서</td>\n",
       "    </tr>\n",
       "    <tr>\n",
       "      <th>9</th>\n",
       "      <td>(봄패션페스티벌 최대혜택) 무료배송 + 30%할인 푸마/네파/카파 봄꽃샘추위대비 5...</td>\n",
       "      <td>21,420원</td>\n",
       "      <td>골프점퍼</td>\n",
       "    </tr>\n",
       "    <tr>\n",
       "      <th>10</th>\n",
       "      <td>온더바디 코튼풋 발을씻자 풋샴푸 자몽 385ml 2개+리필 500ml 2개</td>\n",
       "      <td>19,900원</td>\n",
       "      <td>바디케어</td>\n",
       "    </tr>\n",
       "    <tr>\n",
       "      <th>11</th>\n",
       "      <td>플루크 10% 쿠폰 FW 신상 맨투맨 후드티 피그먼트 패딩 FW 신상 초특가 + 클...</td>\n",
       "      <td>18,900원</td>\n",
       "      <td>라운드넥반팔티</td>\n",
       "    </tr>\n",
       "    <tr>\n",
       "      <th>12</th>\n",
       "      <td>(15%할인쿠폰)예스플러스_여성 순면팬티 10매세트/빅사이즈 추가/Cotton/여성...</td>\n",
       "      <td>16,900원</td>\n",
       "      <td>요일팬티/세트</td>\n",
       "    </tr>\n",
       "    <tr>\n",
       "      <th>13</th>\n",
       "      <td>(신선집중) 특등급 새청무 쌀10kg 밥맛좋은 단일품종 쌀</td>\n",
       "      <td>28,500원</td>\n",
       "      <td>백미</td>\n",
       "    </tr>\n",
       "    <tr>\n",
       "      <th>14</th>\n",
       "      <td>에뛰드 님프광채 볼류머컨실러 기획세트</td>\n",
       "      <td>11,500원</td>\n",
       "      <td>메이크업베이스</td>\n",
       "    </tr>\n",
       "    <tr>\n",
       "      <th>15</th>\n",
       "      <td>(끝장세일) 마데카솔 연고 2개 + 스팟패치 선택 베스트셀러 / 1등연고 마데카솔 ...</td>\n",
       "      <td>11,250원</td>\n",
       "      <td>상처소독제/연고</td>\n",
       "    </tr>\n",
       "    <tr>\n",
       "      <th>16</th>\n",
       "      <td>한정수량 메종오브제 도자기 클리어런스 2900원부터~모두 무료배송</td>\n",
       "      <td>4,870원</td>\n",
       "      <td>접시</td>\n",
       "    </tr>\n",
       "    <tr>\n",
       "      <th>17</th>\n",
       "      <td>(신선집중) 이츠웰 맛있는 냉동 블루베리 1kgx3개 외 4개/5개 옵션선택</td>\n",
       "      <td>24,200원</td>\n",
       "      <td>아이스블루베리</td>\n",
       "    </tr>\n",
       "    <tr>\n",
       "      <th>18</th>\n",
       "      <td>스너글 섬유유연제 대용량 4L + 2L 2개 + 캡슐세제 4P 증정</td>\n",
       "      <td>31,900원</td>\n",
       "      <td>섬유유연제</td>\n",
       "    </tr>\n",
       "    <tr>\n",
       "      <th>19</th>\n",
       "      <td>스너글 섬유유연제 대용량 4L + 2L 2개 + 캡슐세제 4P 증정</td>\n",
       "      <td>31,900원</td>\n",
       "      <td>섬유유연제</td>\n",
       "    </tr>\n",
       "  </tbody>\n",
       "</table>\n",
       "</div>"
      ],
      "text/plain": [
       "                                                   이름       가격      카테고리\n",
       "0                             (로사네집) 하루한장 예비초등 국어 수학   12,000원     초등참고서\n",
       "1   (신선집중) 10%/ 항공직송 고당도 생블루베리 빅사이즈 125g 4+1 총 5팩 ...   9,990원      블루베리\n",
       "2   (신선집중) 20% / 국내산 부산 손질 자반 고등어 대 10마리 대짜 310g 이...  24,080원       고등어\n",
       "3              미니멜츠 구슬 아이스크림 4종 18개 골라담기/솜사탕딸기레인보우초코   16,900원     아이스크림\n",
       "4     (사은품증정)베베쥬 15+10%쿠폰/봄 신상 오픈특가/겨울 클리어런스/전 상품 무배   11,200원    유아동티셔츠\n",
       "5   (무료반품+20%쿠폰) 요즘에 마지막 세일/봄신상/청바지/기모바지/면바지/밴딩바지/...  19,900원    스트레이트핏\n",
       "6            국내산 제육볶음 고추장불고기 한돈1등급 300gx5팩 이지팩 진공소포장   12,600원   돼지고기양념육\n",
       "7                20%/ 일상식품 두번삶은 탱돌이 메추리알장조림 1kg x 2봉   15,890원     조림반찬류\n",
       "8                                 따풀 / 따라하면 풀리는 초등수학   23,050원     초등참고서\n",
       "9   (봄패션페스티벌 최대혜택) 무료배송 + 30%할인 푸마/네파/카파 봄꽃샘추위대비 5...  21,420원      골프점퍼\n",
       "10         온더바디 코튼풋 발을씻자 풋샴푸 자몽 385ml 2개+리필 500ml 2개   19,900원      바디케어\n",
       "11  플루크 10% 쿠폰 FW 신상 맨투맨 후드티 피그먼트 패딩 FW 신상 초특가 + 클...  18,900원   라운드넥반팔티\n",
       "12  (15%할인쿠폰)예스플러스_여성 순면팬티 10매세트/빅사이즈 추가/Cotton/여성...  16,900원   요일팬티/세트\n",
       "13                  (신선집중) 특등급 새청무 쌀10kg 밥맛좋은 단일품종 쌀   28,500원        백미\n",
       "14                              에뛰드 님프광채 볼류머컨실러 기획세트   11,500원   메이크업베이스\n",
       "15  (끝장세일) 마데카솔 연고 2개 + 스팟패치 선택 베스트셀러 / 1등연고 마데카솔 ...  11,250원  상처소독제/연고\n",
       "16              한정수량 메종오브제 도자기 클리어런스 2900원부터~모두 무료배송    4,870원        접시\n",
       "17        (신선집중) 이츠웰 맛있는 냉동 블루베리 1kgx3개 외 4개/5개 옵션선택   24,200원   아이스블루베리\n",
       "18             스너글 섬유유연제 대용량 4L + 2L 2개 + 캡슐세제 4P 증정   31,900원     섬유유연제\n",
       "19             스너글 섬유유연제 대용량 4L + 2L 2개 + 캡슐세제 4P 증정   31,900원     섬유유연제"
      ]
     },
     "execution_count": 2,
     "metadata": {},
     "output_type": "execute_result"
    }
   ],
   "source": [
    "dic ={'상품명' : title_list, '가격' : price_list, '카테고리' : cate_list}\n",
    "gmaket = pd.DataFrame(dic)\n",
    "gmaket.set_index('상품명', inplace=True)\n",
    "gmaket.to_csv('gmaket.csv', encoding='utf-8')\n",
    "gmaket"
   ]
  }
 ],
 "metadata": {
  "kernelspec": {
   "display_name": "base",
   "language": "python",
   "name": "python3"
  },
  "language_info": {
   "codemirror_mode": {
    "name": "ipython",
    "version": 3
   },
   "file_extension": ".py",
   "mimetype": "text/x-python",
   "name": "python",
   "nbconvert_exporter": "python",
   "pygments_lexer": "ipython3",
   "version": "3.12.7"
  }
 },
 "nbformat": 4,
 "nbformat_minor": 4
}
