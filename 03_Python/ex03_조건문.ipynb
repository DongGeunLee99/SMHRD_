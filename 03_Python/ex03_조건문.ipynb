{
 "cells": [
  {
   "cell_type": "markdown",
   "metadata": {},
   "source": [
    "## 1. if문 사용하기"
   ]
  },
  {
   "cell_type": "code",
   "execution_count": 1,
   "metadata": {},
   "outputs": [
    {
     "name": "stdout",
     "output_type": "stream",
     "text": [
      "if 문에 해당하는 실행 명령입니다!\n"
     ]
    }
   ],
   "source": [
    "if True:\n",
    "    print('if 문에 해당하는 실행 명령입니다!')"
   ]
  },
  {
   "cell_type": "code",
   "execution_count": 2,
   "metadata": {},
   "outputs": [
    {
     "name": "stdout",
     "output_type": "stream",
     "text": [
      "성인입니다.\n",
      "판별 종료\n"
     ]
    }
   ],
   "source": [
    "age = 20\n",
    "if age >= 20:\n",
    "    print(\"성인입니다.\")\n",
    "else:\n",
    "    print(\"미성년자입니다.\")\n",
    "\n",
    "\n",
    "print(\"판별 종료\")\n"
   ]
  },
  {
   "cell_type": "code",
   "execution_count": 4,
   "metadata": {},
   "outputs": [
    {
     "name": "stdout",
     "output_type": "stream",
     "text": [
      "버스 탑승!!\n",
      "목적지 도착!\n"
     ]
    }
   ],
   "source": [
    "money = int(input(\"금액 입력 >>  \"))\n",
    "if money >= 5000:\n",
    "    print(\"택시 탑승!!\")\n",
    "else:\n",
    "    print(\"버스 탑승!!\")\n",
    "\n",
    "print(\"목적지 도착!\")\n"
   ]
  },
  {
   "cell_type": "code",
   "execution_count": 7,
   "metadata": {},
   "outputs": [
    {
     "name": "stdout",
     "output_type": "stream",
     "text": [
      "50점은 F학점 입니다.\n"
     ]
    }
   ],
   "source": [
    "score = int(input(\"점수 입력 >>\"))\n",
    "if score <= 100 and score >= 90:\n",
    "    print(f\"{score}점은 A학점 입니다.\")\n",
    "elif score <= 90 and score >= 80:\n",
    "    print(f\"{score}점은 B학점 입니다.\")\n",
    "elif score <= 80 and score >= 70:\n",
    "    print(f\"{score}점은 C학점 입니다.\")\n",
    "elif score <= 70 and score >= 60:\n",
    "    print(f\"{score}점은 D학점 입니다.\")\n",
    "else:\n",
    "    print(f\"{score}점은 F학점 입니다.\")\n"
   ]
  },
  {
   "cell_type": "code",
   "execution_count": null,
   "metadata": {},
   "outputs": [],
   "source": []
  }
 ],
 "metadata": {
  "kernelspec": {
   "display_name": "base",
   "language": "python",
   "name": "python3"
  },
  "language_info": {
   "codemirror_mode": {
    "name": "ipython",
    "version": 3
   },
   "file_extension": ".py",
   "mimetype": "text/x-python",
   "name": "python",
   "nbconvert_exporter": "python",
   "pygments_lexer": "ipython3",
   "version": "3.12.7"
  }
 },
 "nbformat": 4,
 "nbformat_minor": 2
}
