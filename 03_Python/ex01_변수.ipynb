{
 "cells": [
  {
   "cell_type": "markdown",
   "id": "2e383e29-b193-4010-9f16-4f0d3adafcad",
   "metadata": {},
   "source": [
    "### 1. 문자열"
   ]
  },
  {
   "cell_type": "code",
   "execution_count": 1,
   "id": "1b384bb3-e7e2-4ff2-8dc9-42126ae977bf",
   "metadata": {},
   "outputs": [
    {
     "data": {
      "text/plain": [
       "'안녕하세요'"
      ]
     },
     "execution_count": 1,
     "metadata": {},
     "output_type": "execute_result"
    }
   ],
   "source": [
    "s1 = '안녕하세요'\n",
    "s1"
   ]
  },
  {
   "cell_type": "code",
   "execution_count": 2,
   "id": "3eb0a7d3-164f-4e0f-9985-34890256bb82",
   "metadata": {},
   "outputs": [
    {
     "data": {
      "text/plain": [
       "'반갑습니다'"
      ]
     },
     "execution_count": 2,
     "metadata": {},
     "output_type": "execute_result"
    }
   ],
   "source": [
    "s2 = \"반갑습니다\"\n",
    "s2"
   ]
  },
  {
   "cell_type": "code",
   "execution_count": 3,
   "id": "b920bf8d-5b3f-4156-ad1b-7df91df0e343",
   "metadata": {},
   "outputs": [
    {
     "data": {
      "text/plain": [
       "'오늘은 눈이 많이 오네요'"
      ]
     },
     "execution_count": 3,
     "metadata": {},
     "output_type": "execute_result"
    }
   ],
   "source": [
    "s3 = '''오늘은 눈이 많이 오네요'''\n",
    "s3"
   ]
  },
  {
   "cell_type": "code",
   "execution_count": 4,
   "id": "12a48058-2400-4422-a51b-9d6a9994144c",
   "metadata": {},
   "outputs": [],
   "source": [
    "#  python의 키워드를 확인하는 방법\n",
    "import keyword"
   ]
  },
  {
   "cell_type": "code",
   "execution_count": 5,
   "id": "5841f417-fc77-4a24-b8d5-50c7ea8a7b40",
   "metadata": {},
   "outputs": [
    {
     "name": "stdout",
     "output_type": "stream",
     "text": [
      "['False', 'None', 'True', 'and', 'as', 'assert', 'async', 'await', 'break', 'class', 'continue', 'def', 'del', 'elif', 'else', 'except', 'finally', 'for', 'from', 'global', 'if', 'import', 'in', 'is', 'lambda', 'nonlocal', 'not', 'or', 'pass', 'raise', 'return', 'try', 'while', 'with', 'yield']\n"
     ]
    }
   ],
   "source": [
    "print(keyword.kwlist)"
   ]
  },
  {
   "cell_type": "markdown",
   "id": "5d19d31c-a300-45a7-9d53-2691a97d934b",
   "metadata": {},
   "source": [
    "### 2. 인덱스와 슬라이싱"
   ]
  },
  {
   "cell_type": "code",
   "execution_count": 6,
   "id": "de87d9f6-602a-46b5-9a93-f5ba94288878",
   "metadata": {},
   "outputs": [
    {
     "data": {
      "text/plain": [
       "'python'"
      ]
     },
     "execution_count": 6,
     "metadata": {},
     "output_type": "execute_result"
    }
   ],
   "source": [
    "str1 = 'python'\n",
    "str1"
   ]
  },
  {
   "cell_type": "code",
   "execution_count": 7,
   "id": "61699d6d-4521-40c9-8945-20bbb9942a8c",
   "metadata": {},
   "outputs": [
    {
     "name": "stdout",
     "output_type": "stream",
     "text": [
      "t\n",
      "thon3\n",
      "th\n"
     ]
    }
   ],
   "source": [
    "str2 = 'python3'\n",
    "print(str2[2])\n",
    "print(str2[2:])\n",
    "print(str2[2:4])"
   ]
  },
  {
   "cell_type": "markdown",
   "id": "41c3f5a7-c6dc-40f6-943e-ecf96627c15d",
   "metadata": {},
   "source": [
    "### 3. 문자열 포멧팅"
   ]
  },
  {
   "cell_type": "code",
   "execution_count": 8,
   "id": "fcae7a6d-25c5-4c5d-944c-42e4b528e44b",
   "metadata": {},
   "outputs": [],
   "source": [
    "month = 2\n",
    "day = 4"
   ]
  },
  {
   "cell_type": "code",
   "execution_count": 9,
   "id": "57419bc2-1cd2-4a0b-a34d-57f023ae8b0a",
   "metadata": {},
   "outputs": [
    {
     "data": {
      "text/plain": [
       "'오늘은 2월 4일 입니다.'"
      ]
     },
     "execution_count": 9,
     "metadata": {},
     "output_type": "execute_result"
    }
   ],
   "source": [
    "# 1. % 사용\n",
    "s = '오늘은 %d월 %d일 입니다.'%(month, day)\n",
    "s"
   ]
  },
  {
   "cell_type": "code",
   "execution_count": 10,
   "id": "58962a00-7410-4f16-8833-f0e9572e9f87",
   "metadata": {},
   "outputs": [
    {
     "data": {
      "text/plain": [
       "'오늘은 2월 4일 입니다'"
      ]
     },
     "execution_count": 10,
     "metadata": {},
     "output_type": "execute_result"
    }
   ],
   "source": [
    "# 2. format() 함수 사용!\n",
    "s1 = '오늘은 {}월 {}일 입니다'.format(month, day)\n",
    "s1"
   ]
  },
  {
   "cell_type": "code",
   "execution_count": 11,
   "id": "81854356-b51f-427e-bceb-053e4c99478c",
   "metadata": {},
   "outputs": [
    {
     "data": {
      "text/plain": [
       "'오늘은 2월 4일 입니다'"
      ]
     },
     "execution_count": 11,
     "metadata": {},
     "output_type": "execute_result"
    }
   ],
   "source": [
    "# 3. f-string 문법\n",
    "s2 = f'오늘은 {month}월 {day}일 입니다'\n",
    "s2"
   ]
  },
  {
   "cell_type": "code",
   "execution_count": 12,
   "id": "7adb97a7-c907-4862-8764-bd302be8066c",
   "metadata": {},
   "outputs": [
    {
     "data": {
      "text/plain": [
       "6"
      ]
     },
     "execution_count": 12,
     "metadata": {},
     "output_type": "execute_result"
    }
   ],
   "source": [
    "# 문자열 함수 사용해 보기!\n",
    "# 문자열의 길이를 확인하는 함수! len()\n",
    "len(str1)"
   ]
  },
  {
   "cell_type": "code",
   "execution_count": 13,
   "id": "cc73b533-bf98-4d4c-ab21-ff0ac2ec9af2",
   "metadata": {},
   "outputs": [
    {
     "data": {
      "text/plain": [
       "1"
      ]
     },
     "execution_count": 13,
     "metadata": {},
     "output_type": "execute_result"
    }
   ],
   "source": [
    "# 문자열에 포함된 문자 갯수 세는 함수 count()\n",
    "str2 = \"Hello world\"\n",
    "str2.count(\"e\")"
   ]
  },
  {
   "cell_type": "code",
   "execution_count": 14,
   "id": "81fd751c-fc88-4555-a2ea-dbda9eb259f1",
   "metadata": {},
   "outputs": [
    {
     "data": {
      "text/plain": [
       "4"
      ]
     },
     "execution_count": 14,
     "metadata": {},
     "output_type": "execute_result"
    }
   ],
   "source": [
    "# 문자의 인덱스 값을 찾는 함수 find()\n",
    "# 찾을 수 없는 문자일 경우 -1 값을 리턴\n",
    "str2.find(\"o\")"
   ]
  },
  {
   "cell_type": "code",
   "execution_count": 15,
   "id": "b881092f-ea66-4324-ab08-27c352057b45",
   "metadata": {},
   "outputs": [
    {
     "data": {
      "text/plain": [
       "6"
      ]
     },
     "execution_count": 15,
     "metadata": {},
     "output_type": "execute_result"
    }
   ],
   "source": [
    "# 문자의 위치를 찾을 수 있는 또 다른 함수 index()\n",
    "# index() 함수는 찾지 못할 경우 오류 발생\n",
    "str2.index(\"w\")"
   ]
  }
 ],
 "metadata": {
  "kernelspec": {
   "display_name": "Python [conda env:base] *",
   "language": "python",
   "name": "conda-base-py"
  },
  "language_info": {
   "codemirror_mode": {
    "name": "ipython",
    "version": 3
   },
   "file_extension": ".py",
   "mimetype": "text/x-python",
   "name": "python",
   "nbconvert_exporter": "python",
   "pygments_lexer": "ipython3",
   "version": "3.12.7"
  }
 },
 "nbformat": 4,
 "nbformat_minor": 5
}
