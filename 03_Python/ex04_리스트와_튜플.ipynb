{
 "cells": [
  {
   "cell_type": "markdown",
   "id": "c63c9524-553f-4408-a7f4-aab64093acc5",
   "metadata": {},
   "source": [
    "## 1. 리스트 생성하기"
   ]
  },
  {
   "cell_type": "code",
   "execution_count": 4,
   "id": "a15a31c8",
   "metadata": {},
   "outputs": [
    {
     "name": "stdout",
     "output_type": "stream",
     "text": [
      "[1, '홍길동', 3.14, True]\n",
      "['a', 'b', 'c', 'd', 'e']\n"
     ]
    }
   ],
   "source": [
    "# 자바의 배열/리스트 : 같은 타입의 데이터만 관리할 수 있다.\n",
    "# 파이썬의 리스트 : 다양한 타입의 데이터를 관리할 수 있다.\n",
    "list1 = [1, 2, 3, 4, 5]\n",
    "list2 = [1, \"홍길동\", 3.14, True]\n",
    "list3 = [\"a\", \"b\", \"c\", \"d\", \"e\"]\n",
    "list4 = [1, 2, 3, [\"a\", \"b\", \"c\"]]\n"
   ]
  },
  {
   "cell_type": "markdown",
   "id": "d0e03ad7",
   "metadata": {},
   "source": [
    "## 2. 리스트의 인덱싱과 슬라이싱"
   ]
  },
  {
   "cell_type": "code",
   "execution_count": 8,
   "id": "f2a9ba10",
   "metadata": {},
   "outputs": [
    {
     "data": {
      "text/plain": [
       "[2, 5, 7, 9, 10]"
      ]
     },
     "execution_count": 8,
     "metadata": {},
     "output_type": "execute_result"
    }
   ],
   "source": [
    "# 위치 값을 가지고 있으므로 인덱싱이 가능하다!\n",
    "list1 = [2, 5, 7, 9, 10]\n",
    "list2 = [1, 2, 3, [\"a\", \"b\", \"c\"]]\n",
    "list3 = list1 + list2\n",
    "print(list1[0])\n",
    "print(list1[0] + list1[1])\n",
    "print(list2[3][1])\n",
    "print(list3)"
   ]
  },
  {
   "cell_type": "markdown",
   "id": "73b91a56",
   "metadata": {},
   "source": [
    "## 3. 리스트 활용하기"
   ]
  },
  {
   "cell_type": "code",
   "execution_count": 34,
   "id": "75b88878",
   "metadata": {},
   "outputs": [
    {
     "data": {
      "text/plain": [
       "[1, 2, 3, 4]"
      ]
     },
     "execution_count": 34,
     "metadata": {},
     "output_type": "execute_result"
    }
   ],
   "source": [
    "# 1. 리스트에 요소 추가하기\n",
    "list1 = [1, 2, 3, 4]\n",
    "print(list1)\n",
    "list1.append(5)\n",
    "print(list1)"
   ]
  },
  {
   "cell_type": "code",
   "execution_count": 36,
   "id": "79abb8e3",
   "metadata": {},
   "outputs": [
    {
     "data": {
      "text/plain": [
       "[0, 1, 2, 3, 4, 5]"
      ]
     },
     "execution_count": 36,
     "metadata": {},
     "output_type": "execute_result"
    }
   ],
   "source": [
    "# 2. 리스트 요소 추가 방법 -> 원하는 위치에 추가하는 방법\n",
    "# insert(idx, data)\n",
    "list1.insert(0, 0)\n",
    "print(list1)"
   ]
  },
  {
   "cell_type": "code",
   "execution_count": 38,
   "id": "c6a9f977",
   "metadata": {},
   "outputs": [
    {
     "name": "stdout",
     "output_type": "stream",
     "text": [
      "[8, 1, 2, 3, 4, 5]\n"
     ]
    },
    {
     "data": {
      "text/plain": [
       "[0, 0, 0, 2, 3, 4, 5]"
      ]
     },
     "execution_count": 38,
     "metadata": {},
     "output_type": "execute_result"
    }
   ],
   "source": [
    "# 3. 리스트 요소의 값 수정 > 인덱스 위치에 새로운 값 대입\n",
    "list1[0] = 8\n",
    "print(list1)\n",
    "list1[0:2] = 0,0,0\n",
    "print(list1)"
   ]
  },
  {
   "cell_type": "code",
   "execution_count": 39,
   "id": "3b99ea44",
   "metadata": {},
   "outputs": [
    {
     "data": {
      "text/plain": [
       "[0, 0, 2, 3, 4, 5]"
      ]
     },
     "execution_count": 39,
     "metadata": {},
     "output_type": "execute_result"
    }
   ],
   "source": [
    "# 4. 리스트의 값을 삭제하는 방법\n",
    "# > del(idx), remove(data)\n",
    "list1 = [1, 2, 3, 4]\n",
    "del list1[0]\n",
    "print(list1)\n",
    "\n",
    "list1 = [1, 2, 3, 4]\n",
    "list1.remove(0)\n",
    "print(list1)"
   ]
  },
  {
   "cell_type": "code",
   "execution_count": 48,
   "id": "03ab0f8f",
   "metadata": {},
   "outputs": [
    {
     "name": "stdout",
     "output_type": "stream",
     "text": [
      "[1, 2, 5, 5, 7]\n"
     ]
    }
   ],
   "source": [
    "# sort() : 데이터의 값을 오름차순으로 정렬하는 함수\n",
    "# list1.sort() = [2, 5, 7, 1, 5]\n",
    "list1 = sorted([2, 5, 7, 1, 5])\n",
    "print(list1)"
   ]
  },
  {
   "cell_type": "markdown",
   "id": "50748a64",
   "metadata": {},
   "source": [
    "## 4. 튜플 사용하기"
   ]
  },
  {
   "cell_type": "code",
   "execution_count": 54,
   "id": "f37771d9",
   "metadata": {},
   "outputs": [
    {
     "data": {
      "text/plain": [
       "tuple"
      ]
     },
     "execution_count": 54,
     "metadata": {},
     "output_type": "execute_result"
    }
   ],
   "source": [
    "tuple1 = (0, 1, 2, 3, (\"a\", \"b\", \"c\"), 4, 5)\n",
    "type(tuple1)"
   ]
  },
  {
   "cell_type": "code",
   "execution_count": 60,
   "id": "939fb9cc",
   "metadata": {},
   "outputs": [
    {
     "name": "stdout",
     "output_type": "stream",
     "text": [
      "검색한 a는 존재하지 않습니다.\n"
     ]
    }
   ],
   "source": [
    "# 과일을 검색하면 몇번째에 존재하는지 인덱스를 반환하는 기능 생성\n",
    "# 1. 과일 리스트 생성\n",
    "list1 = [\"사과\",\"딸기\",\"포도\",\"바나나\",\"복숭아\"]\n",
    "\n",
    "# 2. 과일을 입력할 수 있는 기능 생성\n",
    "serach = input(\"과일 입력 >>\")\n",
    "\n",
    "if serach in list1:\n",
    "    print(f\"검색한 {serach}는 {list1.index(serach)}번째 인덱스에 존재합니다.\")\n",
    "else:\n",
    "    print(\"검색한 {}는 존재하지 않습니다.\".format(serach))"
   ]
  }
 ],
 "metadata": {
  "kernelspec": {
   "display_name": "base",
   "language": "python",
   "name": "python3"
  },
  "language_info": {
   "codemirror_mode": {
    "name": "ipython",
    "version": 3
   },
   "file_extension": ".py",
   "mimetype": "text/x-python",
   "name": "python",
   "nbconvert_exporter": "python",
   "pygments_lexer": "ipython3",
   "version": "3.12.7"
  }
 },
 "nbformat": 4,
 "nbformat_minor": 5
}
