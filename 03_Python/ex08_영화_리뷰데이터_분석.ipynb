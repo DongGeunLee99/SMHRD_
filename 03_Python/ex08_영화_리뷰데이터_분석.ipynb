{
 "cells": [
  {
   "cell_type": "code",
   "execution_count": 5,
   "metadata": {},
   "outputs": [],
   "source": [
    "import pickle"
   ]
  },
  {
   "cell_type": "code",
   "execution_count": 6,
   "metadata": {},
   "outputs": [],
   "source": [
    "with open('./data/movie_review.pkl', 'rb') as f:\n",
    "    data = pickle.load(f)"
   ]
  },
  {
   "cell_type": "code",
   "execution_count": null,
   "metadata": {},
   "outputs": [],
   "source": [
    "data"
   ]
  },
  {
   "cell_type": "code",
   "execution_count": null,
   "metadata": {},
   "outputs": [],
   "source": [
    "data[0]"
   ]
  },
  {
   "cell_type": "markdown",
   "metadata": {},
   "source": [
    "## 1. 전체 데이터 개수 확인"
   ]
  },
  {
   "cell_type": "code",
   "execution_count": null,
   "metadata": {},
   "outputs": [],
   "source": [
    "# 리스트의 전체 갯수 확인\n",
    "len(data)"
   ]
  },
  {
   "cell_type": "markdown",
   "metadata": {},
   "source": [
    "## 2. 리뷰 길이 평균 값"
   ]
  },
  {
   "cell_type": "code",
   "execution_count": null,
   "metadata": {},
   "outputs": [],
   "source": [
    "data[0][0]"
   ]
  },
  {
   "cell_type": "code",
   "execution_count": null,
   "metadata": {},
   "outputs": [],
   "source": [
    "# 반복작업을 통하여 전체 data 내용에서 리뷰에 해당하는 데이터만 가져오기\n",
    "for str1 in data:\n",
    "    print(len(str1[0]))"
   ]
  },
  {
   "cell_type": "code",
   "execution_count": null,
   "metadata": {},
   "outputs": [],
   "source": [
    "sum = 0\n",
    "\n",
    "for srt1 in data:\n",
    "    sum += len(srt1[0])\n",
    "print(sum)\n",
    "sum/5000\n"
   ]
  },
  {
   "cell_type": "markdown",
   "metadata": {},
   "source": [
    "### 리뷰의 가장 긴 길이와 가장 짥은 길이 수와 해당 리뷰 출력"
   ]
  },
  {
   "cell_type": "code",
   "execution_count": null,
   "metadata": {},
   "outputs": [],
   "source": [
    "# 1. 최대 길이의 리뷰 찾아보기\n",
    "max_num = 0\n",
    "max_review = \"\"\n",
    "for str1 in data:\n",
    "    if max_num < len(str1[0]):\n",
    "        max_num = len(str1[0])\n",
    "        max_review = str1[0]\n",
    "print(\"가장 긴 리뷰의 글자 수는 {} 이며, \".format(max_num))\n",
    "print(\"내용은 {}\".format(max_review))"
   ]
  },
  {
   "cell_type": "code",
   "execution_count": null,
   "metadata": {},
   "outputs": [],
   "source": [
    "# 2. 최소 길이의 리뷰 찾아보기\n",
    "min_num = len(data[0][0])\n",
    "min_review = \"\"\n",
    "for str1 in data:\n",
    "    if min_num > len(str1[0]):\n",
    "        min_num = len(str1[0])\n",
    "        min_review = str1[0]\n",
    "print(\"가장 짧은 리뷰의 글자 수는 {} 이며, \".format(min_num))\n",
    "print(\"내용은 {}\".format(min_review))"
   ]
  }
 ],
 "metadata": {
  "kernelspec": {
   "display_name": "base",
   "language": "python",
   "name": "python3"
  },
  "language_info": {
   "codemirror_mode": {
    "name": "ipython",
    "version": 3
   },
   "file_extension": ".py",
   "mimetype": "text/x-python",
   "name": "python",
   "nbconvert_exporter": "python",
   "pygments_lexer": "ipython3",
   "version": "3.12.7"
  }
 },
 "nbformat": 4,
 "nbformat_minor": 2
}
