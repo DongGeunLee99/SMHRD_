{
 "cells": [
  {
   "cell_type": "markdown",
   "metadata": {},
   "source": [
    "## 1. 산술연산자"
   ]
  },
  {
   "cell_type": "code",
   "execution_count": 33,
   "metadata": {},
   "outputs": [
    {
     "name": "stdout",
     "output_type": "stream",
     "text": [
      "n1 = 10, n2 = 20\n"
     ]
    }
   ],
   "source": [
    "n1, n2 = 10, 20\n",
    "print(f\"n1 = {n1}, n2 = {n2}\")"
   ]
  },
  {
   "cell_type": "code",
   "execution_count": 34,
   "metadata": {},
   "outputs": [
    {
     "name": "stdout",
     "output_type": "stream",
     "text": [
      "200\n"
     ]
    }
   ],
   "source": [
    "print(n1*n2)"
   ]
  },
  {
   "cell_type": "code",
   "execution_count": 35,
   "metadata": {},
   "outputs": [
    {
     "name": "stdout",
     "output_type": "stream",
     "text": [
      "n1 / n2 = 0.5\n",
      "n1 // n2 = 0\n",
      "n1 % n2 = 10\n",
      "<class 'float'>\n",
      "<class 'int'>\n"
     ]
    }
   ],
   "source": [
    "# /, // > 나누기에 대한 몫을 나타내는 연산자\n",
    "print(f\"n1 / n2 = {n1 / n2}\")\n",
    "print(f\"n1 // n2 = {n1 // n2}\")\n",
    "\n",
    "# % > 나누기에 대한 나머지를 나타내는 연산자\n",
    "print(f\"n1 % n2 = {n1 % n2}\")\n",
    "\n",
    "print(type(n1/n2))\n",
    "print(type(n1//n2))"
   ]
  },
  {
   "cell_type": "markdown",
   "metadata": {},
   "source": [
    "## 2. 문자 입력하기"
   ]
  },
  {
   "cell_type": "code",
   "execution_count": 34,
   "metadata": {},
   "outputs": [
    {
     "name": "stdout",
     "output_type": "stream",
     "text": [
      "입력한 정수는 12입니다.\n",
      "<class 'int'>\n"
     ]
    }
   ],
   "source": [
    "in_num = input(\"정수를 입력하세요 : \")\n",
    "if in_num.isdigit():\n",
    "    in_num = int(in_num)\n",
    "    print(f\"입력한 정수는 {in_num} 입니다.\")\n",
    "else:\n",
    "    print(\"정수가 아닙니다.\")\n",
    "print(type(in_num))"
   ]
  },
  {
   "cell_type": "code",
   "execution_count": 42,
   "metadata": {},
   "outputs": [
    {
     "name": "stdout",
     "output_type": "stream",
     "text": [
      " 10\n",
      " 5\n"
     ]
    },
    {
     "name": "stdout",
     "output_type": "stream",
     "text": [
      "15\n"
     ]
    }
   ],
   "source": [
    "data1 = int(input())\n",
    "data2 = int(input())\n",
    "total = data1 + data2\n",
    "print(total)"
   ]
  },
  {
   "cell_type": "code",
   "execution_count": 35,
   "metadata": {},
   "outputs": [
    {
     "name": "stdout",
     "output_type": "stream",
     "text": [
      "5시간 33분 20초\n"
     ]
    }
   ],
   "source": [
    "time = int(input(\"시간입력 >>\"))\n",
    "hour = time // 3600\n",
    "minute = (time % 3600) // 60\n",
    "second = time % 60\n",
    "print(f\"{hour}시간 {minute}분 {second}초\")"
   ]
  },
  {
   "cell_type": "code",
   "execution_count": 5,
   "metadata": {},
   "outputs": [
    {
     "name": "stdout",
     "output_type": "stream",
     "text": [
      "2의 3승은 8입니다.\n"
     ]
    }
   ],
   "source": [
    "num = int(input(\"정수 입력 >>\"))\n",
    "power = int(input(\"지수 입력 >>\"))\n",
    "print(f\"{num}의 {power}승은 {num**power}입니다.\")"
   ]
  },
  {
   "cell_type": "markdown",
   "metadata": {},
   "source": [
    "## 3. 삼항 연산자\n",
    "문법 : True if 조건 else False\n"
   ]
  },
  {
   "cell_type": "code",
   "execution_count": 45,
   "metadata": {},
   "outputs": [
    {
     "name": "stdout",
     "output_type": "stream",
     "text": [
      "사용자는 미성년자 입니다.\n"
     ]
    }
   ],
   "source": [
    "# 사용자로 부터 나이값을 입력받아\n",
    "# 성인인지 아닌지를 판단하는 삼항 연산자 사용\n",
    "age = int(input(\"나이 입력 >>\"))\n",
    "result = \"성인\" if age >= 20 else \"미성년자\"\n",
    "print(\"사용자는 {} 입니다.\".format(result))\n",
    "\n",
    "# 사용자로 부터 점수를 입력받아\n",
    "# 합격인지 불합격인지를 판단하는 삼항 연산자 사용"
   ]
  },
  {
   "cell_type": "code",
   "execution_count": 10,
   "metadata": {},
   "outputs": [
    {
     "name": "stdout",
     "output_type": "stream",
     "text": [
      "33은 홀수입니다\n"
     ]
    }
   ],
   "source": [
    "num = int(input(\"정수 입력\"))\n",
    "print(\"{}은 {}입니다\".format(num, \"홀수\" if num % 2 == 1 else \"짝수\"))"
   ]
  }
 ],
 "metadata": {
  "kernelspec": {
   "display_name": "base",
   "language": "python",
   "name": "python3"
  },
  "language_info": {
   "codemirror_mode": {
    "name": "ipython",
    "version": 3
   },
   "file_extension": ".py",
   "mimetype": "text/x-python",
   "name": "python",
   "nbconvert_exporter": "python",
   "pygments_lexer": "ipython3",
   "version": "3.12.7"
  }
 },
 "nbformat": 4,
 "nbformat_minor": 4
}
