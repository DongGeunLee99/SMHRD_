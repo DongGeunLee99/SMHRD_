{
 "cells": [
  {
   "cell_type": "code",
   "execution_count": 5,
   "metadata": {},
   "outputs": [],
   "source": [
    "import numpy as np"
   ]
  },
  {
   "cell_type": "code",
   "execution_count": null,
   "metadata": {},
   "outputs": [],
   "source": [
    "# 데이터 가져오기\n",
    "data = np.genfromtxt('./data/ratings.dat', delimiter='::', dtype='int')\n",
    "data"
   ]
  },
  {
   "cell_type": "markdown",
   "metadata": {},
   "source": [
    "1열 : 사용자의 아이디<br>\n",
    "2열 : 영화의 아이디<br>\n",
    "3열 : 영화의 평점<br>\n",
    "4열 : 관객 스탬프 -> 영화 개봉 일자"
   ]
  },
  {
   "cell_type": "markdown",
   "metadata": {},
   "source": [
    "#### 분석 내용 : 사용자 아이디별 평균 평점이 얼마인가?"
   ]
  },
  {
   "cell_type": "code",
   "execution_count": null,
   "metadata": {},
   "outputs": [],
   "source": [
    "# 데이터 구성 확인하기 작업 ! -> 차원? 전체요소? 데이터 타입?\n",
    "print(\"차원 : {}\".format(data.ndim))\n",
    "print(\"행, 열 : {}\".format(data.shape))\n",
    "print(\"전체 요소 : {}\".format(data.size))"
   ]
  },
  {
   "cell_type": "code",
   "execution_count": null,
   "metadata": {},
   "outputs": [],
   "source": [
    "# data에서 평점에 해당하는 인덱스 가져오기\n",
    "data[: , 2]"
   ]
  },
  {
   "cell_type": "code",
   "execution_count": null,
   "metadata": {},
   "outputs": [],
   "source": [
    "# data[:, 2]에서 사용자 아이디가 1번인 사람의 평점은 어떤걸까?\n",
    "# boolean 인덱싱\n",
    "# 1. data 전체에서 사용자 아이디에 해당하는 열만 가져오기\n",
    "data[:, 0]\n",
    "# 2. 사용자의 아이디를 중복을 제외하고 정리 -> .unique()\n",
    "user_id = np.unique(data[:, 0])\n",
    "user_id"
   ]
  },
  {
   "cell_type": "code",
   "execution_count": null,
   "metadata": {},
   "outputs": [],
   "source": [
    "# 1번 사용자에 대한 내용을 검색!\n",
    "user_id1 = data[data[:, 0] == 1]\n",
    "user_id1"
   ]
  },
  {
   "cell_type": "code",
   "execution_count": null,
   "metadata": {},
   "outputs": [],
   "source": [
    "# 1번 사용자의 데이터 모양 확인\n",
    "user_id1.shape"
   ]
  },
  {
   "cell_type": "code",
   "execution_count": null,
   "metadata": {},
   "outputs": [],
   "source": [
    "user_id1[:,2].mean()"
   ]
  },
  {
   "cell_type": "code",
   "execution_count": null,
   "metadata": {},
   "outputs": [],
   "source": [
    "# 1번 사용자부터 6040번에 해당하는 사용자들을 반복적으로 평균을 구할 수 있는 작업\n",
    "for i in user_id:\n",
    "    user_info = data[data[:, 0] == i]\n",
    "    user_grade = user_info[:,2].mean()\n",
    "    #print(data[data[:, 0] == i][:, 2].mean())\n",
    "    # print((data[data[:, 0] == i])[:, 2].mean())\n",
    "    if user_grade >= 4:\n",
    "        print(\"{}번 아이디의 평균 평점 : {}\".format(i, user_grade))    "
   ]
  }
 ],
 "metadata": {
  "kernelspec": {
   "display_name": "base",
   "language": "python",
   "name": "python3"
  },
  "language_info": {
   "codemirror_mode": {
    "name": "ipython",
    "version": 3
   },
   "file_extension": ".py",
   "mimetype": "text/x-python",
   "name": "python",
   "nbconvert_exporter": "python",
   "pygments_lexer": "ipython3",
   "version": "3.12.7"
  }
 },
 "nbformat": 4,
 "nbformat_minor": 2
}
