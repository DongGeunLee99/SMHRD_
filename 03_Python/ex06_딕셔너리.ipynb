{
 "cells": [
  {
   "cell_type": "code",
   "execution_count": 42,
   "metadata": {},
   "outputs": [],
   "source": [
    "dic1 = {'age': 20, 'birth': '11/18'}"
   ]
  },
  {
   "cell_type": "code",
   "execution_count": 43,
   "metadata": {},
   "outputs": [
    {
     "name": "stdout",
     "output_type": "stream",
     "text": [
      "age\n",
      "birth\n"
     ]
    }
   ],
   "source": [
    "for i in dic1.keys():\n",
    "    print(i)"
   ]
  },
  {
   "cell_type": "code",
   "execution_count": 44,
   "metadata": {},
   "outputs": [
    {
     "name": "stdout",
     "output_type": "stream",
     "text": [
      "20\n",
      "11/18\n"
     ]
    }
   ],
   "source": [
    "for i in dic1.values():\n",
    "    print(i)"
   ]
  },
  {
   "cell_type": "code",
   "execution_count": 45,
   "metadata": {},
   "outputs": [
    {
     "name": "stdout",
     "output_type": "stream",
     "text": [
      "age 20\n",
      "birth 11/18\n"
     ]
    }
   ],
   "source": [
    "for k, v in dic1.items():\n",
    "    print(k, v)"
   ]
  },
  {
   "cell_type": "code",
   "execution_count": null,
   "metadata": {},
   "outputs": [],
   "source": [
    "dic1['birth'] = '11/18'    # 새로운 키-값 추가\n",
    "dic1.update({'age': 21})   # 여러 항목 추가/수정"
   ]
  },
  {
   "cell_type": "code",
   "execution_count": 48,
   "metadata": {},
   "outputs": [
    {
     "name": "stdout",
     "output_type": "stream",
     "text": [
      "{'age': 21, 'birth': '11/18'}\n"
     ]
    }
   ],
   "source": [
    "# 값 가져오기\n",
    "dic1.get('name')          # 키로 값 가져오기 (키가 없으면 None 반환)\n",
    "dic1.get('phone', '없음') # 키가 없을 때 기본값 지정\n",
    "\n",
    "'name' in dic1  # booldan으로 반환\n",
    "print(dic1)"
   ]
  },
  {
   "cell_type": "code",
   "execution_count": 49,
   "metadata": {},
   "outputs": [
    {
     "name": "stdout",
     "output_type": "stream",
     "text": [
      "{'age': 21, 'birth': '01/18'}\n"
     ]
    }
   ],
   "source": [
    "dic1['birth'] = '01/18'    # 새로운 키-값 추가\n",
    "print(dic1)"
   ]
  },
  {
   "cell_type": "code",
   "execution_count": null,
   "metadata": {},
   "outputs": [],
   "source": [
    "# 삭제\n",
    "# dic1.pop('age')\n",
    "# dic1.clear()"
   ]
  }
 ],
 "metadata": {
  "kernelspec": {
   "display_name": "base",
   "language": "python",
   "name": "python3"
  },
  "language_info": {
   "codemirror_mode": {
    "name": "ipython",
    "version": 3
   },
   "file_extension": ".py",
   "mimetype": "text/x-python",
   "name": "python",
   "nbconvert_exporter": "python",
   "pygments_lexer": "ipython3",
   "version": "3.12.7"
  }
 },
 "nbformat": 4,
 "nbformat_minor": 2
}
