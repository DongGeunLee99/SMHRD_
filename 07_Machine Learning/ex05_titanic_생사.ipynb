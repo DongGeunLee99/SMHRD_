{
 "cells": [
  {
   "cell_type": "markdown",
   "metadata": {},
   "source": [
    "## 목표\n",
    "- 타이타닉 데이터를 학습하여 생존자/사망자를 예측해보자\n",
    "- 머신러닝 전체 과정을 숙지해보자"
   ]
  },
  {
   "cell_type": "markdown",
   "metadata": {},
   "source": [
    "### 1. 문제 정의\n",
    "- 생존자/사망자를 예측해보자\n",
    "- kaggle에서 높은 순위"
   ]
  },
  {
   "cell_type": "markdown",
   "metadata": {},
   "source": [
    "### 2. 데이터 수집\n",
    "- kaggle 에서 제공하는 train 데이터와 test 데이터 사용"
   ]
  },
  {
   "cell_type": "code",
   "execution_count": 1,
   "metadata": {},
   "outputs": [],
   "source": [
    "import numpy as np\n",
    "import pandas as pd\n",
    "import matplotlib.pyplot as plt\n",
    "import seaborn as sns"
   ]
  },
  {
   "cell_type": "code",
   "execution_count": 2,
   "metadata": {},
   "outputs": [],
   "source": [
    "train = pd.read_csv('./data/train.csv', index_col='PassengerId')\n",
    "test = pd.read_csv('./data/test.csv', index_col='PassengerId')"
   ]
  },
  {
   "cell_type": "code",
   "execution_count": 3,
   "metadata": {},
   "outputs": [
    {
     "name": "stdout",
     "output_type": "stream",
     "text": [
      "훈련 데이터 크기 :  (891, 11)\n",
      "테스트 데이터 크기 :  (418, 10)\n"
     ]
    }
   ],
   "source": [
    "# 크기확인\n",
    "print('훈련 데이터 크기 : ',train.shape) # 컬럼에 생존 여부 있음 (11)\n",
    "print('테스트 데이터 크기 : ',test.shape) # 컬럼에 생존 여부 없음 (10)"
   ]
  },
  {
   "cell_type": "markdown",
   "metadata": {},
   "source": [
    "### 3. 데이터 전처리 및 데이터 탐색 (EDA)"
   ]
  },
  {
   "cell_type": "code",
   "execution_count": 4,
   "metadata": {},
   "outputs": [
    {
     "name": "stdout",
     "output_type": "stream",
     "text": [
      "<class 'pandas.core.frame.DataFrame'>\n",
      "Index: 891 entries, 1 to 891\n",
      "Data columns (total 11 columns):\n",
      " #   Column    Non-Null Count  Dtype  \n",
      "---  ------    --------------  -----  \n",
      " 0   Survived  891 non-null    int64  \n",
      " 1   Pclass    891 non-null    int64  \n",
      " 2   Name      891 non-null    object \n",
      " 3   Sex       891 non-null    object \n",
      " 4   Age       714 non-null    float64\n",
      " 5   SibSp     891 non-null    int64  \n",
      " 6   Parch     891 non-null    int64  \n",
      " 7   Ticket    891 non-null    object \n",
      " 8   Fare      891 non-null    float64\n",
      " 9   Cabin     204 non-null    object \n",
      " 10  Embarked  889 non-null    object \n",
      "dtypes: float64(2), int64(4), object(5)\n",
      "memory usage: 83.5+ KB\n",
      "\n",
      "\n",
      "<class 'pandas.core.frame.DataFrame'>\n",
      "Index: 418 entries, 892 to 1309\n",
      "Data columns (total 10 columns):\n",
      " #   Column    Non-Null Count  Dtype  \n",
      "---  ------    --------------  -----  \n",
      " 0   Pclass    418 non-null    int64  \n",
      " 1   Name      418 non-null    object \n",
      " 2   Sex       418 non-null    object \n",
      " 3   Age       332 non-null    float64\n",
      " 4   SibSp     418 non-null    int64  \n",
      " 5   Parch     418 non-null    int64  \n",
      " 6   Ticket    418 non-null    object \n",
      " 7   Fare      417 non-null    float64\n",
      " 8   Cabin     91 non-null     object \n",
      " 9   Embarked  418 non-null    object \n",
      "dtypes: float64(2), int64(3), object(5)\n",
      "memory usage: 35.9+ KB\n"
     ]
    }
   ],
   "source": [
    "train.info() # 답 데이터 Survived, 결측치 Age, Cabin, Embarked\n",
    "print()\n",
    "print()\n",
    "test.info() # 결측치 Age, Fare, Cabin"
   ]
  },
  {
   "cell_type": "code",
   "execution_count": 5,
   "metadata": {},
   "outputs": [
    {
     "data": {
      "text/plain": [
       "Index(['Survived', 'Pclass', 'Name', 'Sex', 'Age', 'SibSp', 'Parch', 'Ticket',\n",
       "       'Fare', 'Cabin', 'Embarked'],\n",
       "      dtype='object')"
      ]
     },
     "execution_count": 5,
     "metadata": {},
     "output_type": "execute_result"
    }
   ],
   "source": [
    "train.columns\n",
    "\n",
    "# 'Survived', 생존/사망 결과 값이 당긴 컬럼 (0:사망, 1:생존)\n",
    "# 'Pclass', 승객 등급(1:상위층, 2:중상위층, 3:하위층)\n",
    "# 'Name', \n",
    "# 'Sex', \n",
    "# 'Age', \n",
    "# 'SibSp', 형제자매/배우자의 수 (같이 탑승한) \n",
    "# 'Parch', 부모/자식의 수 (같이 탑승한)\n",
    "# 'Ticket', 티켓 번호\n",
    "# 'Fare', 요금\n",
    "# 'Cabin', 객실 번호\n",
    "# 'Embarked' 승선항(S, C, Q)"
   ]
  },
  {
   "cell_type": "markdown",
   "metadata": {},
   "source": [
    "- train : Embarked 컬럼 결측치 채우기"
   ]
  },
  {
   "cell_type": "code",
   "execution_count": 6,
   "metadata": {},
   "outputs": [
    {
     "name": "stdout",
     "output_type": "stream",
     "text": [
      "Embarked\n",
      "S      644\n",
      "C      168\n",
      "Q       77\n",
      "NaN      2\n",
      "Name: count, dtype: int64\n"
     ]
    },
    {
     "data": {
      "text/html": [
       "<div>\n",
       "<style scoped>\n",
       "    .dataframe tbody tr th:only-of-type {\n",
       "        vertical-align: middle;\n",
       "    }\n",
       "\n",
       "    .dataframe tbody tr th {\n",
       "        vertical-align: top;\n",
       "    }\n",
       "\n",
       "    .dataframe thead th {\n",
       "        text-align: right;\n",
       "    }\n",
       "</style>\n",
       "<table border=\"1\" class=\"dataframe\">\n",
       "  <thead>\n",
       "    <tr style=\"text-align: right;\">\n",
       "      <th></th>\n",
       "      <th>Survived</th>\n",
       "      <th>Pclass</th>\n",
       "      <th>Name</th>\n",
       "      <th>Sex</th>\n",
       "      <th>Age</th>\n",
       "      <th>SibSp</th>\n",
       "      <th>Parch</th>\n",
       "      <th>Ticket</th>\n",
       "      <th>Fare</th>\n",
       "      <th>Cabin</th>\n",
       "      <th>Embarked</th>\n",
       "    </tr>\n",
       "    <tr>\n",
       "      <th>PassengerId</th>\n",
       "      <th></th>\n",
       "      <th></th>\n",
       "      <th></th>\n",
       "      <th></th>\n",
       "      <th></th>\n",
       "      <th></th>\n",
       "      <th></th>\n",
       "      <th></th>\n",
       "      <th></th>\n",
       "      <th></th>\n",
       "      <th></th>\n",
       "    </tr>\n",
       "  </thead>\n",
       "  <tbody>\n",
       "    <tr>\n",
       "      <th>62</th>\n",
       "      <td>1</td>\n",
       "      <td>1</td>\n",
       "      <td>Icard, Miss. Amelie</td>\n",
       "      <td>female</td>\n",
       "      <td>38.0</td>\n",
       "      <td>0</td>\n",
       "      <td>0</td>\n",
       "      <td>113572</td>\n",
       "      <td>80.0</td>\n",
       "      <td>B28</td>\n",
       "      <td>NaN</td>\n",
       "    </tr>\n",
       "    <tr>\n",
       "      <th>830</th>\n",
       "      <td>1</td>\n",
       "      <td>1</td>\n",
       "      <td>Stone, Mrs. George Nelson (Martha Evelyn)</td>\n",
       "      <td>female</td>\n",
       "      <td>62.0</td>\n",
       "      <td>0</td>\n",
       "      <td>0</td>\n",
       "      <td>113572</td>\n",
       "      <td>80.0</td>\n",
       "      <td>B28</td>\n",
       "      <td>NaN</td>\n",
       "    </tr>\n",
       "  </tbody>\n",
       "</table>\n",
       "</div>"
      ],
      "text/plain": [
       "             Survived  Pclass                                       Name  \\\n",
       "PassengerId                                                                \n",
       "62                  1       1                        Icard, Miss. Amelie   \n",
       "830                 1       1  Stone, Mrs. George Nelson (Martha Evelyn)   \n",
       "\n",
       "                Sex   Age  SibSp  Parch  Ticket  Fare Cabin Embarked  \n",
       "PassengerId                                                           \n",
       "62           female  38.0      0      0  113572  80.0   B28      NaN  \n",
       "830          female  62.0      0      0  113572  80.0   B28      NaN  "
      ]
     },
     "execution_count": 6,
     "metadata": {},
     "output_type": "execute_result"
    }
   ],
   "source": [
    "# 데이터 확인을 할 땐 항상 train데이터를 기준으로 확인\n",
    "# train 데이터에서 Embarked 컬럼 인덱싱 -> S, C, Q 갯수 확인\n",
    "print(train['Embarked'].value_counts(dropna=False))\n",
    "# 결측치 채우기\n",
    "train[train['Embarked'].isnull()]"
   ]
  },
  {
   "cell_type": "code",
   "execution_count": 7,
   "metadata": {},
   "outputs": [
    {
     "data": {
      "text/plain": [
       "Embarked\n",
       "S    646\n",
       "C    168\n",
       "Q     77\n",
       "Name: count, dtype: int64"
      ]
     },
     "execution_count": 7,
     "metadata": {},
     "output_type": "execute_result"
    }
   ],
   "source": [
    "# 두 사람의 데이터가 서로 비슷한데, 티켓의 번호까지 같다.\n",
    "# 분명 전산 상의 오류가 있었던 것으로 판단이 된다.\n",
    "# 전산 상의 오류가 있으려면 아무래도 사람이 많이 몰리는 항구인 S 항구에서 탔을 가능성이 높다.\n",
    "train['Embarked'] = train['Embarked'].fillna('S')\n",
    "train['Embarked'].value_counts(dropna=False)"
   ]
  },
  {
   "cell_type": "markdown",
   "metadata": {},
   "source": [
    "- test : Fare 컬럼 결측치 채우기"
   ]
  },
  {
   "cell_type": "code",
   "execution_count": 8,
   "metadata": {},
   "outputs": [
    {
     "name": "stdout",
     "output_type": "stream",
     "text": [
      "             Pclass                Name   Sex   Age  SibSp  Parch Ticket  \\\n",
      "PassengerId                                                                \n",
      "1044              3  Storey, Mr. Thomas  male  60.5      0      0   3701   \n",
      "\n",
      "             Fare Cabin Embarked  \n",
      "PassengerId                       \n",
      "1044          NaN   NaN        S  \n"
     ]
    },
    {
     "data": {
      "text/html": [
       "<div>\n",
       "<style scoped>\n",
       "    .dataframe tbody tr th:only-of-type {\n",
       "        vertical-align: middle;\n",
       "    }\n",
       "\n",
       "    .dataframe tbody tr th {\n",
       "        vertical-align: top;\n",
       "    }\n",
       "\n",
       "    .dataframe thead th {\n",
       "        text-align: right;\n",
       "    }\n",
       "</style>\n",
       "<table border=\"1\" class=\"dataframe\">\n",
       "  <thead>\n",
       "    <tr style=\"text-align: right;\">\n",
       "      <th></th>\n",
       "      <th>Survived</th>\n",
       "      <th>Pclass</th>\n",
       "      <th>Age</th>\n",
       "      <th>SibSp</th>\n",
       "      <th>Parch</th>\n",
       "      <th>Fare</th>\n",
       "    </tr>\n",
       "  </thead>\n",
       "  <tbody>\n",
       "    <tr>\n",
       "      <th>Survived</th>\n",
       "      <td>1.000000</td>\n",
       "      <td>-0.338481</td>\n",
       "      <td>-0.077221</td>\n",
       "      <td>-0.035322</td>\n",
       "      <td>0.081629</td>\n",
       "      <td>0.257307</td>\n",
       "    </tr>\n",
       "    <tr>\n",
       "      <th>Pclass</th>\n",
       "      <td>-0.338481</td>\n",
       "      <td>1.000000</td>\n",
       "      <td>-0.369226</td>\n",
       "      <td>0.083081</td>\n",
       "      <td>0.018443</td>\n",
       "      <td>-0.549500</td>\n",
       "    </tr>\n",
       "    <tr>\n",
       "      <th>Age</th>\n",
       "      <td>-0.077221</td>\n",
       "      <td>-0.369226</td>\n",
       "      <td>1.000000</td>\n",
       "      <td>-0.308247</td>\n",
       "      <td>-0.189119</td>\n",
       "      <td>0.096067</td>\n",
       "    </tr>\n",
       "    <tr>\n",
       "      <th>SibSp</th>\n",
       "      <td>-0.035322</td>\n",
       "      <td>0.083081</td>\n",
       "      <td>-0.308247</td>\n",
       "      <td>1.000000</td>\n",
       "      <td>0.414838</td>\n",
       "      <td>0.159651</td>\n",
       "    </tr>\n",
       "    <tr>\n",
       "      <th>Parch</th>\n",
       "      <td>0.081629</td>\n",
       "      <td>0.018443</td>\n",
       "      <td>-0.189119</td>\n",
       "      <td>0.414838</td>\n",
       "      <td>1.000000</td>\n",
       "      <td>0.216225</td>\n",
       "    </tr>\n",
       "    <tr>\n",
       "      <th>Fare</th>\n",
       "      <td>0.257307</td>\n",
       "      <td>-0.549500</td>\n",
       "      <td>0.096067</td>\n",
       "      <td>0.159651</td>\n",
       "      <td>0.216225</td>\n",
       "      <td>1.000000</td>\n",
       "    </tr>\n",
       "  </tbody>\n",
       "</table>\n",
       "</div>"
      ],
      "text/plain": [
       "          Survived    Pclass       Age     SibSp     Parch      Fare\n",
       "Survived  1.000000 -0.338481 -0.077221 -0.035322  0.081629  0.257307\n",
       "Pclass   -0.338481  1.000000 -0.369226  0.083081  0.018443 -0.549500\n",
       "Age      -0.077221 -0.369226  1.000000 -0.308247 -0.189119  0.096067\n",
       "SibSp    -0.035322  0.083081 -0.308247  1.000000  0.414838  0.159651\n",
       "Parch     0.081629  0.018443 -0.189119  0.414838  1.000000  0.216225\n",
       "Fare      0.257307 -0.549500  0.096067  0.159651  0.216225  1.000000"
      ]
     },
     "execution_count": 8,
     "metadata": {},
     "output_type": "execute_result"
    }
   ],
   "source": [
    "# test 데이터의 Fare 컬럼 인덱싱 후 결측치가 존재하는 행 찾아보기\n",
    "print(test[test['Fare'].isnull()])\n",
    "# Pclass와 Sex이 연관성이 높을 것이다...\n",
    "# 추측보단 신뢰성 있는 근거를 사용하자\n",
    "train.corr(numeric_only=True) # corr = correlation 상관관계\n",
    "# Fare 컬럼과 가장 연관성이 깊은 컬럼은 Pclass"
   ]
  },
  {
   "cell_type": "code",
   "execution_count": 9,
   "metadata": {},
   "outputs": [
    {
     "data": {
      "text/plain": [
       "count    891.000000\n",
       "mean      32.204208\n",
       "std       49.693429\n",
       "min        0.000000\n",
       "25%        7.910400\n",
       "50%       14.454200\n",
       "75%       31.000000\n",
       "max      512.329200\n",
       "Name: Fare, dtype: float64"
      ]
     },
     "execution_count": 9,
     "metadata": {},
     "output_type": "execute_result"
    }
   ],
   "source": [
    "# train Fare 컬럼을 대표하는 수가 뭔지 찾아보자\n",
    "# describe() # 수치 데이터(min, max, mean ...)\n",
    "train['Fare'].describe()"
   ]
  },
  {
   "cell_type": "code",
   "execution_count": 10,
   "metadata": {},
   "outputs": [
    {
     "data": {
      "text/html": [
       "<div>\n",
       "<style scoped>\n",
       "    .dataframe tbody tr th:only-of-type {\n",
       "        vertical-align: middle;\n",
       "    }\n",
       "\n",
       "    .dataframe tbody tr th {\n",
       "        vertical-align: top;\n",
       "    }\n",
       "\n",
       "    .dataframe thead th {\n",
       "        text-align: right;\n",
       "    }\n",
       "</style>\n",
       "<table border=\"1\" class=\"dataframe\">\n",
       "  <thead>\n",
       "    <tr style=\"text-align: right;\">\n",
       "      <th></th>\n",
       "      <th></th>\n",
       "      <th>Fare</th>\n",
       "    </tr>\n",
       "    <tr>\n",
       "      <th>Pclass</th>\n",
       "      <th>Sex</th>\n",
       "      <th></th>\n",
       "    </tr>\n",
       "  </thead>\n",
       "  <tbody>\n",
       "    <tr>\n",
       "      <th rowspan=\"2\" valign=\"top\">1</th>\n",
       "      <th>female</th>\n",
       "      <td>82.66455</td>\n",
       "    </tr>\n",
       "    <tr>\n",
       "      <th>male</th>\n",
       "      <td>41.26250</td>\n",
       "    </tr>\n",
       "    <tr>\n",
       "      <th rowspan=\"2\" valign=\"top\">2</th>\n",
       "      <th>female</th>\n",
       "      <td>22.00000</td>\n",
       "    </tr>\n",
       "    <tr>\n",
       "      <th>male</th>\n",
       "      <td>13.00000</td>\n",
       "    </tr>\n",
       "    <tr>\n",
       "      <th rowspan=\"2\" valign=\"top\">3</th>\n",
       "      <th>female</th>\n",
       "      <td>12.47500</td>\n",
       "    </tr>\n",
       "    <tr>\n",
       "      <th>male</th>\n",
       "      <td>7.92500</td>\n",
       "    </tr>\n",
       "  </tbody>\n",
       "</table>\n",
       "</div>"
      ],
      "text/plain": [
       "                   Fare\n",
       "Pclass Sex             \n",
       "1      female  82.66455\n",
       "       male    41.26250\n",
       "2      female  22.00000\n",
       "       male    13.00000\n",
       "3      female  12.47500\n",
       "       male     7.92500"
      ]
     },
     "execution_count": 10,
     "metadata": {},
     "output_type": "execute_result"
    }
   ],
   "source": [
    "# Pclass, Sex -> Fare 중앙 값으로 결측치를 대체해보자\n",
    "# train 데이터를 기준으로 승객 등급, 성별을 그룹핑\n",
    "train[['Pclass', 'Sex', 'Fare']].groupby(by=['Pclass', 'Sex']).median()"
   ]
  },
  {
   "cell_type": "code",
   "execution_count": 11,
   "metadata": {},
   "outputs": [
    {
     "data": {
      "text/plain": [
       "0"
      ]
     },
     "execution_count": 11,
     "metadata": {},
     "output_type": "execute_result"
    }
   ],
   "source": [
    "# test['Fare'] 결측치 채워주기\n",
    "test[test['Fare'].isnull()] # 3등급 남성의 중앙값으로 채우기\n",
    "test['Fare'] = test['Fare'].fillna(7.92500)\n",
    "test['Fare'].isnull().sum()"
   ]
  },
  {
   "cell_type": "markdown",
   "metadata": {},
   "source": [
    "- Age 결측치 채우기\n",
    "    -train, test 모두 처리해야할 필요\n",
    "    - 나이의 평균값? 중앙값? 최빈값? 으로 결측치 채워보기\n",
    "    - 다른 컬럼과 상관관계를 이용해서 결측치 채우기\n"
   ]
  },
  {
   "cell_type": "code",
   "execution_count": 12,
   "metadata": {},
   "outputs": [
    {
     "data": {
      "text/html": [
       "<div>\n",
       "<style scoped>\n",
       "    .dataframe tbody tr th:only-of-type {\n",
       "        vertical-align: middle;\n",
       "    }\n",
       "\n",
       "    .dataframe tbody tr th {\n",
       "        vertical-align: top;\n",
       "    }\n",
       "\n",
       "    .dataframe thead th {\n",
       "        text-align: right;\n",
       "    }\n",
       "</style>\n",
       "<table border=\"1\" class=\"dataframe\">\n",
       "  <thead>\n",
       "    <tr style=\"text-align: right;\">\n",
       "      <th></th>\n",
       "      <th>Survived</th>\n",
       "      <th>Pclass</th>\n",
       "      <th>Age</th>\n",
       "      <th>SibSp</th>\n",
       "      <th>Parch</th>\n",
       "      <th>Fare</th>\n",
       "    </tr>\n",
       "  </thead>\n",
       "  <tbody>\n",
       "    <tr>\n",
       "      <th>Survived</th>\n",
       "      <td>1.000000</td>\n",
       "      <td>-0.338481</td>\n",
       "      <td>-0.077221</td>\n",
       "      <td>-0.035322</td>\n",
       "      <td>0.081629</td>\n",
       "      <td>0.257307</td>\n",
       "    </tr>\n",
       "    <tr>\n",
       "      <th>Pclass</th>\n",
       "      <td>-0.338481</td>\n",
       "      <td>1.000000</td>\n",
       "      <td>-0.369226</td>\n",
       "      <td>0.083081</td>\n",
       "      <td>0.018443</td>\n",
       "      <td>-0.549500</td>\n",
       "    </tr>\n",
       "    <tr>\n",
       "      <th>Age</th>\n",
       "      <td>-0.077221</td>\n",
       "      <td>-0.369226</td>\n",
       "      <td>1.000000</td>\n",
       "      <td>-0.308247</td>\n",
       "      <td>-0.189119</td>\n",
       "      <td>0.096067</td>\n",
       "    </tr>\n",
       "    <tr>\n",
       "      <th>SibSp</th>\n",
       "      <td>-0.035322</td>\n",
       "      <td>0.083081</td>\n",
       "      <td>-0.308247</td>\n",
       "      <td>1.000000</td>\n",
       "      <td>0.414838</td>\n",
       "      <td>0.159651</td>\n",
       "    </tr>\n",
       "    <tr>\n",
       "      <th>Parch</th>\n",
       "      <td>0.081629</td>\n",
       "      <td>0.018443</td>\n",
       "      <td>-0.189119</td>\n",
       "      <td>0.414838</td>\n",
       "      <td>1.000000</td>\n",
       "      <td>0.216225</td>\n",
       "    </tr>\n",
       "    <tr>\n",
       "      <th>Fare</th>\n",
       "      <td>0.257307</td>\n",
       "      <td>-0.549500</td>\n",
       "      <td>0.096067</td>\n",
       "      <td>0.159651</td>\n",
       "      <td>0.216225</td>\n",
       "      <td>1.000000</td>\n",
       "    </tr>\n",
       "  </tbody>\n",
       "</table>\n",
       "</div>"
      ],
      "text/plain": [
       "          Survived    Pclass       Age     SibSp     Parch      Fare\n",
       "Survived  1.000000 -0.338481 -0.077221 -0.035322  0.081629  0.257307\n",
       "Pclass   -0.338481  1.000000 -0.369226  0.083081  0.018443 -0.549500\n",
       "Age      -0.077221 -0.369226  1.000000 -0.308247 -0.189119  0.096067\n",
       "SibSp    -0.035322  0.083081 -0.308247  1.000000  0.414838  0.159651\n",
       "Parch     0.081629  0.018443 -0.189119  0.414838  1.000000  0.216225\n",
       "Fare      0.257307 -0.549500  0.096067  0.159651  0.216225  1.000000"
      ]
     },
     "execution_count": 12,
     "metadata": {},
     "output_type": "execute_result"
    }
   ],
   "source": [
    "train['Age'].isnull().sum()\n",
    "train.corr(numeric_only=True) # => Pclass Fare"
   ]
  },
  {
   "cell_type": "code",
   "execution_count": 13,
   "metadata": {},
   "outputs": [
    {
     "data": {
      "text/plain": [
       "count    714.000000\n",
       "mean      29.699118\n",
       "std       14.526497\n",
       "min        0.420000\n",
       "25%       20.125000\n",
       "50%       28.000000\n",
       "75%       38.000000\n",
       "max       80.000000\n",
       "Name: Age, dtype: float64"
      ]
     },
     "execution_count": 13,
     "metadata": {},
     "output_type": "execute_result"
    }
   ],
   "source": [
    "train['Age'].describe()"
   ]
  },
  {
   "cell_type": "code",
   "execution_count": 14,
   "metadata": {},
   "outputs": [
    {
     "data": {
      "text/html": [
       "<div>\n",
       "<style scoped>\n",
       "    .dataframe tbody tr th:only-of-type {\n",
       "        vertical-align: middle;\n",
       "    }\n",
       "\n",
       "    .dataframe tbody tr th {\n",
       "        vertical-align: top;\n",
       "    }\n",
       "\n",
       "    .dataframe thead th {\n",
       "        text-align: right;\n",
       "    }\n",
       "</style>\n",
       "<table border=\"1\" class=\"dataframe\">\n",
       "  <thead>\n",
       "    <tr style=\"text-align: right;\">\n",
       "      <th></th>\n",
       "      <th>Survived</th>\n",
       "      <th>Pclass</th>\n",
       "      <th>Name</th>\n",
       "      <th>Sex</th>\n",
       "      <th>Age</th>\n",
       "      <th>SibSp</th>\n",
       "      <th>Parch</th>\n",
       "      <th>Ticket</th>\n",
       "      <th>Fare</th>\n",
       "      <th>Cabin</th>\n",
       "      <th>Embarked</th>\n",
       "    </tr>\n",
       "    <tr>\n",
       "      <th>PassengerId</th>\n",
       "      <th></th>\n",
       "      <th></th>\n",
       "      <th></th>\n",
       "      <th></th>\n",
       "      <th></th>\n",
       "      <th></th>\n",
       "      <th></th>\n",
       "      <th></th>\n",
       "      <th></th>\n",
       "      <th></th>\n",
       "      <th></th>\n",
       "    </tr>\n",
       "  </thead>\n",
       "  <tbody>\n",
       "    <tr>\n",
       "      <th>6</th>\n",
       "      <td>0</td>\n",
       "      <td>3</td>\n",
       "      <td>Moran, Mr. James</td>\n",
       "      <td>male</td>\n",
       "      <td>NaN</td>\n",
       "      <td>0</td>\n",
       "      <td>0</td>\n",
       "      <td>330877</td>\n",
       "      <td>8.4583</td>\n",
       "      <td>NaN</td>\n",
       "      <td>Q</td>\n",
       "    </tr>\n",
       "    <tr>\n",
       "      <th>18</th>\n",
       "      <td>1</td>\n",
       "      <td>2</td>\n",
       "      <td>Williams, Mr. Charles Eugene</td>\n",
       "      <td>male</td>\n",
       "      <td>NaN</td>\n",
       "      <td>0</td>\n",
       "      <td>0</td>\n",
       "      <td>244373</td>\n",
       "      <td>13.0000</td>\n",
       "      <td>NaN</td>\n",
       "      <td>S</td>\n",
       "    </tr>\n",
       "    <tr>\n",
       "      <th>20</th>\n",
       "      <td>1</td>\n",
       "      <td>3</td>\n",
       "      <td>Masselmani, Mrs. Fatima</td>\n",
       "      <td>female</td>\n",
       "      <td>NaN</td>\n",
       "      <td>0</td>\n",
       "      <td>0</td>\n",
       "      <td>2649</td>\n",
       "      <td>7.2250</td>\n",
       "      <td>NaN</td>\n",
       "      <td>C</td>\n",
       "    </tr>\n",
       "    <tr>\n",
       "      <th>27</th>\n",
       "      <td>0</td>\n",
       "      <td>3</td>\n",
       "      <td>Emir, Mr. Farred Chehab</td>\n",
       "      <td>male</td>\n",
       "      <td>NaN</td>\n",
       "      <td>0</td>\n",
       "      <td>0</td>\n",
       "      <td>2631</td>\n",
       "      <td>7.2250</td>\n",
       "      <td>NaN</td>\n",
       "      <td>C</td>\n",
       "    </tr>\n",
       "    <tr>\n",
       "      <th>29</th>\n",
       "      <td>1</td>\n",
       "      <td>3</td>\n",
       "      <td>O'Dwyer, Miss. Ellen \"Nellie\"</td>\n",
       "      <td>female</td>\n",
       "      <td>NaN</td>\n",
       "      <td>0</td>\n",
       "      <td>0</td>\n",
       "      <td>330959</td>\n",
       "      <td>7.8792</td>\n",
       "      <td>NaN</td>\n",
       "      <td>Q</td>\n",
       "    </tr>\n",
       "    <tr>\n",
       "      <th>...</th>\n",
       "      <td>...</td>\n",
       "      <td>...</td>\n",
       "      <td>...</td>\n",
       "      <td>...</td>\n",
       "      <td>...</td>\n",
       "      <td>...</td>\n",
       "      <td>...</td>\n",
       "      <td>...</td>\n",
       "      <td>...</td>\n",
       "      <td>...</td>\n",
       "      <td>...</td>\n",
       "    </tr>\n",
       "    <tr>\n",
       "      <th>860</th>\n",
       "      <td>0</td>\n",
       "      <td>3</td>\n",
       "      <td>Razi, Mr. Raihed</td>\n",
       "      <td>male</td>\n",
       "      <td>NaN</td>\n",
       "      <td>0</td>\n",
       "      <td>0</td>\n",
       "      <td>2629</td>\n",
       "      <td>7.2292</td>\n",
       "      <td>NaN</td>\n",
       "      <td>C</td>\n",
       "    </tr>\n",
       "    <tr>\n",
       "      <th>864</th>\n",
       "      <td>0</td>\n",
       "      <td>3</td>\n",
       "      <td>Sage, Miss. Dorothy Edith \"Dolly\"</td>\n",
       "      <td>female</td>\n",
       "      <td>NaN</td>\n",
       "      <td>8</td>\n",
       "      <td>2</td>\n",
       "      <td>CA. 2343</td>\n",
       "      <td>69.5500</td>\n",
       "      <td>NaN</td>\n",
       "      <td>S</td>\n",
       "    </tr>\n",
       "    <tr>\n",
       "      <th>869</th>\n",
       "      <td>0</td>\n",
       "      <td>3</td>\n",
       "      <td>van Melkebeke, Mr. Philemon</td>\n",
       "      <td>male</td>\n",
       "      <td>NaN</td>\n",
       "      <td>0</td>\n",
       "      <td>0</td>\n",
       "      <td>345777</td>\n",
       "      <td>9.5000</td>\n",
       "      <td>NaN</td>\n",
       "      <td>S</td>\n",
       "    </tr>\n",
       "    <tr>\n",
       "      <th>879</th>\n",
       "      <td>0</td>\n",
       "      <td>3</td>\n",
       "      <td>Laleff, Mr. Kristo</td>\n",
       "      <td>male</td>\n",
       "      <td>NaN</td>\n",
       "      <td>0</td>\n",
       "      <td>0</td>\n",
       "      <td>349217</td>\n",
       "      <td>7.8958</td>\n",
       "      <td>NaN</td>\n",
       "      <td>S</td>\n",
       "    </tr>\n",
       "    <tr>\n",
       "      <th>889</th>\n",
       "      <td>0</td>\n",
       "      <td>3</td>\n",
       "      <td>Johnston, Miss. Catherine Helen \"Carrie\"</td>\n",
       "      <td>female</td>\n",
       "      <td>NaN</td>\n",
       "      <td>1</td>\n",
       "      <td>2</td>\n",
       "      <td>W./C. 6607</td>\n",
       "      <td>23.4500</td>\n",
       "      <td>NaN</td>\n",
       "      <td>S</td>\n",
       "    </tr>\n",
       "  </tbody>\n",
       "</table>\n",
       "<p>177 rows × 11 columns</p>\n",
       "</div>"
      ],
      "text/plain": [
       "             Survived  Pclass                                      Name  \\\n",
       "PassengerId                                                               \n",
       "6                   0       3                          Moran, Mr. James   \n",
       "18                  1       2              Williams, Mr. Charles Eugene   \n",
       "20                  1       3                   Masselmani, Mrs. Fatima   \n",
       "27                  0       3                   Emir, Mr. Farred Chehab   \n",
       "29                  1       3             O'Dwyer, Miss. Ellen \"Nellie\"   \n",
       "...               ...     ...                                       ...   \n",
       "860                 0       3                          Razi, Mr. Raihed   \n",
       "864                 0       3         Sage, Miss. Dorothy Edith \"Dolly\"   \n",
       "869                 0       3               van Melkebeke, Mr. Philemon   \n",
       "879                 0       3                        Laleff, Mr. Kristo   \n",
       "889                 0       3  Johnston, Miss. Catherine Helen \"Carrie\"   \n",
       "\n",
       "                Sex  Age  SibSp  Parch      Ticket     Fare Cabin Embarked  \n",
       "PassengerId                                                                 \n",
       "6              male  NaN      0      0      330877   8.4583   NaN        Q  \n",
       "18             male  NaN      0      0      244373  13.0000   NaN        S  \n",
       "20           female  NaN      0      0        2649   7.2250   NaN        C  \n",
       "27             male  NaN      0      0        2631   7.2250   NaN        C  \n",
       "29           female  NaN      0      0      330959   7.8792   NaN        Q  \n",
       "...             ...  ...    ...    ...         ...      ...   ...      ...  \n",
       "860            male  NaN      0      0        2629   7.2292   NaN        C  \n",
       "864          female  NaN      8      2    CA. 2343  69.5500   NaN        S  \n",
       "869            male  NaN      0      0      345777   9.5000   NaN        S  \n",
       "879            male  NaN      0      0      349217   7.8958   NaN        S  \n",
       "889          female  NaN      1      2  W./C. 6607  23.4500   NaN        S  \n",
       "\n",
       "[177 rows x 11 columns]"
      ]
     },
     "execution_count": 14,
     "metadata": {},
     "output_type": "execute_result"
    }
   ],
   "source": [
    "train[train['Age'].isnull()]"
   ]
  },
  {
   "cell_type": "code",
   "execution_count": 15,
   "metadata": {},
   "outputs": [
    {
     "data": {
      "text/html": [
       "<div>\n",
       "<style scoped>\n",
       "    .dataframe tbody tr th:only-of-type {\n",
       "        vertical-align: middle;\n",
       "    }\n",
       "\n",
       "    .dataframe tbody tr th {\n",
       "        vertical-align: top;\n",
       "    }\n",
       "\n",
       "    .dataframe thead th {\n",
       "        text-align: right;\n",
       "    }\n",
       "</style>\n",
       "<table border=\"1\" class=\"dataframe\">\n",
       "  <thead>\n",
       "    <tr style=\"text-align: right;\">\n",
       "      <th></th>\n",
       "      <th></th>\n",
       "      <th>Age</th>\n",
       "    </tr>\n",
       "    <tr>\n",
       "      <th>Pclass</th>\n",
       "      <th>Sex</th>\n",
       "      <th></th>\n",
       "    </tr>\n",
       "  </thead>\n",
       "  <tbody>\n",
       "    <tr>\n",
       "      <th rowspan=\"2\" valign=\"top\">1</th>\n",
       "      <th>female</th>\n",
       "      <td>34.611765</td>\n",
       "    </tr>\n",
       "    <tr>\n",
       "      <th>male</th>\n",
       "      <td>41.281386</td>\n",
       "    </tr>\n",
       "    <tr>\n",
       "      <th rowspan=\"2\" valign=\"top\">2</th>\n",
       "      <th>female</th>\n",
       "      <td>28.722973</td>\n",
       "    </tr>\n",
       "    <tr>\n",
       "      <th>male</th>\n",
       "      <td>30.740707</td>\n",
       "    </tr>\n",
       "    <tr>\n",
       "      <th rowspan=\"2\" valign=\"top\">3</th>\n",
       "      <th>female</th>\n",
       "      <td>21.750000</td>\n",
       "    </tr>\n",
       "    <tr>\n",
       "      <th>male</th>\n",
       "      <td>26.507589</td>\n",
       "    </tr>\n",
       "  </tbody>\n",
       "</table>\n",
       "</div>"
      ],
      "text/plain": [
       "                     Age\n",
       "Pclass Sex              \n",
       "1      female  34.611765\n",
       "       male    41.281386\n",
       "2      female  28.722973\n",
       "       male    30.740707\n",
       "3      female  21.750000\n",
       "       male    26.507589"
      ]
     },
     "execution_count": 15,
     "metadata": {},
     "output_type": "execute_result"
    }
   ],
   "source": [
    "gb1 = train[['Pclass', 'Age', 'Sex']].groupby(by=['Pclass', 'Sex']).mean()\n",
    "gb1"
   ]
  },
  {
   "cell_type": "code",
   "execution_count": 16,
   "metadata": {},
   "outputs": [
    {
     "data": {
      "text/plain": [
       "177"
      ]
     },
     "execution_count": 16,
     "metadata": {},
     "output_type": "execute_result"
    }
   ],
   "source": [
    "# 결측치가 많아서 승객의 등급과 성별을 구분하지 않으면 fillna()로 채울 수 없다.\n",
    "train['Age'].isnull().sum()"
   ]
  },
  {
   "cell_type": "code",
   "execution_count": 17,
   "metadata": {},
   "outputs": [
    {
     "data": {
      "text/plain": [
       "Age    41.281386\n",
       "Name: (1, male), dtype: float64"
      ]
     },
     "execution_count": 17,
     "metadata": {},
     "output_type": "execute_result"
    }
   ],
   "source": [
    "# 멀티인덱스의 인덱싱\n",
    "gb1.loc[(1, 'male')]"
   ]
  },
  {
   "cell_type": "code",
   "execution_count": 18,
   "metadata": {},
   "outputs": [],
   "source": [
    "# 사용자 정의 함수를 만들어보자\n",
    "# 결측치를 채우기 위해서 각 승객의 등급과 성별을 확인한 후\n",
    "# Age의 평균값을 인덱싱해서 채우는 함수가 필요하다\n",
    "def prepro_age(row):\n",
    "    if np.isnan(row['Age']):   # 만약, 나이가 결측치하면 값을 가져오고\n",
    "        return gb1.loc[(row['Pclass'], row['Sex'])]\n",
    "    else:       # 아니라면 원래 나이값을 그대로 사용하자\n",
    "        return row['Age']"
   ]
  },
  {
   "cell_type": "code",
   "execution_count": 19,
   "metadata": {},
   "outputs": [
    {
     "name": "stdout",
     "output_type": "stream",
     "text": [
      "0\n",
      "0\n"
     ]
    }
   ],
   "source": [
    "train['Age'] = train.apply(prepro_age, axis=1)\n",
    "test['Age'] = test.apply(prepro_age, axis=1)\n",
    "\n",
    "print(train['Age'].isnull().sum())\n",
    "print(test['Age'].isnull().sum())"
   ]
  },
  {
   "cell_type": "code",
   "execution_count": 20,
   "metadata": {},
   "outputs": [
    {
     "name": "stderr",
     "output_type": "stream",
     "text": [
      "C:\\Users\\smhrd\\AppData\\Local\\Temp\\ipykernel_12160\\1207155625.py:2: FutureWarning: Calling int on a single element Series is deprecated and will raise a TypeError in the future. Use int(ser.iloc[0]) instead\n",
      "  train['Age'] = train['Age'].astype('int64')\n",
      "C:\\Users\\smhrd\\AppData\\Local\\Temp\\ipykernel_12160\\1207155625.py:3: FutureWarning: Calling int on a single element Series is deprecated and will raise a TypeError in the future. Use int(ser.iloc[0]) instead\n",
      "  test['Age'] = test['Age'].astype('int64')\n"
     ]
    }
   ],
   "source": [
    "# 멀티인덱스 인덱싱을 사용하면 기존 데이터 타입을 파괴하는 현상이 종종 일어난다..\n",
    "train['Age'] = train['Age'].astype('int64')\n",
    "test['Age'] = test['Age'].astype('int64')"
   ]
  },
  {
   "cell_type": "markdown",
   "metadata": {},
   "source": [
    "- train, test : Cabin(객실 번호) 채우기"
   ]
  },
  {
   "cell_type": "code",
   "execution_count": 21,
   "metadata": {},
   "outputs": [
    {
     "data": {
      "text/plain": [
       "687"
      ]
     },
     "execution_count": 21,
     "metadata": {},
     "output_type": "execute_result"
    }
   ],
   "source": [
    "train['Cabin'].isnull().sum()"
   ]
  },
  {
   "cell_type": "code",
   "execution_count": 22,
   "metadata": {},
   "outputs": [],
   "source": [
    "train[train['Cabin'].isnull()]\n",
    "train['Cabin'].unique()\n",
    "\n",
    "# 결측치와 층수 및 생존과 상관관계를 알아보기 위해 결측치를 임의의 값으로 채워줘야 한다.\n",
    "# 'M' 값으로 채워보기\n",
    "train['Deck'] = train['Cabin'].fillna('M')\n",
    "test['Deck'] = test['Cabin'].fillna('M')"
   ]
  },
  {
   "cell_type": "code",
   "execution_count": 23,
   "metadata": {},
   "outputs": [],
   "source": [
    "train['Deck'] # 컬럼의 맨 첫글자 알파벳만 추출하기\n",
    "train['Deck'] = train['Deck'].str[0]\n",
    "test['Deck'] = test['Deck'].str[0]"
   ]
  },
  {
   "cell_type": "code",
   "execution_count": 24,
   "metadata": {},
   "outputs": [],
   "source": [
    "try:\n",
    "    train.drop('Cabin', axis=1, inplace=True)\n",
    "    test.drop('Cabin', axis=1, inplace=True)\n",
    "except:\n",
    "    pass"
   ]
  },
  {
   "cell_type": "code",
   "execution_count": 25,
   "metadata": {},
   "outputs": [
    {
     "name": "stdout",
     "output_type": "stream",
     "text": [
      "<class 'pandas.core.frame.DataFrame'>\n",
      "Index: 891 entries, 1 to 891\n",
      "Data columns (total 11 columns):\n",
      " #   Column    Non-Null Count  Dtype  \n",
      "---  ------    --------------  -----  \n",
      " 0   Survived  891 non-null    int64  \n",
      " 1   Pclass    891 non-null    int64  \n",
      " 2   Name      891 non-null    object \n",
      " 3   Sex       891 non-null    object \n",
      " 4   Age       891 non-null    int64  \n",
      " 5   SibSp     891 non-null    int64  \n",
      " 6   Parch     891 non-null    int64  \n",
      " 7   Ticket    891 non-null    object \n",
      " 8   Fare      891 non-null    float64\n",
      " 9   Embarked  891 non-null    object \n",
      " 10  Deck      891 non-null    object \n",
      "dtypes: float64(1), int64(5), object(5)\n",
      "memory usage: 83.5+ KB\n",
      "<class 'pandas.core.frame.DataFrame'>\n",
      "Index: 418 entries, 892 to 1309\n",
      "Data columns (total 10 columns):\n",
      " #   Column    Non-Null Count  Dtype  \n",
      "---  ------    --------------  -----  \n",
      " 0   Pclass    418 non-null    int64  \n",
      " 1   Name      418 non-null    object \n",
      " 2   Sex       418 non-null    object \n",
      " 3   Age       418 non-null    int64  \n",
      " 4   SibSp     418 non-null    int64  \n",
      " 5   Parch     418 non-null    int64  \n",
      " 6   Ticket    418 non-null    object \n",
      " 7   Fare      418 non-null    float64\n",
      " 8   Embarked  418 non-null    object \n",
      " 9   Deck      418 non-null    object \n",
      "dtypes: float64(1), int64(4), object(5)\n",
      "memory usage: 35.9+ KB\n"
     ]
    }
   ],
   "source": [
    "train.info()\n",
    "test.info()"
   ]
  },
  {
   "cell_type": "markdown",
   "metadata": {},
   "source": [
    "### 데이터 탐색"
   ]
  },
  {
   "cell_type": "code",
   "execution_count": 26,
   "metadata": {},
   "outputs": [
    {
     "data": {
      "image/png": "[encoded data removed]",
      "text/plain": [
       "<Figure size 600x300 with 1 Axes>"
      ]
     },
     "metadata": {},
     "output_type": "display_data"
    }
   ],
   "source": [
    "# 'M' - Deck\n",
    "# Deck와 Survived 컬럼의 연관성 확인하기\n",
    "# 막대그래프\n",
    "plt.figure(figsize=(6, 3))\n",
    "sns.countplot(data=train, x='Deck', hue='Survived')\n",
    "plt.show()\n",
    "# M에서 상대적으로 사람들이 많이 사망했다.\n",
    "# -> 생존율에 영향을 주었을지는 의문"
   ]
  },
  {
   "cell_type": "code",
   "execution_count": 27,
   "metadata": {},
   "outputs": [
    {
     "data": {
      "image/png": "[encoded data removed]",
      "text/plain": [
       "<Figure size 600x300 with 1 Axes>"
      ]
     },
     "metadata": {},
     "output_type": "display_data"
    }
   ],
   "source": [
    "# Pclass와 Survived 관계 시각화\n",
    "# countplot\n",
    "plt.figure(figsize=(6, 3))\n",
    "sns.countplot(data=train, x='Pclass', hue='Survived')\n",
    "plt.show()\n",
    "# 1등급 - 비교적 생존율이 높았다, 3등급 - 사망율이 월등히 높았다"
   ]
  },
  {
   "cell_type": "code",
   "execution_count": 28,
   "metadata": {},
   "outputs": [
    {
     "data": {
      "image/png": "[encoded data removed]",
      "text/plain": [
       "<Figure size 600x300 with 1 Axes>"
      ]
     },
     "metadata": {},
     "output_type": "display_data"
    }
   ],
   "source": [
    "# Deck와 Pclass 관계 시각화\n",
    "plt.figure(figsize=(6, 3))\n",
    "sns.countplot(data=train, x='Deck', hue='Pclass')\n",
    "plt.show()\n",
    "# M에서 사망율이 높았던 건 3등급 객실의 사람들이 많아서였다.\n",
    "# 그떄 당시 시대상으로 볼 때, 3등급 객실에 탄 사람들에게 궅이 객실 번호를 묻지 않았을 것이다.\n",
    "# Deck는 Survived보다는 Pclass와 연관성이 높은 것으로 보인다."
   ]
  },
  {
   "cell_type": "code",
   "execution_count": 29,
   "metadata": {},
   "outputs": [
    {
     "data": {
      "image/png": "[encoded data removed]",
      "text/plain": [
       "<Figure size 600x300 with 1 Axes>"
      ]
     },
     "metadata": {},
     "output_type": "display_data"
    }
   ],
   "source": [
    "# Sex와 Survived 관계 시각화\n",
    "plt.figure(figsize=(6, 3))\n",
    "sns.countplot(data=train, x='Sex', hue='Survived')\n",
    "plt.show()\n",
    "# 남성은 상대적으로 사망율이 높고 여성은 생존율이 높다\n",
    "# -> 생/사를 판별하는데 도움이 될 수 있다."
   ]
  },
  {
   "cell_type": "code",
   "execution_count": 30,
   "metadata": {},
   "outputs": [
    {
     "data": {
      "image/png": "[encoded data removed]",
      "text/plain": [
       "<Figure size 600x300 with 1 Axes>"
      ]
     },
     "metadata": {},
     "output_type": "display_data"
    }
   ],
   "source": [
    "# Embarked와 Survived 관계 시각화\n",
    "plt.figure(figsize=(6, 3))\n",
    "sns.countplot(data=train, x='Embarked', hue='Survived')\n",
    "plt.show()\n",
    "# 승선항이 생/사에 크게 영향을 주진 않았다"
   ]
  },
  {
   "cell_type": "code",
   "execution_count": 31,
   "metadata": {},
   "outputs": [
    {
     "data": {
      "image/png": "[encoded data removed]",
      "text/plain": [
       "<Figure size 1000x500 with 1 Axes>"
      ]
     },
     "metadata": {},
     "output_type": "display_data"
    }
   ],
   "source": [
    "# Age와 Survived 관계 시각화\n",
    "# violin plot -> 데이터의 분포를 확인할 때\n",
    "plt.figure(figsize=(10, 5))\n",
    "sns.violinplot(data=train, x='Sex', y='Age', hue='Survived', split=True)\n",
    "plt.ylim(0, 85)\n",
    "plt.show()\n",
    "# 20대에서 40대에 걸쳐 남자는 사망율이 높았다.\n",
    "# 20대 ~ 30대에 걸쳐 여자는 사망율이 높았다.\n",
    "# 상대적으로 남자 영유아가 생존이 높았다."
   ]
  },
  {
   "cell_type": "code",
   "execution_count": 32,
   "metadata": {},
   "outputs": [
    {
     "data": {
      "image/png": "[encoded data removed]",
      "text/plain": [
       "<Figure size 1000x500 with 1 Axes>"
      ]
     },
     "metadata": {},
     "output_type": "display_data"
    }
   ],
   "source": [
    "plt.figure(figsize=(10, 5))\n",
    "sns.violinplot(data=train, x='Sex', y='Fare', hue='Survived', split=True)\n",
    "plt.ylim(0, 300)\n",
    "plt.show()\n",
    "# 저렴한 요금을 내고 탄 사람들은 상대적으로 많이 사망했다.\n",
    "# 요금을 많이 내고 탄 사람들은 거의 생존했다."
   ]
  },
  {
   "cell_type": "markdown",
   "metadata": {},
   "source": [
    "- Parch, Sibsp\n",
    "    - 특성공학 : 두 개의 컬럼을 더해서 가족의 숫자라는 새로운 컬럼을 생성하는 것이 좋아 보인다.\n",
    "    - train에 적용하고 test에 그대로 적용"
   ]
  },
  {
   "cell_type": "code",
   "execution_count": 33,
   "metadata": {},
   "outputs": [],
   "source": [
    "train['Family_size'] = train['Parch'] + train['SibSp'] + 1\n",
    "test['Family_size'] = test['Parch'] + test['SibSp'] + 1"
   ]
  },
  {
   "cell_type": "code",
   "execution_count": 34,
   "metadata": {},
   "outputs": [
    {
     "name": "stdout",
     "output_type": "stream",
     "text": [
      "(891,)\n",
      "(891,)\n",
      "(891,)\n"
     ]
    },
    {
     "data": {
      "image/png": "[encoded data removed]",
      "text/plain": [
       "<Figure size 600x300 with 1 Axes>"
      ]
     },
     "metadata": {},
     "output_type": "display_data"
    }
   ],
   "source": [
    "print(train['SibSp'].shape)\n",
    "print(train['Parch'].shape)\n",
    "print(train['Family_size'].shape)\n",
    "\n",
    "plt.figure(figsize=(6, 3))\n",
    "sns.countplot(data=train, x='Family_size', hue='Survived')\n",
    "plt.show()\n",
    "# 1명 -> 사망율이 높다\n",
    "# 2~4명 -> 생존율이 높다\n",
    "# 5명 이상 -> 사망율이 높다\n",
    "# 범주를 줄여주자 == 카테고리화 하자"
   ]
  },
  {
   "cell_type": "code",
   "execution_count": 35,
   "metadata": {},
   "outputs": [],
   "source": [
    "# 가족의 사이즈가 1명이면 Alone, 2~4명 Small, 5이상 Large\n",
    "bins = [0, 1, 4, 11]\n",
    "labels = ['Alone', 'Small', 'Large']\n",
    "train['Family_group'] = pd.cut(train['Family_size'], bins = bins, labels = labels)\n",
    "test['Family_group'] = pd.cut(test['Family_size'], bins = bins, labels = labels)"
   ]
  },
  {
   "cell_type": "code",
   "execution_count": 36,
   "metadata": {},
   "outputs": [
    {
     "data": {
      "image/png": "[encoded data removed]",
      "text/plain": [
       "<Figure size 600x300 with 1 Axes>"
      ]
     },
     "metadata": {},
     "output_type": "display_data"
    }
   ],
   "source": [
    "plt.figure(figsize=(6, 3))\n",
    "sns.countplot(data=train, x='Family_group', hue='Survived')\n",
    "plt.show()"
   ]
  },
  {
   "cell_type": "code",
   "execution_count": 37,
   "metadata": {},
   "outputs": [
    {
     "name": "stdout",
     "output_type": "stream",
     "text": [
      "<class 'pandas.core.frame.DataFrame'>\n",
      "Index: 418 entries, 892 to 1309\n",
      "Data columns (total 9 columns):\n",
      " #   Column        Non-Null Count  Dtype   \n",
      "---  ------        --------------  -----   \n",
      " 0   Pclass        418 non-null    int64   \n",
      " 1   Sex           418 non-null    object  \n",
      " 2   Age           418 non-null    int64   \n",
      " 3   SibSp         418 non-null    int64   \n",
      " 4   Parch         418 non-null    int64   \n",
      " 5   Fare          418 non-null    float64 \n",
      " 6   Embarked      418 non-null    object  \n",
      " 7   Deck          418 non-null    object  \n",
      " 8   Family_group  418 non-null    category\n",
      "dtypes: category(1), float64(1), int64(4), object(3)\n",
      "memory usage: 29.9+ KB\n",
      "<class 'pandas.core.frame.DataFrame'>\n",
      "Index: 891 entries, 1 to 891\n",
      "Data columns (total 10 columns):\n",
      " #   Column        Non-Null Count  Dtype   \n",
      "---  ------        --------------  -----   \n",
      " 0   Survived      891 non-null    int64   \n",
      " 1   Pclass        891 non-null    int64   \n",
      " 2   Sex           891 non-null    object  \n",
      " 3   Age           891 non-null    int64   \n",
      " 4   SibSp         891 non-null    int64   \n",
      " 5   Parch         891 non-null    int64   \n",
      " 6   Fare          891 non-null    float64 \n",
      " 7   Embarked      891 non-null    object  \n",
      " 8   Deck          891 non-null    object  \n",
      " 9   Family_group  891 non-null    category\n",
      "dtypes: category(1), float64(1), int64(5), object(3)\n",
      "memory usage: 70.6+ KB\n"
     ]
    }
   ],
   "source": [
    "# 머신러닝에 필요 없는 컬럼 삭제\n",
    "train.columns\n",
    "try:\n",
    "    test.drop(['Name', 'Ticket', 'Family_size'], axis=1, inplace=True)\n",
    "    train.drop(['Name', 'Ticket', 'Family_size'], axis=1, inplace=True)\n",
    "except:\n",
    "    pass\n",
    "test.info()\n",
    "train.info()"
   ]
  },
  {
   "cell_type": "code",
   "execution_count": 38,
   "metadata": {},
   "outputs": [],
   "source": [
    "# 문제와 답 분리\n",
    "X_train = train.loc[:, 'Pclass':]\n",
    "y_train = train.loc[:, 'Survived']\n",
    "X_test = test\n"
   ]
  },
  {
   "cell_type": "code",
   "execution_count": 39,
   "metadata": {},
   "outputs": [
    {
     "name": "stdout",
     "output_type": "stream",
     "text": [
      "(891, 9)\n",
      "(891,)\n",
      "(418, 9)\n"
     ]
    }
   ],
   "source": [
    "print(X_train.shape)\n",
    "print(y_train.shape)\n",
    "print(X_test.shape)"
   ]
  },
  {
   "cell_type": "code",
   "execution_count": 40,
   "metadata": {},
   "outputs": [
    {
     "data": {
      "text/plain": [
       "['Sex', 'Embarked', 'Deck', 'Family_group']"
      ]
     },
     "execution_count": 40,
     "metadata": {},
     "output_type": "execute_result"
    }
   ],
   "source": [
    "cate = ['Sex', 'Embarked', 'Deck', 'Family_group']\n",
    "cate"
   ]
  },
  {
   "cell_type": "code",
   "execution_count": 41,
   "metadata": {},
   "outputs": [],
   "source": [
    "try:\n",
    "    X_train_oh = pd.get_dummies(X_train[cate])\n",
    "    X_test_oh = pd.get_dummies(X_test[cate])\n",
    "except:\n",
    "    pass\n",
    "\n",
    "# X_train 병합\n",
    "X_train = pd.concat([X_train, X_train_oh], axis=1)\n",
    "X_test = pd.concat([X_test, X_test_oh], axis=1)\n",
    "\n",
    "# 인코딩 하기 전 문자형 컬럼 삭제\n",
    "X_train.drop(cate, axis=1, inplace=True)\n",
    "X_test.drop(cate, axis=1, inplace=True)"
   ]
  },
  {
   "cell_type": "code",
   "execution_count": 42,
   "metadata": {},
   "outputs": [
    {
     "name": "stdout",
     "output_type": "stream",
     "text": [
      "Index(['Pclass', 'Age', 'SibSp', 'Parch', 'Fare', 'Sex_female', 'Sex_male',\n",
      "       'Embarked_C', 'Embarked_Q', 'Embarked_S', 'Deck_A', 'Deck_B', 'Deck_C',\n",
      "       'Deck_D', 'Deck_E', 'Deck_F', 'Deck_G', 'Deck_M', 'Deck_T',\n",
      "       'Family_group_Alone', 'Family_group_Small', 'Family_group_Large'],\n",
      "      dtype='object')\n",
      "Index(['Pclass', 'Age', 'SibSp', 'Parch', 'Fare', 'Sex_female', 'Sex_male',\n",
      "       'Embarked_C', 'Embarked_Q', 'Embarked_S', 'Deck_A', 'Deck_B', 'Deck_C',\n",
      "       'Deck_D', 'Deck_E', 'Deck_F', 'Deck_G', 'Deck_M', 'Family_group_Alone',\n",
      "       'Family_group_Small', 'Family_group_Large'],\n",
      "      dtype='object')\n",
      "(891, 22)\n",
      "(418, 21)\n"
     ]
    }
   ],
   "source": [
    "print(X_train.columns)\n",
    "print(X_test.columns)\n",
    "print(X_train.shape)\n",
    "print(X_test.shape)"
   ]
  },
  {
   "cell_type": "code",
   "execution_count": 43,
   "metadata": {},
   "outputs": [],
   "source": [
    "# Deck_T 컬럼을 X_test에도 넣어보자\n",
    "X_test['Deck_T'] = 0"
   ]
  },
  {
   "cell_type": "code",
   "execution_count": 47,
   "metadata": {},
   "outputs": [],
   "source": [
    "# 컬럼 순서 맞추기\n",
    "X_test = X_test[X_train.columns]\n",
    "X_test.columns"
   ]
  },
  {
   "cell_type": "markdown",
   "metadata": {},
   "source": [
    "### 모델 선택 및 학습"
   ]
  },
  {
   "cell_type": "code",
   "execution_count": 99,
   "metadata": {},
   "outputs": [],
   "source": [
    "# tree 불러오기\n",
    "from sklearn.tree import DecisionTreeClassifier\n",
    "# 모델 객체 생성\n",
    "tree_model = DecisionTreeClassifier()\n",
    "# 모델 학습\n",
    "tree_model.fit(X_train, y_train)\n",
    "# 모델 예측\n",
    "pre = tree_model.predict(X_test)\n",
    "# pre"
   ]
  },
  {
   "cell_type": "code",
   "execution_count": 53,
   "metadata": {},
   "outputs": [],
   "source": [
    "# gender_submission 파일 불러오기 -> Survived 컬럼 예측값으로 변경\n",
    "result = pd.read_csv('./data/gender_submission.csv')\n",
    "result['Survived'] = pre\n",
    "result.to_csv('submisstion01_ldg.csv', index=False)"
   ]
  },
  {
   "cell_type": "code",
   "execution_count": 69,
   "metadata": {},
   "outputs": [],
   "source": [
    "# 과대적함 키워드를 설정하여 모델 학습 후 예측\n",
    "# 사전 가지치기\n",
    "from sklearn.tree import DecisionTreeClassifier\n",
    "tree_model = DecisionTreeClassifier(max_depth = 5)\n",
    "tree_model.fit(X_train, y_train)\n",
    "pre = tree_model.predict(X_test)"
   ]
  },
  {
   "cell_type": "code",
   "execution_count": 70,
   "metadata": {},
   "outputs": [],
   "source": [
    "result = pd.read_csv('./data/gender_submission.csv')\n",
    "result['Survived'] = pre\n",
    "result.to_csv('submisstion04_ldg.csv', index=False)"
   ]
  },
  {
   "cell_type": "code",
   "execution_count": 98,
   "metadata": {},
   "outputs": [
    {
     "name": "stdout",
     "output_type": "stream",
     "text": [
      "tree_model_1: mean accuracy = 0.7867\n",
      "tree_model_2: mean accuracy = 0.7733\n",
      "tree_model_3: mean accuracy = 0.8081\n",
      "tree_model_4: mean accuracy = 0.8048\n",
      "tree_model_5: mean accuracy = 0.8103\n",
      "tree_model_6: mean accuracy = 0.7969\n",
      "tree_model_7: mean accuracy = 0.8036\n",
      "tree_model_8: mean accuracy = 0.8171\n",
      "tree_model_9: mean accuracy = 0.8036\n",
      "tree_model_10: mean accuracy = 0.8126\n",
      "tree_model_11: mean accuracy = 0.8013\n",
      "tree_model_12: mean accuracy = 0.7980\n",
      "tree_model_13: mean accuracy = 0.7957\n",
      "tree_model_14: mean accuracy = 0.7935\n",
      "tree_model_15: mean accuracy = 0.8058\n",
      "tree_model_16: mean accuracy = 0.8014\n",
      "tree_model_17: mean accuracy = 0.8081\n",
      "tree_model_18: mean accuracy = 0.7890\n",
      "tree_model_19: mean accuracy = 0.7901\n"
     ]
    }
   ],
   "source": [
    "# 교차검증을 통해 정확도가 몇정도 나올 것이단 걸 예측\n",
    "\n",
    "from sklearn.model_selection import cross_val_score\n",
    "import numpy as np\n",
    "\n",
    "cv_scores = {}\n",
    "tree_models = {}\n",
    "pres = {}\n",
    "results = {}\n",
    "result = pd.read_csv('./data/gender_submission.csv')\n",
    "\n",
    "a = range(1, 20)\n",
    "\n",
    "for i in a:\n",
    "    # 모델 객체 생성 및 저장\n",
    "    tree_models[f\"tree_model_{i}\"] = DecisionTreeClassifier(criterion='entropy', max_depth=i)\n",
    "\n",
    "for i in a:\n",
    "    scores = cross_val_score(tree_models[f\"tree_model_{i}\"], X_train, y_train, cv=5)\n",
    "    cv_scores[f\"tree_model_{i}\"] = scores\n",
    "\n",
    "# 각 모델의 평균 정확도 출력\n",
    "for i in a:\n",
    "    print(f\"tree_model_{i}: mean accuracy = {np.mean(cv_scores[f'tree_model_{i}']):.4f}\")\n",
    "\n",
    "for i in a:\n",
    "    # 모델 객체 생성 및 저장\n",
    "    tree_models[f\"tree_model_{i}\"].fit(X_train, y_train)\n",
    "    pres[f\"pre_{i}\"] = tree_model.predict(X_test)\n",
    "    result['Survived'] = pres[f\"pre_{i}\"]\n",
    "    result.to_csv('./to_csv/submisstion{}_ldg.csv'.format(i), index=False)"
   ]
  },
  {
   "cell_type": "markdown",
   "metadata": {},
   "source": [
    "- 특성 중요도 확인\n",
    "    - 모델이 선택한 중요한 특성 확인하기\n"
   ]
  },
  {
   "cell_type": "code",
   "execution_count": 95,
   "metadata": {},
   "outputs": [
    {
     "data": {
      "image/png": "[encoded data removed]",
      "text/plain": [
       "<Figure size 640x480 with 1 Axes>"
      ]
     },
     "metadata": {},
     "output_type": "display_data"
    }
   ],
   "source": [
    "fi = tree_models[f\"tree_model_5\"].feature_importances_\n",
    "fi\n",
    "\n",
    "fi_s = pd.Series(fi, index=X_train.columns)\n",
    "fi_s.sort_values(ascending=False).plot.barh()\n",
    "plt.show()"
   ]
  }
 ],
 "metadata": {
  "kernelspec": {
   "display_name": "base",
   "language": "python",
   "name": "python3"
  },
  "language_info": {
   "codemirror_mode": {
    "name": "ipython",
    "version": 3
   },
   "file_extension": ".py",
   "mimetype": "text/x-python",
   "name": "python",
   "nbconvert_exporter": "python",
   "pygments_lexer": "ipython3",
   "version": "3.12.7"
  }
 },
 "nbformat": 4,
 "nbformat_minor": 4
}
