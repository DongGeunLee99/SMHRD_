{
 "cells": [
  {
   "cell_type": "markdown",
   "metadata": {},
   "source": [
    "# <p style=\"color:salmon;font-weight:bold\">목표</p>\n",
    "''' 데이터 헨들링을 위한 데이터 추출하는 법을 고도화 해보자 '''\n",
    "\n",
    "<span style=\"color:salmon;font-weight:bold\">[데이터 사이언스] </span>\n",
    "- 데이터의 분류하거나 분석하는 것 이상으로 데이터 속에 담긴 패턴이나 미래 예측에 도움이 되는 정보를 찾는 것\n",
    "\n",
    "<span style=\"color:salmon;font-weight:bold\">[데이터 사이언스 프로세스] </span>\n",
    "- 데이터 수집 > 데이터 전처리 > 데이터 분석 > 데이터 예측 > 데이터 시각화 > 서비스화\n",
    "\n",
    "<span style=\"color:salmon;font-weight:bold\">[데이터를 색인(추출)] </span>\n",
    "- 인덱싱\n",
    "- 슬라이싱\n",
    "- 불리언 인덱싱"
   ]
  },
  {
   "cell_type": "code",
   "execution_count": null,
   "metadata": {},
   "outputs": [],
   "source": [
    "import numpy as np\n",
    "import pandas as pd\n",
    "import matplotlib.pyplot as plt"
   ]
  },
  {
   "cell_type": "code",
   "execution_count": null,
   "metadata": {},
   "outputs": [],
   "source": [
    "# 실습 데이터\n",
    "smhrd_data = {\n",
    "    'smhrd_ID' : ['smhrd01','smhrd02','smhrd03','smhrd04','smhrd05','smhrd06','smhrd07'],\n",
    "    'name' : ['채수민','선영표','강규남','조준용','임다이','김자영','김민수'],\n",
    "    'subject' : ['Java','HTML/CSS','Python','Python','Java',np.NAN,'Python'],\n",
    "    'age' : [25,24,39,28,23,22,30],\n",
    "    'gender' : ['여','여','남','남','여','여','남']\n",
    "}\n",
    "\n",
    "smhrd_data"
   ]
  },
  {
   "cell_type": "markdown",
   "metadata": {},
   "source": [
    "#### <p style=\"color:yellow;font-weight:bold\"> 인덱스 지정 </p>"
   ]
  },
  {
   "cell_type": "code",
   "execution_count": null,
   "metadata": {},
   "outputs": [],
   "source": [
    "smhrd_df = pd.DataFrame(smhrd_data)\n",
    "smhrd_df.index.name = 'Index'"
   ]
  },
  {
   "cell_type": "code",
   "execution_count": null,
   "metadata": {},
   "outputs": [],
   "source": [
    "# 인덱스를 특정 컬럼으로 지정하기\n",
    "# set_index()\n",
    "smhrd_df.set_index('smhrd_ID', inplace=True)\n",
    "smhrd_df"
   ]
  },
  {
   "cell_type": "markdown",
   "metadata": {},
   "source": [
    "#### <p style=\"color:yellow;font-weight:bold\"> 인덱싱 </p>"
   ]
  },
  {
   "cell_type": "code",
   "execution_count": null,
   "metadata": {},
   "outputs": [],
   "source": [
    "\n",
    "# 1. 컬럼 단위로 데이터 추출\n",
    "# df명['컬럼']\n",
    "smhrd_df['name']\n",
    "\n",
    "# -- 펜싱 인덱싱 [[]] > 리스트로 집합을 지정해서 해당 위치의 인덱스에 해당하는 값만 반환 --\n",
    "\n",
    "# 이름, 아이디를 한번에 출력\n",
    "smhrd_df[['name', 'smhrd_ID']] \n",
    "# 나이, 이름, 아이디, 성별을 한번에 출력\n",
    "smhrd_df[['age', 'name', 'smhrd_ID', 'gender']]\n",
    "# 특정 이름만 출력\n",
    "smhrd_df['name'][smhrd_df['name'] == '조준용']"
   ]
  },
  {
   "cell_type": "code",
   "execution_count": null,
   "metadata": {},
   "outputs": [],
   "source": [
    "# 2. 행단위로 데이터 추출\n",
    "# loc[] (location) : 인덱스(라벨)을 기준으로 행을 추출 > 컬럼 이름으로 접근\n",
    "# iloc[] (Integer location) : 행 번호를 기준으로 데이터를 추출 > 정숫값인 행 번호로 접근\n",
    "\n",
    "# iloc[] 연산자\n",
    "# df명.iloc[행위치, 컬럼위치]\n",
    "smhrd_df.iloc[2, 1]\n",
    "smhrd_df.iloc[::2, 1:4:2]\n",
    "smhrd_df.iloc[[5, 1, 0], 2:4]\n",
    "\n",
    "# loc[] 연산자\n",
    "# df명.loc[행이름, 컬럼이름]\n",
    "smhrd_df.loc['smhrd01':'smhrd03', 'age':'gender']\n",
    "smhrd_df.loc['smhrd02':'smhrd04', ['age','subject']]\n",
    "smhrd_df"
   ]
  },
  {
   "cell_type": "code",
   "execution_count": null,
   "metadata": {},
   "outputs": [],
   "source": [
    "# 3. 불리언 인덱싱\n",
    "# > 조건에 맞는 데이터를 선택하여 가저오는 방법\n",
    "# > 조건 필터링과 검색을 동시에 할 수 있기 때문에 자주 사용되는 인덱싱 방식\n",
    "\n",
    "# 1) 조건에 맞는 데이터를 선택 : T/F인 boolean type로 접근\n",
    "# 2) True값에 해당하는 값을 데이터 값으로 가져오기 위해 해당 조건문을 인덱스 [] 감싸서 선택\n",
    "\n",
    "# 30살 이상인 쌤의 모든 정보를 출력하시오\n",
    "smhrd_df[smhrd_df['age'] >= 30]\n",
    "\n",
    "# 25세 이상이면서 과목은 파이썬인 데이터만 출력하세요\n",
    "smhrd_df[(smhrd_df['subject'] == 'Python') & (smhrd_df['age'] >= 25)]"
   ]
  },
  {
   "cell_type": "markdown",
   "metadata": {},
   "source": [
    "#### train.csv"
   ]
  },
  {
   "cell_type": "code",
   "execution_count": null,
   "metadata": {},
   "outputs": [],
   "source": [
    "# 데이터 정보\n",
    "# PassengerId : 승객별 아이디\n",
    "# Survived : 생존여부 > 0: 사망 1: 생존\n",
    "# Pclass : 객실 등급 1등급, 2등급, 3등급\n",
    "# Sibsp : 합성어 > 배우자와 형제 자매가 같이 탑승한 수\n",
    "# Parch : 합성어 > 같이 탑승 가족 수\n",
    "# Fare : 요금\n",
    "# Cabin : 객실 번호\n",
    "# Embarked : 생선지 > S, C, Q"
   ]
  },
  {
   "cell_type": "code",
   "execution_count": null,
   "metadata": {},
   "outputs": [],
   "source": [
    "data = pd.read_csv(\"./data/train.csv\", encoding='utf-8', index_col='PassengerId')\n",
    "data"
   ]
  },
  {
   "cell_type": "code",
   "execution_count": null,
   "metadata": {},
   "outputs": [],
   "source": [
    "data.head(n = 3)\n",
    "data.tail(n = 3)"
   ]
  },
  {
   "cell_type": "code",
   "execution_count": null,
   "metadata": {},
   "outputs": [],
   "source": [
    "# 실습 1) 승객중에 나이가 70세 이상인 데이터만 추출\n",
    "실습 = data[data['Age'] >= 70].loc[[494, 746]]\n",
    "# 실습 2) 1에서 가져온 데이터에서 id가 494, 746인 승객의 정보 출력\n",
    "실습.loc[[494, 746]]\n",
    "data[data['Age'] >= 70].loc[[494, 746]]"
   ]
  },
  {
   "cell_type": "code",
   "execution_count": null,
   "metadata": {},
   "outputs": [],
   "source": [
    "# 실습 3)  나이가 60 이상, 선실등급 1등급인 여자\n",
    "# 실습 4)  실습 3번에서 생존 여부, 이름, 나이 추출\n",
    "\n",
    "data[(data['Age']>= 60) & (data['Pclass'] == 1) & (data['Sex'] == 'female')].loc[:,['Survived', 'Name', 'Age']]"
   ]
  },
  {
   "cell_type": "code",
   "execution_count": null,
   "metadata": {},
   "outputs": [],
   "source": [
    "# 정리\n",
    "# Data Frame뒤에 있는 []는 (df명[]) 컬럼만 지정할 수 있는 \"컬럼 지정 연산자\"이다.\n",
    "# 여러개의 컬럼에서 데이터를 추출하려면 ['컬럼1', '컬럼2']과 같이 리스트 객체를 이용하면 된다\n",
    "# 개별 또는 여러 컬럼 값 전체를 출력하고자 한다면 iloc[], loc[]를 사용하지 않고 df명[]과 같은 인덱스로도 충분하다\n",
    "# 다만 행과 열을 함께 사용하여 데이터를 추출해야 한다면 iloc[], loc[]를 사용해야 한다\n",
    "# loc[]에서 슬라이싱은 시작점 : 종료점 으로 지정할 때 시작점에서 종료점을 포함한 위치에 있는 데이터를 반환한다"
   ]
  }
 ],
 "metadata": {
  "kernelspec": {
   "display_name": "base",
   "language": "python",
   "name": "python3"
  },
  "language_info": {
   "codemirror_mode": {
    "name": "ipython",
    "version": 3
   },
   "file_extension": ".py",
   "mimetype": "text/x-python",
   "name": "python",
   "nbconvert_exporter": "python",
   "pygments_lexer": "ipython3",
   "version": "3.12.7"
  }
 },
 "nbformat": 4,
 "nbformat_minor": 2
}
