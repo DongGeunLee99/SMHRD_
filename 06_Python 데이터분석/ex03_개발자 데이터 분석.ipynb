{
 "cells": [
  {
   "cell_type": "markdown",
   "id": "f9cdab91-82af-43fa-b14a-f70108d1d97c",
   "metadata": {},
   "source": [
    "<h1> 개발자 연봉 데이터 활용 분석, 데이터 시각화 실습 </h1>\n",
    "\n",
    "1. 개발자 연봉 데이터 활용 ➜ 개발자 스킬, 연차, 성별, 지역, 별로 데이터 분석\n",
    "2. 어떤 언어를 공부해야 높은 급여를 가질 수있는지 파악\n",
    "\n",
    "><p>실행순서</p>\n",
    "<ol type=\"i\"> \n",
    "    <li> 1차 데이터 전처리\n",
    "        <ol>\n",
    "            <li> 라이브러리, 데이터 불러오기\n",
    "            <li> 데이터 연산\n",
    "            <li> 그룹화 함수 및 데이터 시각화\n",
    "        </ol>\n",
    "    <li> 2차 데이터 전처리\n",
    "        <ol>\n",
    "            <li> 리스트 데이터 처리\n",
    "            <li> Merge 함수 활용 Frame 병합\n",
    "            <li> 보유기술 및 연차에 따른 급여 시각화\n",
    "        </ol>\n",
    "</ol>"
   ]
  },
  {
   "cell_type": "markdown",
   "id": "fe4a3125",
   "metadata": {},
   "source": [
    "## <h2>1. 개발자 연봉 데이터 활용</h2>"
   ]
  },
  {
   "cell_type": "markdown",
   "id": "ee4c6aa9",
   "metadata": {},
   "source": [
    "### <h3>1. 1) 라이브러리, 데이터 불러오기</h3>"
   ]
  },
  {
   "cell_type": "code",
   "execution_count": 56,
   "id": "453ba4be-fb65-4ae0-a9c6-9beb8fe989ec",
   "metadata": {},
   "outputs": [],
   "source": [
    "# 필요한 라이브러리 불러오기\n",
    "import pandas as pd\n",
    "import numpy as np\n",
    "import matplotlib.pyplot as plt\n",
    "import seaborn as sns"
   ]
  },
  {
   "cell_type": "code",
   "execution_count": 57,
   "id": "8a5e3312-b69d-46c2-913f-520b75d6fce8",
   "metadata": {},
   "outputs": [],
   "source": [
    "# 인코딩 찾기\n",
    "import chardet # 텍스트 파일의 문자 인코딩을 자동으로 감지하는 라이브러리\n",
    "\n",
    "#가져올 데이터 확인\n",
    "with open('./data/Developer Salary.csv','rb') as f:\n",
    "    d = f.read()"
   ]
  },
  {
   "cell_type": "code",
   "execution_count": 58,
   "id": "284cad40-f156-4098-bc16-03b0ab3c7065",
   "metadata": {},
   "outputs": [
    {
     "data": {
      "text/plain": [
       "{'encoding': 'EUC-KR', 'confidence': 0.99, 'language': 'Korean'}"
      ]
     },
     "execution_count": 58,
     "metadata": {},
     "output_type": "execute_result"
    }
   ],
   "source": [
    "# detect() 문자 인코딩을 자동으로 감지하는 함수\n",
    "chardet.detect(d)"
   ]
  },
  {
   "cell_type": "code",
   "execution_count": 59,
   "id": "eaf8b9b0-4ca9-4dc5-a3d1-a1b07fc81d59",
   "metadata": {},
   "outputs": [],
   "source": [
    "# 1. 데이터 불러오기\n",
    "data= pd.read_csv('./data/Developer Salary.csv', encoding='EUC-KR')"
   ]
  },
  {
   "cell_type": "code",
   "execution_count": 60,
   "id": "94f332de-81f7-450d-b467-1ed65059b799",
   "metadata": {},
   "outputs": [
    {
     "data": {
      "text/html": [
       "<div>\n",
       "<style scoped>\n",
       "    .dataframe tbody tr th:only-of-type {\n",
       "        vertical-align: middle;\n",
       "    }\n",
       "\n",
       "    .dataframe tbody tr th {\n",
       "        vertical-align: top;\n",
       "    }\n",
       "\n",
       "    .dataframe thead th {\n",
       "        text-align: right;\n",
       "    }\n",
       "</style>\n",
       "<table border=\"1\" class=\"dataframe\">\n",
       "  <thead>\n",
       "    <tr style=\"text-align: right;\">\n",
       "      <th></th>\n",
       "      <th>나이</th>\n",
       "      <th>학력</th>\n",
       "      <th>성별</th>\n",
       "      <th>정신건강</th>\n",
       "      <th>전문직</th>\n",
       "      <th>개발공부기간</th>\n",
       "      <th>연차</th>\n",
       "      <th>국적</th>\n",
       "      <th>연봉</th>\n",
       "      <th>보유기술개수</th>\n",
       "    </tr>\n",
       "    <tr>\n",
       "      <th>일련번호</th>\n",
       "      <th></th>\n",
       "      <th></th>\n",
       "      <th></th>\n",
       "      <th></th>\n",
       "      <th></th>\n",
       "      <th></th>\n",
       "      <th></th>\n",
       "      <th></th>\n",
       "      <th></th>\n",
       "      <th></th>\n",
       "    </tr>\n",
       "  </thead>\n",
       "  <tbody>\n",
       "    <tr>\n",
       "      <th>DEV1</th>\n",
       "      <td>&lt;35</td>\n",
       "      <td>Master</td>\n",
       "      <td>Man</td>\n",
       "      <td>No</td>\n",
       "      <td>Dev</td>\n",
       "      <td>15</td>\n",
       "      <td>6</td>\n",
       "      <td>Germany</td>\n",
       "      <td>77290</td>\n",
       "      <td>7</td>\n",
       "    </tr>\n",
       "    <tr>\n",
       "      <th>DEV2</th>\n",
       "      <td>&lt;35</td>\n",
       "      <td>Undergraduate</td>\n",
       "      <td>Man</td>\n",
       "      <td>No</td>\n",
       "      <td>Dev</td>\n",
       "      <td>9</td>\n",
       "      <td>6</td>\n",
       "      <td>Canada</td>\n",
       "      <td>46135</td>\n",
       "      <td>13</td>\n",
       "    </tr>\n",
       "    <tr>\n",
       "      <th>DEV3</th>\n",
       "      <td>&gt;35</td>\n",
       "      <td>Master</td>\n",
       "      <td>Man</td>\n",
       "      <td>No</td>\n",
       "      <td>Dev</td>\n",
       "      <td>26</td>\n",
       "      <td>18</td>\n",
       "      <td>Germany</td>\n",
       "      <td>77831</td>\n",
       "      <td>17</td>\n",
       "    </tr>\n",
       "    <tr>\n",
       "      <th>DEV4</th>\n",
       "      <td>&gt;35</td>\n",
       "      <td>Undergraduate</td>\n",
       "      <td>Man</td>\n",
       "      <td>No</td>\n",
       "      <td>Dev</td>\n",
       "      <td>39</td>\n",
       "      <td>21</td>\n",
       "      <td>United Kingdom of Great Britain and Northern I...</td>\n",
       "      <td>68507</td>\n",
       "      <td>3</td>\n",
       "    </tr>\n",
       "    <tr>\n",
       "      <th>DEV5</th>\n",
       "      <td>&lt;35</td>\n",
       "      <td>Master</td>\n",
       "      <td>Man</td>\n",
       "      <td>No</td>\n",
       "      <td>Dev</td>\n",
       "      <td>19</td>\n",
       "      <td>10</td>\n",
       "      <td>Germany</td>\n",
       "      <td>60535</td>\n",
       "      <td>5</td>\n",
       "    </tr>\n",
       "    <tr>\n",
       "      <th>...</th>\n",
       "      <td>...</td>\n",
       "      <td>...</td>\n",
       "      <td>...</td>\n",
       "      <td>...</td>\n",
       "      <td>...</td>\n",
       "      <td>...</td>\n",
       "      <td>...</td>\n",
       "      <td>...</td>\n",
       "      <td>...</td>\n",
       "      <td>...</td>\n",
       "    </tr>\n",
       "    <tr>\n",
       "      <th>DEV33462</th>\n",
       "      <td>&lt;35</td>\n",
       "      <td>Master</td>\n",
       "      <td>Man</td>\n",
       "      <td>Yes</td>\n",
       "      <td>Dev</td>\n",
       "      <td>7</td>\n",
       "      <td>5</td>\n",
       "      <td>United States of America</td>\n",
       "      <td>94000</td>\n",
       "      <td>5</td>\n",
       "    </tr>\n",
       "    <tr>\n",
       "      <th>DEV33463</th>\n",
       "      <td>&lt;35</td>\n",
       "      <td>Undergraduate</td>\n",
       "      <td>Man</td>\n",
       "      <td>No</td>\n",
       "      <td>Dev</td>\n",
       "      <td>7</td>\n",
       "      <td>2</td>\n",
       "      <td>Germany</td>\n",
       "      <td>41058</td>\n",
       "      <td>13</td>\n",
       "    </tr>\n",
       "    <tr>\n",
       "      <th>DEV33464</th>\n",
       "      <td>&gt;35</td>\n",
       "      <td>Undergraduate</td>\n",
       "      <td>Man</td>\n",
       "      <td>No</td>\n",
       "      <td>Dev</td>\n",
       "      <td>21</td>\n",
       "      <td>16</td>\n",
       "      <td>United States of America</td>\n",
       "      <td>115000</td>\n",
       "      <td>11</td>\n",
       "    </tr>\n",
       "    <tr>\n",
       "      <th>DEV33465</th>\n",
       "      <td>&lt;35</td>\n",
       "      <td>Undergraduate</td>\n",
       "      <td>Man</td>\n",
       "      <td>Yes</td>\n",
       "      <td>Dev</td>\n",
       "      <td>5</td>\n",
       "      <td>1</td>\n",
       "      <td>United States of America</td>\n",
       "      <td>70000</td>\n",
       "      <td>15</td>\n",
       "    </tr>\n",
       "    <tr>\n",
       "      <th>DEV33466</th>\n",
       "      <td>&lt;35</td>\n",
       "      <td>Master</td>\n",
       "      <td>NonBinary</td>\n",
       "      <td>No</td>\n",
       "      <td>Dev</td>\n",
       "      <td>10</td>\n",
       "      <td>3</td>\n",
       "      <td>United Kingdom of Great Britain and Northern I...</td>\n",
       "      <td>75384</td>\n",
       "      <td>2</td>\n",
       "    </tr>\n",
       "  </tbody>\n",
       "</table>\n",
       "<p>33466 rows × 10 columns</p>\n",
       "</div>"
      ],
      "text/plain": [
       "           나이             학력         성별 정신건강  전문직  개발공부기간  연차  \\\n",
       "일련번호                                                            \n",
       "DEV1      <35         Master        Man   No  Dev      15   6   \n",
       "DEV2      <35  Undergraduate        Man   No  Dev       9   6   \n",
       "DEV3      >35         Master        Man   No  Dev      26  18   \n",
       "DEV4      >35  Undergraduate        Man   No  Dev      39  21   \n",
       "DEV5      <35         Master        Man   No  Dev      19  10   \n",
       "...       ...            ...        ...  ...  ...     ...  ..   \n",
       "DEV33462  <35         Master        Man  Yes  Dev       7   5   \n",
       "DEV33463  <35  Undergraduate        Man   No  Dev       7   2   \n",
       "DEV33464  >35  Undergraduate        Man   No  Dev      21  16   \n",
       "DEV33465  <35  Undergraduate        Man  Yes  Dev       5   1   \n",
       "DEV33466  <35         Master  NonBinary   No  Dev      10   3   \n",
       "\n",
       "                                                         국적      연봉  보유기술개수  \n",
       "일련번호                                                                         \n",
       "DEV1                                                Germany   77290       7  \n",
       "DEV2                                                 Canada   46135      13  \n",
       "DEV3                                                Germany   77831      17  \n",
       "DEV4      United Kingdom of Great Britain and Northern I...   68507       3  \n",
       "DEV5                                                Germany   60535       5  \n",
       "...                                                     ...     ...     ...  \n",
       "DEV33462                           United States of America   94000       5  \n",
       "DEV33463                                            Germany   41058      13  \n",
       "DEV33464                           United States of America  115000      11  \n",
       "DEV33465                           United States of America   70000      15  \n",
       "DEV33466  United Kingdom of Great Britain and Northern I...   75384       2  \n",
       "\n",
       "[33466 rows x 10 columns]"
      ]
     },
     "execution_count": 60,
     "metadata": {},
     "output_type": "execute_result"
    }
   ],
   "source": [
    "data.set_index('일련번호', inplace = True)\n",
    "data"
   ]
  },
  {
   "cell_type": "markdown",
   "id": "3391f3d6-0e95-4198-b793-403e86e9a5e0",
   "metadata": {},
   "source": [
    "> **데이터 살펴보기**\n",
    "\n",
    "* 일련번호 (인덱스 (PK))\n",
    "* 나이 (<35, >35) : 35세 미만 or 35세 이상\n",
    "* 학력 (Undergraduate : 학사, Master : 석사, phD : 박사, NohigherEd : 고등학교 졸업, Other : 그외 )\n",
    "* 성별 (Man, Woman, NonBinary) : 남자, 여자, 제 3의 성\n",
    "* 정신건강 (yes: 건강, No : 병력있음)\n",
    "* 전문직 : 전문개발자가 맞는지 (삭제예정)\n",
    "* 개발공부기간 : 코딩을 공부한 기간(수치형)\n",
    "* 연차 : 개발자로써 일을 한 기간(수치형)\n",
    "* 국적 : 독일,캐나다,영국,미국,인도,일본,한국\n",
    "* 연봉 : 1년간 받는 급여(달러)\n",
    "* 보유기술개수 : 해당 사람이 다룰 수 있는 기술의 개수(수치형)"
   ]
  },
  {
   "cell_type": "code",
   "execution_count": 61,
   "id": "e57b9621-d6b6-4715-a857-3e40512ad8ad",
   "metadata": {},
   "outputs": [
    {
     "data": {
      "text/html": [
       "<div>\n",
       "<style scoped>\n",
       "    .dataframe tbody tr th:only-of-type {\n",
       "        vertical-align: middle;\n",
       "    }\n",
       "\n",
       "    .dataframe tbody tr th {\n",
       "        vertical-align: top;\n",
       "    }\n",
       "\n",
       "    .dataframe thead th {\n",
       "        text-align: right;\n",
       "    }\n",
       "</style>\n",
       "<table border=\"1\" class=\"dataframe\">\n",
       "  <thead>\n",
       "    <tr style=\"text-align: right;\">\n",
       "      <th></th>\n",
       "      <th>나이</th>\n",
       "      <th>학력</th>\n",
       "      <th>성별</th>\n",
       "      <th>정신건강</th>\n",
       "      <th>전문직</th>\n",
       "      <th>개발공부기간</th>\n",
       "      <th>연차</th>\n",
       "      <th>국적</th>\n",
       "      <th>연봉</th>\n",
       "      <th>보유기술개수</th>\n",
       "    </tr>\n",
       "    <tr>\n",
       "      <th>일련번호</th>\n",
       "      <th></th>\n",
       "      <th></th>\n",
       "      <th></th>\n",
       "      <th></th>\n",
       "      <th></th>\n",
       "      <th></th>\n",
       "      <th></th>\n",
       "      <th></th>\n",
       "      <th></th>\n",
       "      <th></th>\n",
       "    </tr>\n",
       "  </thead>\n",
       "  <tbody>\n",
       "    <tr>\n",
       "      <th>DEV1</th>\n",
       "      <td>&lt;35</td>\n",
       "      <td>Master</td>\n",
       "      <td>Man</td>\n",
       "      <td>No</td>\n",
       "      <td>Dev</td>\n",
       "      <td>15</td>\n",
       "      <td>6</td>\n",
       "      <td>Germany</td>\n",
       "      <td>77290</td>\n",
       "      <td>7</td>\n",
       "    </tr>\n",
       "    <tr>\n",
       "      <th>DEV2</th>\n",
       "      <td>&lt;35</td>\n",
       "      <td>Undergraduate</td>\n",
       "      <td>Man</td>\n",
       "      <td>No</td>\n",
       "      <td>Dev</td>\n",
       "      <td>9</td>\n",
       "      <td>6</td>\n",
       "      <td>Canada</td>\n",
       "      <td>46135</td>\n",
       "      <td>13</td>\n",
       "    </tr>\n",
       "    <tr>\n",
       "      <th>DEV3</th>\n",
       "      <td>&gt;35</td>\n",
       "      <td>Master</td>\n",
       "      <td>Man</td>\n",
       "      <td>No</td>\n",
       "      <td>Dev</td>\n",
       "      <td>26</td>\n",
       "      <td>18</td>\n",
       "      <td>Germany</td>\n",
       "      <td>77831</td>\n",
       "      <td>17</td>\n",
       "    </tr>\n",
       "    <tr>\n",
       "      <th>DEV4</th>\n",
       "      <td>&gt;35</td>\n",
       "      <td>Undergraduate</td>\n",
       "      <td>Man</td>\n",
       "      <td>No</td>\n",
       "      <td>Dev</td>\n",
       "      <td>39</td>\n",
       "      <td>21</td>\n",
       "      <td>United Kingdom of Great Britain and Northern I...</td>\n",
       "      <td>68507</td>\n",
       "      <td>3</td>\n",
       "    </tr>\n",
       "    <tr>\n",
       "      <th>DEV5</th>\n",
       "      <td>&lt;35</td>\n",
       "      <td>Master</td>\n",
       "      <td>Man</td>\n",
       "      <td>No</td>\n",
       "      <td>Dev</td>\n",
       "      <td>19</td>\n",
       "      <td>10</td>\n",
       "      <td>Germany</td>\n",
       "      <td>60535</td>\n",
       "      <td>5</td>\n",
       "    </tr>\n",
       "  </tbody>\n",
       "</table>\n",
       "</div>"
      ],
      "text/plain": [
       "       나이             학력   성별 정신건강  전문직  개발공부기간  연차  \\\n",
       "일련번호                                                  \n",
       "DEV1  <35         Master  Man   No  Dev      15   6   \n",
       "DEV2  <35  Undergraduate  Man   No  Dev       9   6   \n",
       "DEV3  >35         Master  Man   No  Dev      26  18   \n",
       "DEV4  >35  Undergraduate  Man   No  Dev      39  21   \n",
       "DEV5  <35         Master  Man   No  Dev      19  10   \n",
       "\n",
       "                                                     국적     연봉  보유기술개수  \n",
       "일련번호                                                                    \n",
       "DEV1                                            Germany  77290       7  \n",
       "DEV2                                             Canada  46135      13  \n",
       "DEV3                                            Germany  77831      17  \n",
       "DEV4  United Kingdom of Great Britain and Northern I...  68507       3  \n",
       "DEV5                                            Germany  60535       5  "
      ]
     },
     "execution_count": 61,
     "metadata": {},
     "output_type": "execute_result"
    }
   ],
   "source": [
    "data.head()"
   ]
  },
  {
   "attachments": {
    "f8e98910-6f0b-4d03-b0cc-7c177bdc20a9.png": {
     "image/png": "[encoded data removed]"
    }
   },
   "cell_type": "markdown",
   "id": "ec24ebaf-50e2-4037-af11-5defbbcc0472",
   "metadata": {},
   "source": [
    "![image.png](attachment:f8e98910-6f0b-4d03-b0cc-7c177bdc20a9.png)"
   ]
  },
  {
   "cell_type": "markdown",
   "id": "0e64fd51",
   "metadata": {},
   "source": [
    "### <h3>1. 2) 데이터 연산</h3>"
   ]
  },
  {
   "cell_type": "code",
   "execution_count": 62,
   "id": "5d1e4fdb-f2d5-4cf0-8d19-fd508045d113",
   "metadata": {},
   "outputs": [],
   "source": [
    "# 급여 구하기\n",
    "salary = data['연봉']/12 \n",
    "\n",
    "data['월급'] = salary"
   ]
  },
  {
   "cell_type": "code",
   "execution_count": 63,
   "id": "081d7f58-077d-4874-9ae3-2bcc454f6395",
   "metadata": {},
   "outputs": [],
   "source": [
    "data['월급'] = data['월급']*1458"
   ]
  },
  {
   "cell_type": "code",
   "execution_count": 64,
   "id": "2ea9f2e3-0341-4e13-abac-93f6d7db00db",
   "metadata": {},
   "outputs": [],
   "source": [
    "data['월급'] = data['월급'].astype('int')"
   ]
  },
  {
   "cell_type": "code",
   "execution_count": 65,
   "id": "30324000-5875-4ec9-8bc0-b4c6c3a66373",
   "metadata": {},
   "outputs": [
    {
     "data": {
      "text/html": [
       "<div>\n",
       "<style scoped>\n",
       "    .dataframe tbody tr th:only-of-type {\n",
       "        vertical-align: middle;\n",
       "    }\n",
       "\n",
       "    .dataframe tbody tr th {\n",
       "        vertical-align: top;\n",
       "    }\n",
       "\n",
       "    .dataframe thead th {\n",
       "        text-align: right;\n",
       "    }\n",
       "</style>\n",
       "<table border=\"1\" class=\"dataframe\">\n",
       "  <thead>\n",
       "    <tr style=\"text-align: right;\">\n",
       "      <th></th>\n",
       "      <th>나이</th>\n",
       "      <th>학력</th>\n",
       "      <th>성별</th>\n",
       "      <th>정신건강</th>\n",
       "      <th>전문직</th>\n",
       "      <th>개발공부기간</th>\n",
       "      <th>연차</th>\n",
       "      <th>국적</th>\n",
       "      <th>연봉</th>\n",
       "      <th>보유기술개수</th>\n",
       "      <th>월급</th>\n",
       "    </tr>\n",
       "    <tr>\n",
       "      <th>일련번호</th>\n",
       "      <th></th>\n",
       "      <th></th>\n",
       "      <th></th>\n",
       "      <th></th>\n",
       "      <th></th>\n",
       "      <th></th>\n",
       "      <th></th>\n",
       "      <th></th>\n",
       "      <th></th>\n",
       "      <th></th>\n",
       "      <th></th>\n",
       "    </tr>\n",
       "  </thead>\n",
       "  <tbody>\n",
       "    <tr>\n",
       "      <th>DEV1</th>\n",
       "      <td>&lt;35</td>\n",
       "      <td>Master</td>\n",
       "      <td>Man</td>\n",
       "      <td>No</td>\n",
       "      <td>Dev</td>\n",
       "      <td>15</td>\n",
       "      <td>6</td>\n",
       "      <td>Germany</td>\n",
       "      <td>77290</td>\n",
       "      <td>7</td>\n",
       "      <td>9390735</td>\n",
       "    </tr>\n",
       "    <tr>\n",
       "      <th>DEV2</th>\n",
       "      <td>&lt;35</td>\n",
       "      <td>Undergraduate</td>\n",
       "      <td>Man</td>\n",
       "      <td>No</td>\n",
       "      <td>Dev</td>\n",
       "      <td>9</td>\n",
       "      <td>6</td>\n",
       "      <td>Canada</td>\n",
       "      <td>46135</td>\n",
       "      <td>13</td>\n",
       "      <td>5605402</td>\n",
       "    </tr>\n",
       "    <tr>\n",
       "      <th>DEV3</th>\n",
       "      <td>&gt;35</td>\n",
       "      <td>Master</td>\n",
       "      <td>Man</td>\n",
       "      <td>No</td>\n",
       "      <td>Dev</td>\n",
       "      <td>26</td>\n",
       "      <td>18</td>\n",
       "      <td>Germany</td>\n",
       "      <td>77831</td>\n",
       "      <td>17</td>\n",
       "      <td>9456466</td>\n",
       "    </tr>\n",
       "    <tr>\n",
       "      <th>DEV4</th>\n",
       "      <td>&gt;35</td>\n",
       "      <td>Undergraduate</td>\n",
       "      <td>Man</td>\n",
       "      <td>No</td>\n",
       "      <td>Dev</td>\n",
       "      <td>39</td>\n",
       "      <td>21</td>\n",
       "      <td>United Kingdom of Great Britain and Northern I...</td>\n",
       "      <td>68507</td>\n",
       "      <td>3</td>\n",
       "      <td>8323600</td>\n",
       "    </tr>\n",
       "    <tr>\n",
       "      <th>DEV5</th>\n",
       "      <td>&lt;35</td>\n",
       "      <td>Master</td>\n",
       "      <td>Man</td>\n",
       "      <td>No</td>\n",
       "      <td>Dev</td>\n",
       "      <td>19</td>\n",
       "      <td>10</td>\n",
       "      <td>Germany</td>\n",
       "      <td>60535</td>\n",
       "      <td>5</td>\n",
       "      <td>7355002</td>\n",
       "    </tr>\n",
       "    <tr>\n",
       "      <th>...</th>\n",
       "      <td>...</td>\n",
       "      <td>...</td>\n",
       "      <td>...</td>\n",
       "      <td>...</td>\n",
       "      <td>...</td>\n",
       "      <td>...</td>\n",
       "      <td>...</td>\n",
       "      <td>...</td>\n",
       "      <td>...</td>\n",
       "      <td>...</td>\n",
       "      <td>...</td>\n",
       "    </tr>\n",
       "    <tr>\n",
       "      <th>DEV33462</th>\n",
       "      <td>&lt;35</td>\n",
       "      <td>Master</td>\n",
       "      <td>Man</td>\n",
       "      <td>Yes</td>\n",
       "      <td>Dev</td>\n",
       "      <td>7</td>\n",
       "      <td>5</td>\n",
       "      <td>United States of America</td>\n",
       "      <td>94000</td>\n",
       "      <td>5</td>\n",
       "      <td>11421000</td>\n",
       "    </tr>\n",
       "    <tr>\n",
       "      <th>DEV33463</th>\n",
       "      <td>&lt;35</td>\n",
       "      <td>Undergraduate</td>\n",
       "      <td>Man</td>\n",
       "      <td>No</td>\n",
       "      <td>Dev</td>\n",
       "      <td>7</td>\n",
       "      <td>2</td>\n",
       "      <td>Germany</td>\n",
       "      <td>41058</td>\n",
       "      <td>13</td>\n",
       "      <td>4988547</td>\n",
       "    </tr>\n",
       "    <tr>\n",
       "      <th>DEV33464</th>\n",
       "      <td>&gt;35</td>\n",
       "      <td>Undergraduate</td>\n",
       "      <td>Man</td>\n",
       "      <td>No</td>\n",
       "      <td>Dev</td>\n",
       "      <td>21</td>\n",
       "      <td>16</td>\n",
       "      <td>United States of America</td>\n",
       "      <td>115000</td>\n",
       "      <td>11</td>\n",
       "      <td>13972500</td>\n",
       "    </tr>\n",
       "    <tr>\n",
       "      <th>DEV33465</th>\n",
       "      <td>&lt;35</td>\n",
       "      <td>Undergraduate</td>\n",
       "      <td>Man</td>\n",
       "      <td>Yes</td>\n",
       "      <td>Dev</td>\n",
       "      <td>5</td>\n",
       "      <td>1</td>\n",
       "      <td>United States of America</td>\n",
       "      <td>70000</td>\n",
       "      <td>15</td>\n",
       "      <td>8505000</td>\n",
       "    </tr>\n",
       "    <tr>\n",
       "      <th>DEV33466</th>\n",
       "      <td>&lt;35</td>\n",
       "      <td>Master</td>\n",
       "      <td>NonBinary</td>\n",
       "      <td>No</td>\n",
       "      <td>Dev</td>\n",
       "      <td>10</td>\n",
       "      <td>3</td>\n",
       "      <td>United Kingdom of Great Britain and Northern I...</td>\n",
       "      <td>75384</td>\n",
       "      <td>2</td>\n",
       "      <td>9159156</td>\n",
       "    </tr>\n",
       "  </tbody>\n",
       "</table>\n",
       "<p>33466 rows × 11 columns</p>\n",
       "</div>"
      ],
      "text/plain": [
       "           나이             학력         성별 정신건강  전문직  개발공부기간  연차  \\\n",
       "일련번호                                                            \n",
       "DEV1      <35         Master        Man   No  Dev      15   6   \n",
       "DEV2      <35  Undergraduate        Man   No  Dev       9   6   \n",
       "DEV3      >35         Master        Man   No  Dev      26  18   \n",
       "DEV4      >35  Undergraduate        Man   No  Dev      39  21   \n",
       "DEV5      <35         Master        Man   No  Dev      19  10   \n",
       "...       ...            ...        ...  ...  ...     ...  ..   \n",
       "DEV33462  <35         Master        Man  Yes  Dev       7   5   \n",
       "DEV33463  <35  Undergraduate        Man   No  Dev       7   2   \n",
       "DEV33464  >35  Undergraduate        Man   No  Dev      21  16   \n",
       "DEV33465  <35  Undergraduate        Man  Yes  Dev       5   1   \n",
       "DEV33466  <35         Master  NonBinary   No  Dev      10   3   \n",
       "\n",
       "                                                         국적      연봉  보유기술개수  \\\n",
       "일련번호                                                                          \n",
       "DEV1                                                Germany   77290       7   \n",
       "DEV2                                                 Canada   46135      13   \n",
       "DEV3                                                Germany   77831      17   \n",
       "DEV4      United Kingdom of Great Britain and Northern I...   68507       3   \n",
       "DEV5                                                Germany   60535       5   \n",
       "...                                                     ...     ...     ...   \n",
       "DEV33462                           United States of America   94000       5   \n",
       "DEV33463                                            Germany   41058      13   \n",
       "DEV33464                           United States of America  115000      11   \n",
       "DEV33465                           United States of America   70000      15   \n",
       "DEV33466  United Kingdom of Great Britain and Northern I...   75384       2   \n",
       "\n",
       "                월급  \n",
       "일련번호                \n",
       "DEV1       9390735  \n",
       "DEV2       5605402  \n",
       "DEV3       9456466  \n",
       "DEV4       8323600  \n",
       "DEV5       7355002  \n",
       "...            ...  \n",
       "DEV33462  11421000  \n",
       "DEV33463   4988547  \n",
       "DEV33464  13972500  \n",
       "DEV33465   8505000  \n",
       "DEV33466   9159156  \n",
       "\n",
       "[33466 rows x 11 columns]"
      ]
     },
     "execution_count": 65,
     "metadata": {},
     "output_type": "execute_result"
    }
   ],
   "source": [
    "data"
   ]
  },
  {
   "cell_type": "code",
   "execution_count": 66,
   "id": "bdf7ed51-88d1-4f2c-8652-fb85e755a34e",
   "metadata": {},
   "outputs": [
    {
     "name": "stdout",
     "output_type": "stream",
     "text": [
      "<class 'pandas.core.frame.DataFrame'>\n",
      "Index: 33466 entries, DEV1 to DEV33466\n",
      "Data columns (total 11 columns):\n",
      " #   Column  Non-Null Count  Dtype \n",
      "---  ------  --------------  ----- \n",
      " 0   나이      33466 non-null  object\n",
      " 1   학력      33466 non-null  object\n",
      " 2   성별      33466 non-null  object\n",
      " 3   정신건강    33466 non-null  object\n",
      " 4   전문직     33466 non-null  object\n",
      " 5   개발공부기간  33466 non-null  int64 \n",
      " 6   연차      33466 non-null  int64 \n",
      " 7   국적      33466 non-null  object\n",
      " 8   연봉      33466 non-null  int64 \n",
      " 9   보유기술개수  33466 non-null  int64 \n",
      " 10  월급      33466 non-null  int32 \n",
      "dtypes: int32(1), int64(4), object(6)\n",
      "memory usage: 2.9+ MB\n"
     ]
    },
    {
     "data": {
      "text/html": [
       "<div>\n",
       "<style scoped>\n",
       "    .dataframe tbody tr th:only-of-type {\n",
       "        vertical-align: middle;\n",
       "    }\n",
       "\n",
       "    .dataframe tbody tr th {\n",
       "        vertical-align: top;\n",
       "    }\n",
       "\n",
       "    .dataframe thead th {\n",
       "        text-align: right;\n",
       "    }\n",
       "</style>\n",
       "<table border=\"1\" class=\"dataframe\">\n",
       "  <thead>\n",
       "    <tr style=\"text-align: right;\">\n",
       "      <th></th>\n",
       "      <th>나이</th>\n",
       "      <th>학력</th>\n",
       "      <th>성별</th>\n",
       "      <th>정신건강</th>\n",
       "      <th>전문직</th>\n",
       "      <th>국적</th>\n",
       "    </tr>\n",
       "  </thead>\n",
       "  <tbody>\n",
       "    <tr>\n",
       "      <th>count</th>\n",
       "      <td>33466</td>\n",
       "      <td>33466</td>\n",
       "      <td>33466</td>\n",
       "      <td>33466</td>\n",
       "      <td>33466</td>\n",
       "      <td>33466</td>\n",
       "    </tr>\n",
       "    <tr>\n",
       "      <th>unique</th>\n",
       "      <td>2</td>\n",
       "      <td>5</td>\n",
       "      <td>3</td>\n",
       "      <td>2</td>\n",
       "      <td>2</td>\n",
       "      <td>7</td>\n",
       "    </tr>\n",
       "    <tr>\n",
       "      <th>top</th>\n",
       "      <td>&lt;35</td>\n",
       "      <td>Undergraduate</td>\n",
       "      <td>Man</td>\n",
       "      <td>No</td>\n",
       "      <td>Dev</td>\n",
       "      <td>United States of America</td>\n",
       "    </tr>\n",
       "    <tr>\n",
       "      <th>freq</th>\n",
       "      <td>20746</td>\n",
       "      <td>19232</td>\n",
       "      <td>30848</td>\n",
       "      <td>24532</td>\n",
       "      <td>30588</td>\n",
       "      <td>14696</td>\n",
       "    </tr>\n",
       "  </tbody>\n",
       "</table>\n",
       "</div>"
      ],
      "text/plain": [
       "           나이             학력     성별   정신건강    전문직                        국적\n",
       "count   33466          33466  33466  33466  33466                     33466\n",
       "unique      2              5      3      2      2                         7\n",
       "top       <35  Undergraduate    Man     No    Dev  United States of America\n",
       "freq    20746          19232  30848  24532  30588                     14696"
      ]
     },
     "execution_count": 66,
     "metadata": {},
     "output_type": "execute_result"
    }
   ],
   "source": [
    "# 기술 통계 확인하기\n",
    "# describe() : 해당 데이터의 문자 데이터, 숫자 데이터의 기술 통계를 출력 \n",
    "# 기본적으로 숫자 데이터에 대한 기술 통계 반환\n",
    "\n",
    "data.describe()\n",
    "\n",
    "data.info()\n",
    "\n",
    "# 문자 데이터의 기술 통계량 확인\n",
    "data.describe(include='object')"
   ]
  },
  {
   "cell_type": "code",
   "execution_count": 67,
   "id": "3c801401-9b33-411f-9804-11f6592d1c5d",
   "metadata": {},
   "outputs": [
    {
     "data": {
      "text/html": [
       "<div>\n",
       "<style scoped>\n",
       "    .dataframe tbody tr th:only-of-type {\n",
       "        vertical-align: middle;\n",
       "    }\n",
       "\n",
       "    .dataframe tbody tr th {\n",
       "        vertical-align: top;\n",
       "    }\n",
       "\n",
       "    .dataframe thead th {\n",
       "        text-align: right;\n",
       "    }\n",
       "</style>\n",
       "<table border=\"1\" class=\"dataframe\">\n",
       "  <thead>\n",
       "    <tr style=\"text-align: right;\">\n",
       "      <th></th>\n",
       "      <th>개발공부기간</th>\n",
       "      <th>연차</th>\n",
       "      <th>연봉</th>\n",
       "      <th>보유기술개수</th>\n",
       "      <th>월급</th>\n",
       "    </tr>\n",
       "  </thead>\n",
       "  <tbody>\n",
       "    <tr>\n",
       "      <th>count</th>\n",
       "      <td>33466.000000</td>\n",
       "      <td>33466.000000</td>\n",
       "      <td>33466.000000</td>\n",
       "      <td>33466.000000</td>\n",
       "      <td>3.346600e+04</td>\n",
       "    </tr>\n",
       "    <tr>\n",
       "      <th>mean</th>\n",
       "      <td>15.160103</td>\n",
       "      <td>9.765523</td>\n",
       "      <td>89023.017988</td>\n",
       "      <td>13.230025</td>\n",
       "      <td>1.081630e+07</td>\n",
       "    </tr>\n",
       "    <tr>\n",
       "      <th>std</th>\n",
       "      <td>10.092218</td>\n",
       "      <td>8.609730</td>\n",
       "      <td>53306.941978</td>\n",
       "      <td>6.840151</td>\n",
       "      <td>6.476793e+06</td>\n",
       "    </tr>\n",
       "    <tr>\n",
       "      <th>min</th>\n",
       "      <td>0.000000</td>\n",
       "      <td>0.000000</td>\n",
       "      <td>1.000000</td>\n",
       "      <td>0.000000</td>\n",
       "      <td>1.210000e+02</td>\n",
       "    </tr>\n",
       "    <tr>\n",
       "      <th>25%</th>\n",
       "      <td>8.000000</td>\n",
       "      <td>4.000000</td>\n",
       "      <td>50000.000000</td>\n",
       "      <td>8.000000</td>\n",
       "      <td>6.075000e+06</td>\n",
       "    </tr>\n",
       "    <tr>\n",
       "      <th>50%</th>\n",
       "      <td>12.000000</td>\n",
       "      <td>7.000000</td>\n",
       "      <td>82890.000000</td>\n",
       "      <td>12.000000</td>\n",
       "      <td>1.007114e+07</td>\n",
       "    </tr>\n",
       "    <tr>\n",
       "      <th>75%</th>\n",
       "      <td>20.000000</td>\n",
       "      <td>14.000000</td>\n",
       "      <td>125639.000000</td>\n",
       "      <td>17.000000</td>\n",
       "      <td>1.526514e+07</td>\n",
       "    </tr>\n",
       "    <tr>\n",
       "      <th>max</th>\n",
       "      <td>50.000000</td>\n",
       "      <td>50.000000</td>\n",
       "      <td>224000.000000</td>\n",
       "      <td>105.000000</td>\n",
       "      <td>2.721600e+07</td>\n",
       "    </tr>\n",
       "  </tbody>\n",
       "</table>\n",
       "</div>"
      ],
      "text/plain": [
       "             개발공부기간            연차             연봉        보유기술개수            월급\n",
       "count  33466.000000  33466.000000   33466.000000  33466.000000  3.346600e+04\n",
       "mean      15.160103      9.765523   89023.017988     13.230025  1.081630e+07\n",
       "std       10.092218      8.609730   53306.941978      6.840151  6.476793e+06\n",
       "min        0.000000      0.000000       1.000000      0.000000  1.210000e+02\n",
       "25%        8.000000      4.000000   50000.000000      8.000000  6.075000e+06\n",
       "50%       12.000000      7.000000   82890.000000     12.000000  1.007114e+07\n",
       "75%       20.000000     14.000000  125639.000000     17.000000  1.526514e+07\n",
       "max       50.000000     50.000000  224000.000000    105.000000  2.721600e+07"
      ]
     },
     "execution_count": 67,
     "metadata": {},
     "output_type": "execute_result"
    }
   ],
   "source": [
    "data.describe()"
   ]
  },
  {
   "cell_type": "code",
   "execution_count": 68,
   "id": "4cf8c745-e678-47d6-a498-4dd6b7ac841d",
   "metadata": {},
   "outputs": [
    {
     "data": {
      "text/plain": [
       "성별\n",
       "Man          30848\n",
       "Woman         1870\n",
       "NonBinary      748\n",
       "Name: count, dtype: int64"
      ]
     },
     "execution_count": 68,
     "metadata": {},
     "output_type": "execute_result"
    }
   ],
   "source": [
    "# 개발자의 남녀 비율 확인\n",
    "data['성별'].value_counts()"
   ]
  },
  {
   "cell_type": "code",
   "execution_count": 69,
   "id": "10a43eb8-c351-4768-86a5-c9aca61d9acc",
   "metadata": {},
   "outputs": [
    {
     "data": {
      "text/plain": [
       "10816297.0"
      ]
     },
     "execution_count": 69,
     "metadata": {},
     "output_type": "execute_result"
    }
   ],
   "source": [
    "# 1. 개발자 전체 평균 월급 구하시오\n",
    "data['월급'].mean().round()"
   ]
  },
  {
   "cell_type": "code",
   "execution_count": 70,
   "id": "a9ff2076-1311-413c-b188-ee528eb764d8",
   "metadata": {},
   "outputs": [
    {
     "data": {
      "text/html": [
       "<div>\n",
       "<style scoped>\n",
       "    .dataframe tbody tr th:only-of-type {\n",
       "        vertical-align: middle;\n",
       "    }\n",
       "\n",
       "    .dataframe tbody tr th {\n",
       "        vertical-align: top;\n",
       "    }\n",
       "\n",
       "    .dataframe thead th {\n",
       "        text-align: right;\n",
       "    }\n",
       "</style>\n",
       "<table border=\"1\" class=\"dataframe\">\n",
       "  <thead>\n",
       "    <tr style=\"text-align: right;\">\n",
       "      <th></th>\n",
       "      <th>월급</th>\n",
       "    </tr>\n",
       "    <tr>\n",
       "      <th>국적</th>\n",
       "      <th></th>\n",
       "    </tr>\n",
       "  </thead>\n",
       "  <tbody>\n",
       "    <tr>\n",
       "      <th>Canada</th>\n",
       "      <td>10491868</td>\n",
       "    </tr>\n",
       "    <tr>\n",
       "      <th>Germany</th>\n",
       "      <td>8489793</td>\n",
       "    </tr>\n",
       "    <tr>\n",
       "      <th>India</th>\n",
       "      <td>2942408</td>\n",
       "    </tr>\n",
       "    <tr>\n",
       "      <th>Japan</th>\n",
       "      <td>7928930</td>\n",
       "    </tr>\n",
       "    <tr>\n",
       "      <th>South Korea</th>\n",
       "      <td>5768357</td>\n",
       "    </tr>\n",
       "    <tr>\n",
       "      <th>United Kingdom of Great Britain and Northern Ireland</th>\n",
       "      <td>9855718</td>\n",
       "    </tr>\n",
       "    <tr>\n",
       "      <th>United States of America</th>\n",
       "      <td>15038785</td>\n",
       "    </tr>\n",
       "  </tbody>\n",
       "</table>\n",
       "</div>"
      ],
      "text/plain": [
       "                                                          월급\n",
       "국적                                                          \n",
       "Canada                                              10491868\n",
       "Germany                                              8489793\n",
       "India                                                2942408\n",
       "Japan                                                7928930\n",
       "South Korea                                          5768357\n",
       "United Kingdom of Great Britain and Northern Ir...   9855718\n",
       "United States of America                            15038785"
      ]
     },
     "execution_count": 70,
     "metadata": {},
     "output_type": "execute_result"
    }
   ],
   "source": [
    "# 2. 국적별 평균 월급\n",
    "country_pay_mean = data[['국적','월급']].groupby(by='국적').mean().astype('int')\n",
    "country_pay_mean"
   ]
  },
  {
   "cell_type": "markdown",
   "id": "a651d0b0",
   "metadata": {},
   "source": [
    "### <h3>1. 3) 그룹화 함수 및 데이터 시각화</h3>"
   ]
  },
  {
   "cell_type": "markdown",
   "id": "269e5967",
   "metadata": {},
   "source": [
    "#### plt"
   ]
  },
  {
   "cell_type": "code",
   "execution_count": 71,
   "id": "45df3b3e-a91c-43bf-b746-468cff532e1a",
   "metadata": {},
   "outputs": [],
   "source": [
    "# 한글불러기기\n",
    "from matplotlib import pyplot as plt\n",
    "\n",
    "plt.rcParams['font.family']='Gulim'"
   ]
  },
  {
   "cell_type": "code",
   "execution_count": 72,
   "id": "7091a355-7104-4714-b95c-e7a1a72405d0",
   "metadata": {},
   "outputs": [
    {
     "data": {
      "text/plain": [
       "<Axes: ylabel='국적'>"
      ]
     },
     "execution_count": 72,
     "metadata": {},
     "output_type": "execute_result"
    },
    {
     "data": {
      "image/png": "[encoded data removed]",
      "text/plain": [
       "<Figure size 640x480 with 1 Axes>"
      ]
     },
     "metadata": {},
     "output_type": "display_data"
    }
   ],
   "source": [
    "# 국적별 평균 월급을 시각화 해서 보기\n",
    "country_pay_mean.plot(kind='barh', colormap = 'Set3')\n",
    "\n",
    "#kind : 그래프의 종류를 정하는 매개변수\n",
    "# bar : 막대그래프, 그래프의 값들의 크기 차이를 보기 용이하다"
   ]
  },
  {
   "cell_type": "code",
   "execution_count": 73,
   "id": "a8adaafd-7f8f-4a8c-b0c7-23530283e625",
   "metadata": {},
   "outputs": [
    {
     "data": {
      "text/plain": [
       "5768357"
      ]
     },
     "execution_count": 73,
     "metadata": {},
     "output_type": "execute_result"
    }
   ],
   "source": [
    "# 2-1 국적이 한국인 사람의 평균월듭\n",
    "korea =data[data['국적']=='South Korea']\n",
    "korea['월급'].mean().astype('int')"
   ]
  },
  {
   "cell_type": "code",
   "execution_count": 74,
   "id": "c31bdda6-1730-42af-80bf-5bf864bcdca5",
   "metadata": {},
   "outputs": [
    {
     "data": {
      "text/html": [
       "<div>\n",
       "<style scoped>\n",
       "    .dataframe tbody tr th:only-of-type {\n",
       "        vertical-align: middle;\n",
       "    }\n",
       "\n",
       "    .dataframe tbody tr th {\n",
       "        vertical-align: top;\n",
       "    }\n",
       "\n",
       "    .dataframe thead th {\n",
       "        text-align: right;\n",
       "    }\n",
       "</style>\n",
       "<table border=\"1\" class=\"dataframe\">\n",
       "  <thead>\n",
       "    <tr style=\"text-align: right;\">\n",
       "      <th></th>\n",
       "      <th>월급</th>\n",
       "    </tr>\n",
       "    <tr>\n",
       "      <th>학력</th>\n",
       "      <th></th>\n",
       "    </tr>\n",
       "  </thead>\n",
       "  <tbody>\n",
       "    <tr>\n",
       "      <th>Master</th>\n",
       "      <td>11215431</td>\n",
       "    </tr>\n",
       "    <tr>\n",
       "      <th>NoHigherEd</th>\n",
       "      <td>8948487</td>\n",
       "    </tr>\n",
       "    <tr>\n",
       "      <th>Other</th>\n",
       "      <td>10984933</td>\n",
       "    </tr>\n",
       "    <tr>\n",
       "      <th>PhD</th>\n",
       "      <td>12785233</td>\n",
       "    </tr>\n",
       "    <tr>\n",
       "      <th>Undergraduate</th>\n",
       "      <td>10619366</td>\n",
       "    </tr>\n",
       "  </tbody>\n",
       "</table>\n",
       "</div>"
      ],
      "text/plain": [
       "                     월급\n",
       "학력                     \n",
       "Master         11215431\n",
       "NoHigherEd      8948487\n",
       "Other          10984933\n",
       "PhD            12785233\n",
       "Undergraduate  10619366"
      ]
     },
     "execution_count": 74,
     "metadata": {},
     "output_type": "execute_result"
    }
   ],
   "source": [
    "# 1) 학력별 평균 월급을 계산하여\n",
    "hac=data[['학력','월급']].groupby(by = '학력').mean('월급').astype('int')\n",
    "hac"
   ]
  },
  {
   "cell_type": "code",
   "execution_count": 75,
   "id": "b44616d0-02f4-4231-bb21-b973ce113897",
   "metadata": {},
   "outputs": [
    {
     "data": {
      "text/plain": [
       "<Axes: ylabel='학력'>"
      ]
     },
     "execution_count": 75,
     "metadata": {},
     "output_type": "execute_result"
    },
    {
     "data": {
      "image/png": "[encoded data removed]",
      "text/plain": [
       "<Figure size 640x480 with 1 Axes>"
      ]
     },
     "metadata": {},
     "output_type": "display_data"
    }
   ],
   "source": [
    "# 2) 시각화\n",
    "hac.plot(kind='barh', color='skyblue')"
   ]
  },
  {
   "cell_type": "code",
   "execution_count": 76,
   "id": "295c3650-d107-4834-bfac-262354b39c8d",
   "metadata": {},
   "outputs": [],
   "source": [
    "# 성별 기준으로 평균 월급 계산\n",
    "# data['성별'].mean()"
   ]
  },
  {
   "cell_type": "code",
   "execution_count": 77,
   "id": "959be36c-f913-4d6e-89c6-898bce4fb403",
   "metadata": {},
   "outputs": [],
   "source": [
    "#성별기준으로 평균 월급 시각화\n",
    "gender = data[['성별','월급']].groupby(by='성별').mean().astype('int')"
   ]
  },
  {
   "cell_type": "code",
   "execution_count": 78,
   "id": "6ed2fdc6-f38d-4d47-8676-7c0d4add6571",
   "metadata": {},
   "outputs": [
    {
     "data": {
      "text/plain": [
       "<Axes: xlabel='성별'>"
      ]
     },
     "execution_count": 78,
     "metadata": {},
     "output_type": "execute_result"
    },
    {
     "data": {
      "image/png": "[encoded data removed]",
      "text/plain": [
       "<Figure size 640x480 with 1 Axes>"
      ]
     },
     "metadata": {},
     "output_type": "display_data"
    }
   ],
   "source": [
    "gender.plot(kind='bar', color='gray')"
   ]
  },
  {
   "cell_type": "code",
   "execution_count": 79,
   "id": "96d8bb9c-fad9-4e55-b793-d0715e664d02",
   "metadata": {},
   "outputs": [
    {
     "data": {
      "text/html": [
       "<div>\n",
       "<style scoped>\n",
       "    .dataframe tbody tr th:only-of-type {\n",
       "        vertical-align: middle;\n",
       "    }\n",
       "\n",
       "    .dataframe tbody tr th {\n",
       "        vertical-align: top;\n",
       "    }\n",
       "\n",
       "    .dataframe thead th {\n",
       "        text-align: right;\n",
       "    }\n",
       "</style>\n",
       "<table border=\"1\" class=\"dataframe\">\n",
       "  <thead>\n",
       "    <tr style=\"text-align: right;\">\n",
       "      <th></th>\n",
       "      <th></th>\n",
       "      <th>월급</th>\n",
       "    </tr>\n",
       "    <tr>\n",
       "      <th>성별</th>\n",
       "      <th>학력</th>\n",
       "      <th></th>\n",
       "    </tr>\n",
       "  </thead>\n",
       "  <tbody>\n",
       "    <tr>\n",
       "      <th rowspan=\"5\" valign=\"top\">Man</th>\n",
       "      <th>Master</th>\n",
       "      <td>11224651</td>\n",
       "    </tr>\n",
       "    <tr>\n",
       "      <th>NoHigherEd</th>\n",
       "      <td>9007786</td>\n",
       "    </tr>\n",
       "    <tr>\n",
       "      <th>Other</th>\n",
       "      <td>11055450</td>\n",
       "    </tr>\n",
       "    <tr>\n",
       "      <th>PhD</th>\n",
       "      <td>12942428</td>\n",
       "    </tr>\n",
       "    <tr>\n",
       "      <th>Undergraduate</th>\n",
       "      <td>10615616</td>\n",
       "    </tr>\n",
       "    <tr>\n",
       "      <th rowspan=\"5\" valign=\"top\">NonBinary</th>\n",
       "      <th>Master</th>\n",
       "      <td>11806289</td>\n",
       "    </tr>\n",
       "    <tr>\n",
       "      <th>NoHigherEd</th>\n",
       "      <td>8012275</td>\n",
       "    </tr>\n",
       "    <tr>\n",
       "      <th>Other</th>\n",
       "      <td>10139613</td>\n",
       "    </tr>\n",
       "    <tr>\n",
       "      <th>PhD</th>\n",
       "      <td>11278273</td>\n",
       "    </tr>\n",
       "    <tr>\n",
       "      <th>Undergraduate</th>\n",
       "      <td>11603708</td>\n",
       "    </tr>\n",
       "    <tr>\n",
       "      <th rowspan=\"5\" valign=\"top\">Woman</th>\n",
       "      <th>Master</th>\n",
       "      <td>10897994</td>\n",
       "    </tr>\n",
       "    <tr>\n",
       "      <th>NoHigherEd</th>\n",
       "      <td>8310016</td>\n",
       "    </tr>\n",
       "    <tr>\n",
       "      <th>Other</th>\n",
       "      <td>10014551</td>\n",
       "    </tr>\n",
       "    <tr>\n",
       "      <th>PhD</th>\n",
       "      <td>11101579</td>\n",
       "    </tr>\n",
       "    <tr>\n",
       "      <th>Undergraduate</th>\n",
       "      <td>10319634</td>\n",
       "    </tr>\n",
       "  </tbody>\n",
       "</table>\n",
       "</div>"
      ],
      "text/plain": [
       "                               월급\n",
       "성별        학력                     \n",
       "Man       Master         11224651\n",
       "          NoHigherEd      9007786\n",
       "          Other          11055450\n",
       "          PhD            12942428\n",
       "          Undergraduate  10615616\n",
       "NonBinary Master         11806289\n",
       "          NoHigherEd      8012275\n",
       "          Other          10139613\n",
       "          PhD            11278273\n",
       "          Undergraduate  11603708\n",
       "Woman     Master         10897994\n",
       "          NoHigherEd      8310016\n",
       "          Other          10014551\n",
       "          PhD            11101579\n",
       "          Undergraduate  10319634"
      ]
     },
     "execution_count": 79,
     "metadata": {},
     "output_type": "execute_result"
    }
   ],
   "source": [
    "# 멀티 인덱스 \n",
    "# 2개 이상의 컬럼을 동시에 인덱스로 갖는 경우를 멀티 인덱스라고 부름\n",
    "\n",
    "# 성별 학력 기준으로 평균 월급을 구해봄\n",
    "\n",
    "gender_grade = data[['성별','학력','월급']].groupby(by=['성별','학력']).mean().astype(int)\n",
    "gender_grade\n",
    "# groupby안에 2가지 그룹을 넣어주면 나뒤어서 인덱스를 찾을수 있게 된다."
   ]
  },
  {
   "cell_type": "code",
   "execution_count": 80,
   "id": "de187d0e-21bd-4b30-9b6f-bdde62bb29c5",
   "metadata": {},
   "outputs": [
    {
     "data": {
      "text/plain": [
       "<Axes: xlabel='월급', ylabel='학력'>"
      ]
     },
     "execution_count": 80,
     "metadata": {},
     "output_type": "execute_result"
    },
    {
     "data": {
      "image/png": "[encoded data removed]",
      "text/plain": [
       "<Figure size 640x480 with 1 Axes>"
      ]
     },
     "metadata": {},
     "output_type": "display_data"
    }
   ],
   "source": [
    "import seaborn as sns\n",
    "\n",
    "sns.barplot(data=gender_grade, x = '월급', y='학력', hue = '성별', palette ='magma')\n",
    "# hue > 컬럼명에 따라 막대를 색상별로 구분해서 보겠다.\n",
    "# platette > 막대그래프의 색깔을 지정"
   ]
  },
  {
   "cell_type": "code",
   "execution_count": 81,
   "id": "131cbbc7-58c1-45c9-8bcc-4a5ba6a4310d",
   "metadata": {},
   "outputs": [],
   "source": [
    "# 나이, 국적 기준으로 평균 월급 구하기\n",
    "age_coun = data[['나이','국적','월급']].groupby(by=['나이','국적']).mean().astype('int')"
   ]
  },
  {
   "cell_type": "code",
   "execution_count": 82,
   "id": "43572bf4-595b-47d9-95cb-8e86a4ed4747",
   "metadata": {},
   "outputs": [
    {
     "data": {
      "text/plain": [
       "<Axes: xlabel='월급', ylabel='국적'>"
      ]
     },
     "execution_count": 82,
     "metadata": {},
     "output_type": "execute_result"
    },
    {
     "data": {
      "image/png": "[encoded data removed]",
      "text/plain": [
       "<Figure size 640x480 with 1 Axes>"
      ]
     },
     "metadata": {},
     "output_type": "display_data"
    }
   ],
   "source": [
    "#시각화까지\n",
    "sns.barplot(data=age_coun,x='월급',y='국적',hue='나이')"
   ]
  },
  {
   "cell_type": "markdown",
   "id": "4847018a",
   "metadata": {},
   "source": [
    "#### 멀티 인덱스 (Multi-Index)\n",
    "- 2개 이상의 컬럼을 동시에 인덱스로 갖는 경우를 멀티 인덱스라 부른다\n",
    "- 멀티 인덱스를 활용해서 여러 특징을 기준으로 데이터를 가져올 수 있다\n",
    "\n",
    "#### 피벗 테이블 (Pivot Table)\n",
    "- 데이터를 요약하고 집계하는데 사용하는 테이블\n",
    "- 판다스에서 자주 사용하며, 데이터에서 특정 컬럼을 기준으로\n",
    "        <br>그룹화 하고 평균, 합계, 걔수 등의 값을 쉽게 계산할 수 있도록 도와준다.\n",
    "- 엑셀 피벗 테이블과 유사"
   ]
  },
  {
   "cell_type": "code",
   "execution_count": 83,
   "id": "2b3bfa1d",
   "metadata": {},
   "outputs": [
    {
     "data": {
      "text/html": [
       "<div>\n",
       "<style scoped>\n",
       "    .dataframe tbody tr th:only-of-type {\n",
       "        vertical-align: middle;\n",
       "    }\n",
       "\n",
       "    .dataframe tbody tr th {\n",
       "        vertical-align: top;\n",
       "    }\n",
       "\n",
       "    .dataframe thead th {\n",
       "        text-align: right;\n",
       "    }\n",
       "</style>\n",
       "<table border=\"1\" class=\"dataframe\">\n",
       "  <thead>\n",
       "    <tr style=\"text-align: right;\">\n",
       "      <th></th>\n",
       "      <th>나이</th>\n",
       "      <th>학력</th>\n",
       "      <th>성별</th>\n",
       "      <th>정신건강</th>\n",
       "      <th>전문직</th>\n",
       "      <th>개발공부기간</th>\n",
       "      <th>연차</th>\n",
       "      <th>국적</th>\n",
       "      <th>연봉</th>\n",
       "      <th>보유기술개수</th>\n",
       "      <th>월급</th>\n",
       "    </tr>\n",
       "    <tr>\n",
       "      <th>일련번호</th>\n",
       "      <th></th>\n",
       "      <th></th>\n",
       "      <th></th>\n",
       "      <th></th>\n",
       "      <th></th>\n",
       "      <th></th>\n",
       "      <th></th>\n",
       "      <th></th>\n",
       "      <th></th>\n",
       "      <th></th>\n",
       "      <th></th>\n",
       "    </tr>\n",
       "  </thead>\n",
       "  <tbody>\n",
       "    <tr>\n",
       "      <th>DEV1</th>\n",
       "      <td>&lt;35</td>\n",
       "      <td>Master</td>\n",
       "      <td>Man</td>\n",
       "      <td>No</td>\n",
       "      <td>Dev</td>\n",
       "      <td>15</td>\n",
       "      <td>6</td>\n",
       "      <td>Germany</td>\n",
       "      <td>77290</td>\n",
       "      <td>7</td>\n",
       "      <td>9390735</td>\n",
       "    </tr>\n",
       "    <tr>\n",
       "      <th>DEV2</th>\n",
       "      <td>&lt;35</td>\n",
       "      <td>Undergraduate</td>\n",
       "      <td>Man</td>\n",
       "      <td>No</td>\n",
       "      <td>Dev</td>\n",
       "      <td>9</td>\n",
       "      <td>6</td>\n",
       "      <td>Canada</td>\n",
       "      <td>46135</td>\n",
       "      <td>13</td>\n",
       "      <td>5605402</td>\n",
       "    </tr>\n",
       "    <tr>\n",
       "      <th>DEV3</th>\n",
       "      <td>&gt;35</td>\n",
       "      <td>Master</td>\n",
       "      <td>Man</td>\n",
       "      <td>No</td>\n",
       "      <td>Dev</td>\n",
       "      <td>26</td>\n",
       "      <td>18</td>\n",
       "      <td>Germany</td>\n",
       "      <td>77831</td>\n",
       "      <td>17</td>\n",
       "      <td>9456466</td>\n",
       "    </tr>\n",
       "    <tr>\n",
       "      <th>DEV4</th>\n",
       "      <td>&gt;35</td>\n",
       "      <td>Undergraduate</td>\n",
       "      <td>Man</td>\n",
       "      <td>No</td>\n",
       "      <td>Dev</td>\n",
       "      <td>39</td>\n",
       "      <td>21</td>\n",
       "      <td>United Kingdom of Great Britain and Northern I...</td>\n",
       "      <td>68507</td>\n",
       "      <td>3</td>\n",
       "      <td>8323600</td>\n",
       "    </tr>\n",
       "    <tr>\n",
       "      <th>DEV5</th>\n",
       "      <td>&lt;35</td>\n",
       "      <td>Master</td>\n",
       "      <td>Man</td>\n",
       "      <td>No</td>\n",
       "      <td>Dev</td>\n",
       "      <td>19</td>\n",
       "      <td>10</td>\n",
       "      <td>Germany</td>\n",
       "      <td>60535</td>\n",
       "      <td>5</td>\n",
       "      <td>7355002</td>\n",
       "    </tr>\n",
       "  </tbody>\n",
       "</table>\n",
       "</div>"
      ],
      "text/plain": [
       "       나이             학력   성별 정신건강  전문직  개발공부기간  연차  \\\n",
       "일련번호                                                  \n",
       "DEV1  <35         Master  Man   No  Dev      15   6   \n",
       "DEV2  <35  Undergraduate  Man   No  Dev       9   6   \n",
       "DEV3  >35         Master  Man   No  Dev      26  18   \n",
       "DEV4  >35  Undergraduate  Man   No  Dev      39  21   \n",
       "DEV5  <35         Master  Man   No  Dev      19  10   \n",
       "\n",
       "                                                     국적     연봉  보유기술개수  \\\n",
       "일련번호                                                                     \n",
       "DEV1                                            Germany  77290       7   \n",
       "DEV2                                             Canada  46135      13   \n",
       "DEV3                                            Germany  77831      17   \n",
       "DEV4  United Kingdom of Great Britain and Northern I...  68507       3   \n",
       "DEV5                                            Germany  60535       5   \n",
       "\n",
       "           월급  \n",
       "일련번호           \n",
       "DEV1  9390735  \n",
       "DEV2  5605402  \n",
       "DEV3  9456466  \n",
       "DEV4  8323600  \n",
       "DEV5  7355002  "
      ]
     },
     "execution_count": 83,
     "metadata": {},
     "output_type": "execute_result"
    }
   ],
   "source": [
    "data.head()"
   ]
  },
  {
   "cell_type": "code",
   "execution_count": 84,
   "id": "3046d533",
   "metadata": {},
   "outputs": [
    {
     "data": {
      "text/plain": [
       "<pandas.core.groupby.generic.DataFrameGroupBy object at 0x0000019995E319D0>"
      ]
     },
     "execution_count": 84,
     "metadata": {},
     "output_type": "execute_result"
    }
   ],
   "source": [
    "gender_grade_sal = data.groupby(by=['성별','학력'])[['월급']]\n",
    "gender_grade_sal"
   ]
  },
  {
   "cell_type": "code",
   "execution_count": 85,
   "id": "3bc08905",
   "metadata": {},
   "outputs": [
    {
     "name": "stdout",
     "output_type": "stream",
     "text": [
      "                               월급\n",
      "성별        학력                     \n",
      "Man       Master         11224651\n",
      "          NoHigherEd      9007786\n",
      "          Other          11055450\n",
      "          PhD            12942428\n",
      "          Undergraduate  10615616\n",
      "NonBinary Master         11806289\n",
      "          NoHigherEd      8012275\n",
      "          Other          10139613\n",
      "          PhD            11278273\n",
      "          Undergraduate  11603708\n",
      "Woman     Master         10897994\n",
      "          NoHigherEd      8310016\n",
      "          Other          10014551\n",
      "          PhD            11101579\n",
      "          Undergraduate  10319634\n"
     ]
    },
    {
     "data": {
      "text/plain": [
       "<Axes: xlabel='월급', ylabel='학력'>"
      ]
     },
     "execution_count": 85,
     "metadata": {},
     "output_type": "execute_result"
    },
    {
     "data": {
      "image/png": "[encoded data removed]",
      "text/plain": [
       "<Figure size 640x480 with 1 Axes>"
      ]
     },
     "metadata": {},
     "output_type": "display_data"
    }
   ],
   "source": [
    "# 1) 성별, 학력 기준으로 평균 월급 구하기\n",
    "data.head()\n",
    "\n",
    "gender_grade_sal = data.groupby(by=['성별','학력'])[['월급']].mean().astype('int64')\n",
    "print(gender_grade_sal)\n",
    "# 시각화 분석\n",
    "sns.barplot(data= gender_grade_sal, x='월급', y='학력', hue='성별')"
   ]
  },
  {
   "cell_type": "code",
   "execution_count": 86,
   "id": "5666d987",
   "metadata": {},
   "outputs": [
    {
     "name": "stdout",
     "output_type": "stream",
     "text": [
      "                                                              월급\n",
      "나이  국적                                                          \n",
      "<35 Canada                                               9551650\n",
      "    Germany                                              7424888\n",
      "    India                                                2722030\n",
      "    Japan                                                6826646\n",
      "    South Korea                                          5033094\n",
      "    United Kingdom of Great Britain and Northern Ir...   8773379\n",
      "    United States of America                            13749138\n",
      ">35 Canada                                              11796379\n",
      "    Germany                                             10209748\n",
      "    India                                                5113166\n",
      "    Japan                                                9400767\n",
      "    South Korea                                          7894659\n",
      "    United Kingdom of Great Britain and Northern Ir...  11232907\n",
      "    United States of America                            16566958\n"
     ]
    },
    {
     "data": {
      "text/plain": [
       "<Axes: xlabel='월급', ylabel='국적'>"
      ]
     },
     "execution_count": 86,
     "metadata": {},
     "output_type": "execute_result"
    },
    {
     "data": {
      "image/png": "[encoded data removed]",
      "text/plain": [
       "<Figure size 640x480 with 1 Axes>"
      ]
     },
     "metadata": {},
     "output_type": "display_data"
    }
   ],
   "source": [
    "# 2. 나이, 국적 기준으로 평균 월급데이터 구하기\n",
    "# Pivot Table을 활용해서 데이터 구하기\n",
    "\n",
    "data.head()\n",
    "# index : 특정 인덱스로 삼을 컬럼, values : 조회하고자 하는 데이터, aggfunc : 집계함수 설정\n",
    "age_country_sal = pd.pivot_table(data, index=['나이', '국적'], values='월급', aggfunc='mean').astype('int64')\n",
    "print(age_country_sal)\n",
    "\n",
    "sns.barplot(data= age_country_sal, x='월급', y='국적', hue='나이')"
   ]
  },
  {
   "cell_type": "code",
   "execution_count": 87,
   "id": "9211ba94",
   "metadata": {},
   "outputs": [
    {
     "data": {
      "text/plain": [
       "<Axes: xlabel='연차', ylabel='월급'>"
      ]
     },
     "execution_count": 87,
     "metadata": {},
     "output_type": "execute_result"
    },
    {
     "data": {
      "image/png": "[encoded data removed]",
      "text/plain": [
       "<Figure size 1500x400 with 1 Axes>"
      ]
     },
     "metadata": {},
     "output_type": "display_data"
    }
   ],
   "source": [
    "# 국적별 연차에 따른 월급을 시각화\n",
    "# 평균 데이터가 아니라 전체 데이터에서 시각화로 진행\n",
    "\n",
    "\n",
    "plt.figure(figsize=(15, 4))\n",
    "sns.lineplot(data, x='연차', y='월급', hue='국적', palette='deep')\n"
   ]
  },
  {
   "cell_type": "code",
   "execution_count": 88,
   "id": "6655f152",
   "metadata": {},
   "outputs": [
    {
     "data": {
      "text/html": [
       "<div>\n",
       "<style scoped>\n",
       "    .dataframe tbody tr th:only-of-type {\n",
       "        vertical-align: middle;\n",
       "    }\n",
       "\n",
       "    .dataframe tbody tr th {\n",
       "        vertical-align: top;\n",
       "    }\n",
       "\n",
       "    .dataframe thead th {\n",
       "        text-align: right;\n",
       "    }\n",
       "</style>\n",
       "<table border=\"1\" class=\"dataframe\">\n",
       "  <thead>\n",
       "    <tr style=\"text-align: right;\">\n",
       "      <th></th>\n",
       "      <th></th>\n",
       "      <th>최소</th>\n",
       "      <th>최대</th>\n",
       "      <th>평균</th>\n",
       "      <th>중앙</th>\n",
       "    </tr>\n",
       "    <tr>\n",
       "      <th>국적</th>\n",
       "      <th>학력</th>\n",
       "      <th></th>\n",
       "      <th></th>\n",
       "      <th></th>\n",
       "      <th></th>\n",
       "    </tr>\n",
       "  </thead>\n",
       "  <tbody>\n",
       "    <tr>\n",
       "      <th rowspan=\"5\" valign=\"top\">Canada</th>\n",
       "      <th>Master</th>\n",
       "      <td>9598</td>\n",
       "      <td>25615480</td>\n",
       "      <td>11168613</td>\n",
       "      <td>10567584</td>\n",
       "    </tr>\n",
       "    <tr>\n",
       "      <th>NoHigherEd</th>\n",
       "      <td>882090</td>\n",
       "      <td>22972977</td>\n",
       "      <td>9443628</td>\n",
       "      <td>8913543</td>\n",
       "    </tr>\n",
       "    <tr>\n",
       "      <th>Other</th>\n",
       "      <td>12636</td>\n",
       "      <td>26089816</td>\n",
       "      <td>9336846</td>\n",
       "      <td>8538534</td>\n",
       "    </tr>\n",
       "    <tr>\n",
       "      <th>PhD</th>\n",
       "      <td>3859447</td>\n",
       "      <td>25729812</td>\n",
       "      <td>12215152</td>\n",
       "      <td>10429742</td>\n",
       "    </tr>\n",
       "    <tr>\n",
       "      <th>Undergraduate</th>\n",
       "      <td>12393</td>\n",
       "      <td>27038610</td>\n",
       "      <td>10591290</td>\n",
       "      <td>9648679</td>\n",
       "    </tr>\n",
       "    <tr>\n",
       "      <th rowspan=\"5\" valign=\"top\">Germany</th>\n",
       "      <th>Master</th>\n",
       "      <td>8505</td>\n",
       "      <td>26793666</td>\n",
       "      <td>9294177</td>\n",
       "      <td>8551777</td>\n",
       "    </tr>\n",
       "    <tr>\n",
       "      <th>NoHigherEd</th>\n",
       "      <td>13122</td>\n",
       "      <td>26432689</td>\n",
       "      <td>6963640</td>\n",
       "      <td>6219828</td>\n",
       "    </tr>\n",
       "    <tr>\n",
       "      <th>Other</th>\n",
       "      <td>125388</td>\n",
       "      <td>26267814</td>\n",
       "      <td>7995023</td>\n",
       "      <td>7223661</td>\n",
       "    </tr>\n",
       "    <tr>\n",
       "      <th>PhD</th>\n",
       "      <td>9112</td>\n",
       "      <td>26267814</td>\n",
       "      <td>9694341</td>\n",
       "      <td>9066269</td>\n",
       "    </tr>\n",
       "    <tr>\n",
       "      <th>Undergraduate</th>\n",
       "      <td>9841</td>\n",
       "      <td>27210168</td>\n",
       "      <td>8117832</td>\n",
       "      <td>7774056</td>\n",
       "    </tr>\n",
       "    <tr>\n",
       "      <th rowspan=\"5\" valign=\"top\">India</th>\n",
       "      <th>Master</th>\n",
       "      <td>121</td>\n",
       "      <td>26973000</td>\n",
       "      <td>3140475</td>\n",
       "      <td>2114039</td>\n",
       "    </tr>\n",
       "    <tr>\n",
       "      <th>NoHigherEd</th>\n",
       "      <td>61236</td>\n",
       "      <td>8462232</td>\n",
       "      <td>1380427</td>\n",
       "      <td>830877</td>\n",
       "    </tr>\n",
       "    <tr>\n",
       "      <th>Other</th>\n",
       "      <td>1458</td>\n",
       "      <td>25281720</td>\n",
       "      <td>2268257</td>\n",
       "      <td>1184199</td>\n",
       "    </tr>\n",
       "    <tr>\n",
       "      <th>PhD</th>\n",
       "      <td>814293</td>\n",
       "      <td>25088170</td>\n",
       "      <td>5761280</td>\n",
       "      <td>1832706</td>\n",
       "    </tr>\n",
       "    <tr>\n",
       "      <th>Undergraduate</th>\n",
       "      <td>850</td>\n",
       "      <td>27077976</td>\n",
       "      <td>2931335</td>\n",
       "      <td>1865997</td>\n",
       "    </tr>\n",
       "    <tr>\n",
       "      <th rowspan=\"5\" valign=\"top\">Japan</th>\n",
       "      <th>Master</th>\n",
       "      <td>972</td>\n",
       "      <td>24300000</td>\n",
       "      <td>8761062</td>\n",
       "      <td>7868340</td>\n",
       "    </tr>\n",
       "    <tr>\n",
       "      <th>NoHigherEd</th>\n",
       "      <td>2163672</td>\n",
       "      <td>16389621</td>\n",
       "      <td>7131992</td>\n",
       "      <td>5463247</td>\n",
       "    </tr>\n",
       "    <tr>\n",
       "      <th>Other</th>\n",
       "      <td>607</td>\n",
       "      <td>19667448</td>\n",
       "      <td>6667570</td>\n",
       "      <td>5463247</td>\n",
       "    </tr>\n",
       "    <tr>\n",
       "      <th>PhD</th>\n",
       "      <td>533628</td>\n",
       "      <td>24300000</td>\n",
       "      <td>9900022</td>\n",
       "      <td>9909236</td>\n",
       "    </tr>\n",
       "    <tr>\n",
       "      <th>Undergraduate</th>\n",
       "      <td>364</td>\n",
       "      <td>25150500</td>\n",
       "      <td>7576188</td>\n",
       "      <td>6839478</td>\n",
       "    </tr>\n",
       "    <tr>\n",
       "      <th rowspan=\"5\" valign=\"top\">South Korea</th>\n",
       "      <th>Master</th>\n",
       "      <td>2916</td>\n",
       "      <td>17058600</td>\n",
       "      <td>6407117</td>\n",
       "      <td>5365440</td>\n",
       "    </tr>\n",
       "    <tr>\n",
       "      <th>NoHigherEd</th>\n",
       "      <td>364</td>\n",
       "      <td>7212969</td>\n",
       "      <td>3350266</td>\n",
       "      <td>3072370</td>\n",
       "    </tr>\n",
       "    <tr>\n",
       "      <th>Other</th>\n",
       "      <td>2885139</td>\n",
       "      <td>11540799</td>\n",
       "      <td>5708529</td>\n",
       "      <td>4991280</td>\n",
       "    </tr>\n",
       "    <tr>\n",
       "      <th>PhD</th>\n",
       "      <td>5093158</td>\n",
       "      <td>5093158</td>\n",
       "      <td>5093158</td>\n",
       "      <td>5093158</td>\n",
       "    </tr>\n",
       "    <tr>\n",
       "      <th>Undergraduate</th>\n",
       "      <td>486</td>\n",
       "      <td>20196337</td>\n",
       "      <td>5974261</td>\n",
       "      <td>5191330</td>\n",
       "    </tr>\n",
       "    <tr>\n",
       "      <th rowspan=\"5\" valign=\"top\">United Kingdom of Great Britain and Northern Ireland</th>\n",
       "      <th>Master</th>\n",
       "      <td>8383</td>\n",
       "      <td>26714083</td>\n",
       "      <td>10551426</td>\n",
       "      <td>9423054</td>\n",
       "    </tr>\n",
       "    <tr>\n",
       "      <th>NoHigherEd</th>\n",
       "      <td>377622</td>\n",
       "      <td>26714083</td>\n",
       "      <td>9046173</td>\n",
       "      <td>8166622</td>\n",
       "    </tr>\n",
       "    <tr>\n",
       "      <th>Other</th>\n",
       "      <td>2551</td>\n",
       "      <td>26711775</td>\n",
       "      <td>9246836</td>\n",
       "      <td>8243167</td>\n",
       "    </tr>\n",
       "    <tr>\n",
       "      <th>PhD</th>\n",
       "      <td>471177</td>\n",
       "      <td>25950820</td>\n",
       "      <td>10568859</td>\n",
       "      <td>9299488</td>\n",
       "    </tr>\n",
       "    <tr>\n",
       "      <th>Undergraduate</th>\n",
       "      <td>4860</td>\n",
       "      <td>26714083</td>\n",
       "      <td>9680872</td>\n",
       "      <td>8637799</td>\n",
       "    </tr>\n",
       "    <tr>\n",
       "      <th rowspan=\"5\" valign=\"top\">United States of America</th>\n",
       "      <th>Master</th>\n",
       "      <td>121</td>\n",
       "      <td>27108472</td>\n",
       "      <td>16399361</td>\n",
       "      <td>16402500</td>\n",
       "    </tr>\n",
       "    <tr>\n",
       "      <th>NoHigherEd</th>\n",
       "      <td>12150</td>\n",
       "      <td>26730000</td>\n",
       "      <td>13201626</td>\n",
       "      <td>13061250</td>\n",
       "    </tr>\n",
       "    <tr>\n",
       "      <th>Other</th>\n",
       "      <td>4374</td>\n",
       "      <td>26730000</td>\n",
       "      <td>14524949</td>\n",
       "      <td>14580000</td>\n",
       "    </tr>\n",
       "    <tr>\n",
       "      <th>PhD</th>\n",
       "      <td>21505</td>\n",
       "      <td>27094500</td>\n",
       "      <td>16161964</td>\n",
       "      <td>16281000</td>\n",
       "    </tr>\n",
       "    <tr>\n",
       "      <th>Undergraduate</th>\n",
       "      <td>121</td>\n",
       "      <td>27216000</td>\n",
       "      <td>14752157</td>\n",
       "      <td>14580000</td>\n",
       "    </tr>\n",
       "  </tbody>\n",
       "</table>\n",
       "</div>"
      ],
      "text/plain": [
       "                                                                       최소  \\\n",
       "국적                                                 학력                       \n",
       "Canada                                             Master            9598   \n",
       "                                                   NoHigherEd      882090   \n",
       "                                                   Other            12636   \n",
       "                                                   PhD            3859447   \n",
       "                                                   Undergraduate    12393   \n",
       "Germany                                            Master            8505   \n",
       "                                                   NoHigherEd       13122   \n",
       "                                                   Other           125388   \n",
       "                                                   PhD               9112   \n",
       "                                                   Undergraduate     9841   \n",
       "India                                              Master             121   \n",
       "                                                   NoHigherEd       61236   \n",
       "                                                   Other             1458   \n",
       "                                                   PhD             814293   \n",
       "                                                   Undergraduate      850   \n",
       "Japan                                              Master             972   \n",
       "                                                   NoHigherEd     2163672   \n",
       "                                                   Other              607   \n",
       "                                                   PhD             533628   \n",
       "                                                   Undergraduate      364   \n",
       "South Korea                                        Master            2916   \n",
       "                                                   NoHigherEd         364   \n",
       "                                                   Other          2885139   \n",
       "                                                   PhD            5093158   \n",
       "                                                   Undergraduate      486   \n",
       "United Kingdom of Great Britain and Northern Ir... Master            8383   \n",
       "                                                   NoHigherEd      377622   \n",
       "                                                   Other             2551   \n",
       "                                                   PhD             471177   \n",
       "                                                   Undergraduate     4860   \n",
       "United States of America                           Master             121   \n",
       "                                                   NoHigherEd       12150   \n",
       "                                                   Other             4374   \n",
       "                                                   PhD              21505   \n",
       "                                                   Undergraduate      121   \n",
       "\n",
       "                                                                        최대  \\\n",
       "국적                                                 학력                        \n",
       "Canada                                             Master         25615480   \n",
       "                                                   NoHigherEd     22972977   \n",
       "                                                   Other          26089816   \n",
       "                                                   PhD            25729812   \n",
       "                                                   Undergraduate  27038610   \n",
       "Germany                                            Master         26793666   \n",
       "                                                   NoHigherEd     26432689   \n",
       "                                                   Other          26267814   \n",
       "                                                   PhD            26267814   \n",
       "                                                   Undergraduate  27210168   \n",
       "India                                              Master         26973000   \n",
       "                                                   NoHigherEd      8462232   \n",
       "                                                   Other          25281720   \n",
       "                                                   PhD            25088170   \n",
       "                                                   Undergraduate  27077976   \n",
       "Japan                                              Master         24300000   \n",
       "                                                   NoHigherEd     16389621   \n",
       "                                                   Other          19667448   \n",
       "                                                   PhD            24300000   \n",
       "                                                   Undergraduate  25150500   \n",
       "South Korea                                        Master         17058600   \n",
       "                                                   NoHigherEd      7212969   \n",
       "                                                   Other          11540799   \n",
       "                                                   PhD             5093158   \n",
       "                                                   Undergraduate  20196337   \n",
       "United Kingdom of Great Britain and Northern Ir... Master         26714083   \n",
       "                                                   NoHigherEd     26714083   \n",
       "                                                   Other          26711775   \n",
       "                                                   PhD            25950820   \n",
       "                                                   Undergraduate  26714083   \n",
       "United States of America                           Master         27108472   \n",
       "                                                   NoHigherEd     26730000   \n",
       "                                                   Other          26730000   \n",
       "                                                   PhD            27094500   \n",
       "                                                   Undergraduate  27216000   \n",
       "\n",
       "                                                                        평균  \\\n",
       "국적                                                 학력                        \n",
       "Canada                                             Master         11168613   \n",
       "                                                   NoHigherEd      9443628   \n",
       "                                                   Other           9336846   \n",
       "                                                   PhD            12215152   \n",
       "                                                   Undergraduate  10591290   \n",
       "Germany                                            Master          9294177   \n",
       "                                                   NoHigherEd      6963640   \n",
       "                                                   Other           7995023   \n",
       "                                                   PhD             9694341   \n",
       "                                                   Undergraduate   8117832   \n",
       "India                                              Master          3140475   \n",
       "                                                   NoHigherEd      1380427   \n",
       "                                                   Other           2268257   \n",
       "                                                   PhD             5761280   \n",
       "                                                   Undergraduate   2931335   \n",
       "Japan                                              Master          8761062   \n",
       "                                                   NoHigherEd      7131992   \n",
       "                                                   Other           6667570   \n",
       "                                                   PhD             9900022   \n",
       "                                                   Undergraduate   7576188   \n",
       "South Korea                                        Master          6407117   \n",
       "                                                   NoHigherEd      3350266   \n",
       "                                                   Other           5708529   \n",
       "                                                   PhD             5093158   \n",
       "                                                   Undergraduate   5974261   \n",
       "United Kingdom of Great Britain and Northern Ir... Master         10551426   \n",
       "                                                   NoHigherEd      9046173   \n",
       "                                                   Other           9246836   \n",
       "                                                   PhD            10568859   \n",
       "                                                   Undergraduate   9680872   \n",
       "United States of America                           Master         16399361   \n",
       "                                                   NoHigherEd     13201626   \n",
       "                                                   Other          14524949   \n",
       "                                                   PhD            16161964   \n",
       "                                                   Undergraduate  14752157   \n",
       "\n",
       "                                                                        중앙  \n",
       "국적                                                 학력                       \n",
       "Canada                                             Master         10567584  \n",
       "                                                   NoHigherEd      8913543  \n",
       "                                                   Other           8538534  \n",
       "                                                   PhD            10429742  \n",
       "                                                   Undergraduate   9648679  \n",
       "Germany                                            Master          8551777  \n",
       "                                                   NoHigherEd      6219828  \n",
       "                                                   Other           7223661  \n",
       "                                                   PhD             9066269  \n",
       "                                                   Undergraduate   7774056  \n",
       "India                                              Master          2114039  \n",
       "                                                   NoHigherEd       830877  \n",
       "                                                   Other           1184199  \n",
       "                                                   PhD             1832706  \n",
       "                                                   Undergraduate   1865997  \n",
       "Japan                                              Master          7868340  \n",
       "                                                   NoHigherEd      5463247  \n",
       "                                                   Other           5463247  \n",
       "                                                   PhD             9909236  \n",
       "                                                   Undergraduate   6839478  \n",
       "South Korea                                        Master          5365440  \n",
       "                                                   NoHigherEd      3072370  \n",
       "                                                   Other           4991280  \n",
       "                                                   PhD             5093158  \n",
       "                                                   Undergraduate   5191330  \n",
       "United Kingdom of Great Britain and Northern Ir... Master          9423054  \n",
       "                                                   NoHigherEd      8166622  \n",
       "                                                   Other           8243167  \n",
       "                                                   PhD             9299488  \n",
       "                                                   Undergraduate   8637799  \n",
       "United States of America                           Master         16402500  \n",
       "                                                   NoHigherEd     13061250  \n",
       "                                                   Other          14580000  \n",
       "                                                   PhD            16281000  \n",
       "                                                   Undergraduate  14580000  "
      ]
     },
     "execution_count": 88,
     "metadata": {},
     "output_type": "execute_result"
    }
   ],
   "source": [
    "# 국적, 학력 기준으로 최소, 최대, 평균, 중앙, 월급을 확인\n",
    "data_pivot = data.pivot_table(index=['국적', '학력'], values='월급', aggfunc=['min', 'max', 'mean', 'median']).astype('int64')\n",
    "data_pivot.columns = ['최소', '최대', '평균', '중앙']# 컬럼 이름 지정하기\n",
    "data_pivot"
   ]
  },
  {
   "cell_type": "code",
   "execution_count": 89,
   "id": "55185cdf",
   "metadata": {},
   "outputs": [
    {
     "data": {
      "text/html": [
       "<div>\n",
       "<style scoped>\n",
       "    .dataframe tbody tr th:only-of-type {\n",
       "        vertical-align: middle;\n",
       "    }\n",
       "\n",
       "    .dataframe tbody tr th {\n",
       "        vertical-align: top;\n",
       "    }\n",
       "\n",
       "    .dataframe thead th {\n",
       "        text-align: right;\n",
       "    }\n",
       "</style>\n",
       "<table border=\"1\" class=\"dataframe\">\n",
       "  <thead>\n",
       "    <tr style=\"text-align: right;\">\n",
       "      <th></th>\n",
       "      <th></th>\n",
       "      <th>평균</th>\n",
       "      <th>최대</th>\n",
       "      <th>최소</th>\n",
       "    </tr>\n",
       "    <tr>\n",
       "      <th>국적</th>\n",
       "      <th>학력</th>\n",
       "      <th></th>\n",
       "      <th></th>\n",
       "      <th></th>\n",
       "    </tr>\n",
       "  </thead>\n",
       "  <tbody>\n",
       "    <tr>\n",
       "      <th rowspan=\"2\" valign=\"top\">South Korea</th>\n",
       "      <th>Master</th>\n",
       "      <td>6407117</td>\n",
       "      <td>17058600</td>\n",
       "      <td>2916</td>\n",
       "    </tr>\n",
       "    <tr>\n",
       "      <th>PhD</th>\n",
       "      <td>5093158</td>\n",
       "      <td>5093158</td>\n",
       "      <td>5093158</td>\n",
       "    </tr>\n",
       "  </tbody>\n",
       "</table>\n",
       "</div>"
      ],
      "text/plain": [
       "                         평균        최대       최소\n",
       "국적          학력                                \n",
       "South Korea Master  6407117  17058600     2916\n",
       "            PhD     5093158   5093158  5093158"
      ]
     },
     "execution_count": 89,
     "metadata": {},
     "output_type": "execute_result"
    }
   ],
   "source": [
    "# 학력 (Undergraduate : 학사, Master : 석사, PhD : 박사, NoHigherEd : 고등학교 졸업, Other : 그외 )\n",
    "\n",
    "# 피벗 테이블에서 데이터 가져오기\n",
    "# 멀티 인덱싱을 통해 가져오고자 하는 값에 접근\n",
    "# pivot.loc['행', '열']\n",
    "\n",
    "# 한국의 학사 평균월급\n",
    "# data_pivot.loc[('South Korea', 'Undergraduate'), '평균']\n",
    "data_pivot.loc[('Japan', 'NoHigherEd'),('중앙', '최대')]\n",
    "data_pivot.loc[('South Korea', ('Master', 'PhD')),('평균', '최대', '최소')]"
   ]
  },
  {
   "cell_type": "code",
   "execution_count": 90,
   "id": "044f096a",
   "metadata": {},
   "outputs": [
    {
     "data": {
      "text/html": [
       "<div>\n",
       "<style scoped>\n",
       "    .dataframe tbody tr th:only-of-type {\n",
       "        vertical-align: middle;\n",
       "    }\n",
       "\n",
       "    .dataframe tbody tr th {\n",
       "        vertical-align: top;\n",
       "    }\n",
       "\n",
       "    .dataframe thead th {\n",
       "        text-align: right;\n",
       "    }\n",
       "</style>\n",
       "<table border=\"1\" class=\"dataframe\">\n",
       "  <thead>\n",
       "    <tr style=\"text-align: right;\">\n",
       "      <th></th>\n",
       "      <th>연차</th>\n",
       "      <th>월급</th>\n",
       "    </tr>\n",
       "    <tr>\n",
       "      <th>국적</th>\n",
       "      <th></th>\n",
       "      <th></th>\n",
       "    </tr>\n",
       "  </thead>\n",
       "  <tbody>\n",
       "    <tr>\n",
       "      <th>Canada</th>\n",
       "      <td>8</td>\n",
       "      <td>10491868</td>\n",
       "    </tr>\n",
       "    <tr>\n",
       "      <th>Germany</th>\n",
       "      <td>7</td>\n",
       "      <td>8489793</td>\n",
       "    </tr>\n",
       "    <tr>\n",
       "      <th>India</th>\n",
       "      <td>4</td>\n",
       "      <td>2942408</td>\n",
       "    </tr>\n",
       "    <tr>\n",
       "      <th>Japan</th>\n",
       "      <td>7</td>\n",
       "      <td>7928930</td>\n",
       "    </tr>\n",
       "    <tr>\n",
       "      <th>South Korea</th>\n",
       "      <td>4</td>\n",
       "      <td>5768357</td>\n",
       "    </tr>\n",
       "    <tr>\n",
       "      <th>United Kingdom of Great Britain and Northern Ireland</th>\n",
       "      <td>8</td>\n",
       "      <td>9855718</td>\n",
       "    </tr>\n",
       "    <tr>\n",
       "      <th>United States of America</th>\n",
       "      <td>8</td>\n",
       "      <td>15038785</td>\n",
       "    </tr>\n",
       "  </tbody>\n",
       "</table>\n",
       "</div>"
      ],
      "text/plain": [
       "                                                    연차        월급\n",
       "국적                                                              \n",
       "Canada                                               8  10491868\n",
       "Germany                                              7   8489793\n",
       "India                                                4   2942408\n",
       "Japan                                                7   7928930\n",
       "South Korea                                          4   5768357\n",
       "United Kingdom of Great Britain and Northern Ir...   8   9855718\n",
       "United States of America                             8  15038785"
      ]
     },
     "execution_count": 90,
     "metadata": {},
     "output_type": "execute_result"
    }
   ],
   "source": [
    "# 각자 다른 산술 연산 적용\n",
    "data.pivot_table(data, index=['국적'], aggfunc={'연차':'median', '월급':'mean'}).astype('int64')"
   ]
  },
  {
   "cell_type": "markdown",
   "id": "efe1ecb2",
   "metadata": {},
   "source": [
    "## <h2>2. 개발자별 보유 스킬 데이터 다루기</h2>\n",
    "- Developer Skills.csv\n",
    "- 어떤 기술을 공부해야 높은 급여를 받는데 유리한지 분석\n",
    "- 문자, 리스트 데이터 처리\n",
    "- Merge() 활용해서 데이터 병합 == 데이터베이스에 조인"
   ]
  },
  {
   "cell_type": "markdown",
   "id": "5d10622b",
   "metadata": {},
   "source": [
    "### <h3>데이터 불러오기, 전처리</h3>"
   ]
  },
  {
   "cell_type": "code",
   "execution_count": 91,
   "id": "24e10a0c",
   "metadata": {},
   "outputs": [],
   "source": [
    "# 1. 데이터 불러오기 > 2. 일련번호를 인덱스로 설정\n",
    "skill_data = pd.read_csv('./data/Developer Skills.csv', encoding='EUC-KR')\n",
    "skill_data.set_index('일련번호', inplace=True)\n",
    "\n",
    "skill_data = pd.read_csv('./data/Developer Skills.csv', encoding='EUC-KR', index_col='일련번호')"
   ]
  },
  {
   "cell_type": "code",
   "execution_count": 92,
   "id": "03abf417",
   "metadata": {},
   "outputs": [
    {
     "name": "stdout",
     "output_type": "stream",
     "text": [
      "<class 'pandas.core.frame.DataFrame'>\n",
      "Index: 33466 entries, DEV1 to DEV33466\n",
      "Data columns (total 1 columns):\n",
      " #   Column  Non-Null Count  Dtype \n",
      "---  ------  --------------  ----- \n",
      " 0   보유기술    33438 non-null  object\n",
      "dtypes: object(1)\n",
      "memory usage: 522.9+ KB\n"
     ]
    }
   ],
   "source": [
    "# 3. 데이터 확인\n",
    "skill_data.info()"
   ]
  },
  {
   "cell_type": "code",
   "execution_count": 93,
   "id": "4fe79c94",
   "metadata": {},
   "outputs": [
    {
     "data": {
      "text/html": [
       "<div>\n",
       "<style scoped>\n",
       "    .dataframe tbody tr th:only-of-type {\n",
       "        vertical-align: middle;\n",
       "    }\n",
       "\n",
       "    .dataframe tbody tr th {\n",
       "        vertical-align: top;\n",
       "    }\n",
       "\n",
       "    .dataframe thead th {\n",
       "        text-align: right;\n",
       "    }\n",
       "</style>\n",
       "<table border=\"1\" class=\"dataframe\">\n",
       "  <thead>\n",
       "    <tr style=\"text-align: right;\">\n",
       "      <th></th>\n",
       "      <th>보유기술</th>\n",
       "    </tr>\n",
       "    <tr>\n",
       "      <th>일련번호</th>\n",
       "      <th></th>\n",
       "    </tr>\n",
       "  </thead>\n",
       "  <tbody>\n",
       "    <tr>\n",
       "      <th>DEV1</th>\n",
       "      <td>C;C++;Java;Perl;Ruby;Git;Ruby on Rails</td>\n",
       "    </tr>\n",
       "    <tr>\n",
       "      <th>DEV2</th>\n",
       "      <td>Bash/Shell;HTML/CSS;JavaScript;PHP;Ruby;SQL;Gi...</td>\n",
       "    </tr>\n",
       "    <tr>\n",
       "      <th>DEV3</th>\n",
       "      <td>C++;HTML/CSS;Java;JavaScript;Kotlin;Node.js;Ty...</td>\n",
       "    </tr>\n",
       "    <tr>\n",
       "      <th>DEV4</th>\n",
       "      <td>Python;Git;PostgreSQL</td>\n",
       "    </tr>\n",
       "    <tr>\n",
       "      <th>DEV5</th>\n",
       "      <td>C;C++;Java;Python;Git</td>\n",
       "    </tr>\n",
       "  </tbody>\n",
       "</table>\n",
       "</div>"
      ],
      "text/plain": [
       "                                                   보유기술\n",
       "일련번호                                                   \n",
       "DEV1             C;C++;Java;Perl;Ruby;Git;Ruby on Rails\n",
       "DEV2  Bash/Shell;HTML/CSS;JavaScript;PHP;Ruby;SQL;Gi...\n",
       "DEV3  C++;HTML/CSS;Java;JavaScript;Kotlin;Node.js;Ty...\n",
       "DEV4                              Python;Git;PostgreSQL\n",
       "DEV5                              C;C++;Java;Python;Git"
      ]
     },
     "execution_count": 93,
     "metadata": {},
     "output_type": "execute_result"
    }
   ],
   "source": [
    "data.head()\n",
    "skill_data.head() # ;으로 구분\n",
    "# data(개발자 연봉 데이터)와 skill_data(개발자 스킬 데이터)의 일련번호는 PK, FK관계"
   ]
  },
  {
   "cell_type": "code",
   "execution_count": 94,
   "id": "ed134c0e",
   "metadata": {},
   "outputs": [],
   "source": [
    "try:\n",
    "    skill_data = skill_data['보유기술'].str.split(';') # split은 띄어쓰기 구분이 아님!!\n",
    "except:\n",
    "    pass"
   ]
  },
  {
   "cell_type": "code",
   "execution_count": 95,
   "id": "96f4c28a",
   "metadata": {},
   "outputs": [
    {
     "data": {
      "text/plain": [
       "일련번호\n",
       "DEV1                           C\n",
       "DEV1                         C++\n",
       "DEV1                        Java\n",
       "DEV1                        Perl\n",
       "DEV1                        Ruby\n",
       "                    ...         \n",
       "DEV33465                DynamoDB\n",
       "DEV33465    Microsoft SQL Server\n",
       "DEV33465                  SQLite\n",
       "DEV33466                  Python\n",
       "DEV33466                  Docker\n",
       "Name: 보유기술, Length: 442784, dtype: object"
      ]
     },
     "execution_count": 95,
     "metadata": {},
     "output_type": "execute_result"
    }
   ],
   "source": [
    "# explode() : 리스트 형태의 데이터를 다수의 행으로\n",
    "explode_skill = skill_data.explode()\n",
    "explode_skill"
   ]
  },
  {
   "cell_type": "code",
   "execution_count": 96,
   "id": "72cff1c9",
   "metadata": {},
   "outputs": [
    {
     "data": {
      "text/plain": [
       "보유기술\n",
       "False    442756\n",
       "True         28\n",
       "Name: count, dtype: int64"
      ]
     },
     "execution_count": 96,
     "metadata": {},
     "output_type": "execute_result"
    }
   ],
   "source": [
    "explode_skill.shape\n",
    "explode_skill.isnull().sum()\n",
    "explode_skill.isnull().value_counts()"
   ]
  },
  {
   "cell_type": "markdown",
   "id": "cf019912",
   "metadata": {},
   "source": [
    "### <h3> 데이터 병합 </h3>\n",
    "\n",
    "```개발 스킬별 연봉 데이터를 보기 위해 merge()함수를 활용하여 스킬 데이터와 개발자 연봉 데이터를 병합하기``` \n",
    "\n",
    "- 공통된 컬럼을 기준으로 양쪽의 데이터를 병합할 때 활용\n",
    "- DB의 조인 개념과 같다 (Inner, Outer)"
   ]
  },
  {
   "cell_type": "markdown",
   "id": "52559e1f",
   "metadata": {},
   "source": [
    "![image](C:/Users/smhrd/Documents/카카오톡 받은 파일/KakaoTalk_20250224_141606682.png)"
   ]
  },
  {
   "cell_type": "code",
   "execution_count": 97,
   "id": "04e8ce40",
   "metadata": {},
   "outputs": [
    {
     "name": "stdout",
     "output_type": "stream",
     "text": [
      "33466\n",
      "33466\n"
     ]
    }
   ],
   "source": [
    "# 개발자 연봉 데이터(data)와 개발자 스킬 데이터(skill_data)의 인덱스가 먼저 일치하는지 확인\n",
    "print(len(data.index)) # 개발자 연봉\n",
    "print(len(skill_data.index)) # 개발자 스킬"
   ]
  },
  {
   "cell_type": "code",
   "execution_count": 98,
   "id": "60ef4012",
   "metadata": {},
   "outputs": [],
   "source": [
    "# Inner join으로 합치기\n",
    "# pd.merge(data, skill_data, how='inner', on='일련번호')\n",
    "join_data = pd.merge(data, explode_skill, how='inner', on='일련번호')"
   ]
  },
  {
   "cell_type": "code",
   "execution_count": 99,
   "id": "205247b1",
   "metadata": {},
   "outputs": [
    {
     "data": {
      "text/html": [
       "<div>\n",
       "<style scoped>\n",
       "    .dataframe tbody tr th:only-of-type {\n",
       "        vertical-align: middle;\n",
       "    }\n",
       "\n",
       "    .dataframe tbody tr th {\n",
       "        vertical-align: top;\n",
       "    }\n",
       "\n",
       "    .dataframe thead th {\n",
       "        text-align: right;\n",
       "    }\n",
       "</style>\n",
       "<table border=\"1\" class=\"dataframe\">\n",
       "  <thead>\n",
       "    <tr style=\"text-align: right;\">\n",
       "      <th></th>\n",
       "      <th>나이</th>\n",
       "      <th>학력</th>\n",
       "      <th>성별</th>\n",
       "      <th>정신건강</th>\n",
       "      <th>전문직</th>\n",
       "      <th>개발공부기간</th>\n",
       "      <th>연차</th>\n",
       "      <th>국적</th>\n",
       "      <th>연봉</th>\n",
       "      <th>보유기술개수</th>\n",
       "      <th>월급</th>\n",
       "      <th>보유기술</th>\n",
       "    </tr>\n",
       "    <tr>\n",
       "      <th>일련번호</th>\n",
       "      <th></th>\n",
       "      <th></th>\n",
       "      <th></th>\n",
       "      <th></th>\n",
       "      <th></th>\n",
       "      <th></th>\n",
       "      <th></th>\n",
       "      <th></th>\n",
       "      <th></th>\n",
       "      <th></th>\n",
       "      <th></th>\n",
       "      <th></th>\n",
       "    </tr>\n",
       "  </thead>\n",
       "  <tbody>\n",
       "    <tr>\n",
       "      <th>DEV1</th>\n",
       "      <td>&lt;35</td>\n",
       "      <td>Master</td>\n",
       "      <td>Man</td>\n",
       "      <td>No</td>\n",
       "      <td>Dev</td>\n",
       "      <td>15</td>\n",
       "      <td>6</td>\n",
       "      <td>Germany</td>\n",
       "      <td>77290</td>\n",
       "      <td>7</td>\n",
       "      <td>9390735</td>\n",
       "      <td>C</td>\n",
       "    </tr>\n",
       "    <tr>\n",
       "      <th>DEV1</th>\n",
       "      <td>&lt;35</td>\n",
       "      <td>Master</td>\n",
       "      <td>Man</td>\n",
       "      <td>No</td>\n",
       "      <td>Dev</td>\n",
       "      <td>15</td>\n",
       "      <td>6</td>\n",
       "      <td>Germany</td>\n",
       "      <td>77290</td>\n",
       "      <td>7</td>\n",
       "      <td>9390735</td>\n",
       "      <td>C++</td>\n",
       "    </tr>\n",
       "    <tr>\n",
       "      <th>DEV1</th>\n",
       "      <td>&lt;35</td>\n",
       "      <td>Master</td>\n",
       "      <td>Man</td>\n",
       "      <td>No</td>\n",
       "      <td>Dev</td>\n",
       "      <td>15</td>\n",
       "      <td>6</td>\n",
       "      <td>Germany</td>\n",
       "      <td>77290</td>\n",
       "      <td>7</td>\n",
       "      <td>9390735</td>\n",
       "      <td>Java</td>\n",
       "    </tr>\n",
       "    <tr>\n",
       "      <th>DEV1</th>\n",
       "      <td>&lt;35</td>\n",
       "      <td>Master</td>\n",
       "      <td>Man</td>\n",
       "      <td>No</td>\n",
       "      <td>Dev</td>\n",
       "      <td>15</td>\n",
       "      <td>6</td>\n",
       "      <td>Germany</td>\n",
       "      <td>77290</td>\n",
       "      <td>7</td>\n",
       "      <td>9390735</td>\n",
       "      <td>Perl</td>\n",
       "    </tr>\n",
       "    <tr>\n",
       "      <th>DEV1</th>\n",
       "      <td>&lt;35</td>\n",
       "      <td>Master</td>\n",
       "      <td>Man</td>\n",
       "      <td>No</td>\n",
       "      <td>Dev</td>\n",
       "      <td>15</td>\n",
       "      <td>6</td>\n",
       "      <td>Germany</td>\n",
       "      <td>77290</td>\n",
       "      <td>7</td>\n",
       "      <td>9390735</td>\n",
       "      <td>Ruby</td>\n",
       "    </tr>\n",
       "  </tbody>\n",
       "</table>\n",
       "</div>"
      ],
      "text/plain": [
       "       나이      학력   성별 정신건강  전문직  개발공부기간  연차       국적     연봉  보유기술개수       월급  \\\n",
       "일련번호                                                                            \n",
       "DEV1  <35  Master  Man   No  Dev      15   6  Germany  77290       7  9390735   \n",
       "DEV1  <35  Master  Man   No  Dev      15   6  Germany  77290       7  9390735   \n",
       "DEV1  <35  Master  Man   No  Dev      15   6  Germany  77290       7  9390735   \n",
       "DEV1  <35  Master  Man   No  Dev      15   6  Germany  77290       7  9390735   \n",
       "DEV1  <35  Master  Man   No  Dev      15   6  Germany  77290       7  9390735   \n",
       "\n",
       "      보유기술  \n",
       "일련번호        \n",
       "DEV1     C  \n",
       "DEV1   C++  \n",
       "DEV1  Java  \n",
       "DEV1  Perl  \n",
       "DEV1  Ruby  "
      ]
     },
     "execution_count": 99,
     "metadata": {},
     "output_type": "execute_result"
    }
   ],
   "source": [
    "join_data.head()"
   ]
  },
  {
   "cell_type": "code",
   "execution_count": 100,
   "id": "1a2ae717",
   "metadata": {},
   "outputs": [
    {
     "name": "stdout",
     "output_type": "stream",
     "text": [
      "<class 'pandas.core.frame.DataFrame'>\n",
      "Index: 442784 entries, DEV1 to DEV33466\n",
      "Data columns (total 12 columns):\n",
      " #   Column  Non-Null Count   Dtype \n",
      "---  ------  --------------   ----- \n",
      " 0   나이      442784 non-null  object\n",
      " 1   학력      442784 non-null  object\n",
      " 2   성별      442784 non-null  object\n",
      " 3   정신건강    442784 non-null  object\n",
      " 4   전문직     442784 non-null  object\n",
      " 5   개발공부기간  442784 non-null  int64 \n",
      " 6   연차      442784 non-null  int64 \n",
      " 7   국적      442784 non-null  object\n",
      " 8   연봉      442784 non-null  int64 \n",
      " 9   보유기술개수  442784 non-null  int64 \n",
      " 10  월급      442784 non-null  int32 \n",
      " 11  보유기술    442756 non-null  object\n",
      "dtypes: int32(1), int64(4), object(7)\n",
      "memory usage: 42.2+ MB\n"
     ]
    }
   ],
   "source": [
    "# 데이터 확인\n",
    "join_data.info()"
   ]
  },
  {
   "cell_type": "code",
   "execution_count": 101,
   "id": "40e3be13",
   "metadata": {},
   "outputs": [],
   "source": [
    "# 결측치 확인\n",
    "join_data.isnull().sum()\n",
    "# 결측치 데이터 조회\n",
    "join_data[join_data['보유기술'].isnull()]\n",
    "join_data['보유기술'] = join_data['보유기술'].fillna('없음')"
   ]
  },
  {
   "cell_type": "code",
   "execution_count": 102,
   "id": "aa3ddf21",
   "metadata": {},
   "outputs": [
    {
     "data": {
      "text/plain": [
       "array(['C', 'C++', 'Java', 'Perl', 'Ruby', 'Git', 'Ruby on Rails',\n",
       "       'Bash/Shell', 'HTML/CSS', 'JavaScript', 'PHP', 'SQL', 'jQuery',\n",
       "       'Laravel', 'AWS', 'MySQL', 'PostgreSQL', 'Kotlin', 'Node.js',\n",
       "       'TypeScript', 'Docker', 'Kubernetes', 'Angular', 'Express',\n",
       "       'Spring', 'Heroku', 'DynamoDB', 'Python', 'Assembly', 'Rust',\n",
       "       'Ansible', 'Terraform', 'Yarn', 'React.js', 'SQLite', 'C#', 'VBA',\n",
       "       'ASP.NET', 'Microsoft SQL Server', 'Gatsby', 'R', 'Flask',\n",
       "       'ASP.NET Core ', 'Microsoft Azure', 'Elasticsearch', 'Julia',\n",
       "       'Matlab', 'Google Cloud Platform', 'Clojure', 'Go', 'Angular.js',\n",
       "       'MariaDB', 'MongoDB', 'Dart', 'PowerShell', 'Xamarin', 'Couchbase',\n",
       "       'Redis', 'Vue.js', 'Chef', 'Unity 3D', 'Django', 'F#', 'Scala',\n",
       "       'Unreal Engine', 'FastAPI', 'Firebase', 'DigitalOcean',\n",
       "       'Objective-C', 'Swift', 'Symfony', 'IBM Cloud or Watson', 'Oracle',\n",
       "       'Groovy', 'IBM DB2', 'Puppet', 'Cassandra', 'LISP', 'Delphi',\n",
       "       'APL', 'Erlang', 'Elixir', 'Deno', 'Svelte', 'Haskell', 'Crystal',\n",
       "       'Flow', 'Oracle Cloud Infrastructure', 'Drupal', 'Pulumi', '없음',\n",
       "       'COBOL', 'npm', 'Homebrew', 'CouchDB', 'Neo4j', 'Google Cloud',\n",
       "       'VMware', 'OpenStack', 'Next.js', 'Cloud Firestore',\n",
       "       'Firebase Realtime Database', 'Nuxt.js', 'Blazor',\n",
       "       'Managed Hosting', 'Fortran', 'Linode', 'Lua', 'OVH', 'SAS',\n",
       "       'MATLAB', 'Play Framework', 'Phoenix', 'OCaml', 'Colocation',\n",
       "       'Solidity', 'Fastify'], dtype=object)"
      ]
     },
     "execution_count": 102,
     "metadata": {},
     "output_type": "execute_result"
    }
   ],
   "source": [
    "# 개발자의 기술별로 평균 연봉을 조회해보자\n",
    "# 개발자의 보유 기술 목록안에 있는 고유값 조회\n",
    "join_data['보유기술'].unique()"
   ]
  },
  {
   "cell_type": "code",
   "execution_count": 103,
   "id": "4ffa9e29",
   "metadata": {},
   "outputs": [],
   "source": [
    "# 1) 한국 개발자 데이터만 가져오기\n",
    "korea_dev = join_data[join_data['국적'] == 'South Korea']\n",
    "# 2) 보유 기술별 월급의 평균을 구하시오.\n",
    "koreadev_skill_sal = korea_dev.groupby(by='보유기술')['월급'].mean().astype('int64')\n",
    "koreadev_skill_sal_ = korea_dev[['보유기술', '월급']].groupby(by='보유기술').mean().astype('int64')"
   ]
  },
  {
   "cell_type": "markdown",
   "id": "60b88bb3",
   "metadata": {},
   "source": [
    "### <h3> 데이터 시각화 </h3>"
   ]
  },
  {
   "cell_type": "code",
   "execution_count": 104,
   "id": "21e5d82a",
   "metadata": {},
   "outputs": [
    {
     "data": {
      "text/plain": [
       "<Axes: ylabel='보유기술'>"
      ]
     },
     "execution_count": 104,
     "metadata": {},
     "output_type": "execute_result"
    },
    {
     "data": {
      "image/png": "[encoded data removed]",
      "text/plain": [
       "<Figure size 640x480 with 1 Axes>"
      ]
     },
     "metadata": {},
     "output_type": "display_data"
    }
   ],
   "source": [
    "front_back = koreadev_skill_sal_.loc[['HTML/CSS', 'JavaScript', 'Python', 'Spring']]\n",
    "\n",
    "front_back.plot(kind='barh', colormap='Set3')"
   ]
  },
  {
   "cell_type": "code",
   "execution_count": 105,
   "id": "56f458a6",
   "metadata": {},
   "outputs": [
    {
     "data": {
      "text/plain": [
       "<Axes: ylabel='보유기술'>"
      ]
     },
     "execution_count": 105,
     "metadata": {},
     "output_type": "execute_result"
    },
    {
     "data": {
      "image/png": "[encoded data removed]",
      "text/plain": [
       "<Figure size 640x480 with 1 Axes>"
      ]
     },
     "metadata": {},
     "output_type": "display_data"
    }
   ],
   "source": [
    "# 나이, 경력, 보유 기술 개수를 고려해서 조건을 설정하여 다시 분석할 필요가 있다.\n",
    "# 나이가 35세 미만이고, 연차는 3년 이하 -> 주니어(신입)\n",
    "junior_dev = korea_dev[(korea_dev['연차'] <= 3) & (korea_dev['나이'] == '<35')]\n",
    "junior_dev = junior_dev[['보유기술', '월급']].groupby(by='보유기술').mean().astype('int64')\n",
    "\n",
    "front_back = junior_dev.loc[['HTML/CSS', 'JavaScript', 'Python', 'Spring']]\n",
    "front_back.plot(kind='barh', colormap='Set2')"
   ]
  },
  {
   "cell_type": "code",
   "execution_count": 106,
   "id": "c07d952f",
   "metadata": {},
   "outputs": [
    {
     "data": {
      "text/plain": [
       "<Axes: xlabel='보유기술'>"
      ]
     },
     "execution_count": 106,
     "metadata": {},
     "output_type": "execute_result"
    },
    {
     "data": {
      "image/png": "[encoded data removed]",
      "text/plain": [
       "<Figure size 640x480 with 1 Axes>"
      ]
     },
     "metadata": {},
     "output_type": "display_data"
    },
    {
     "data": {
      "image/png": "[encoded data removed]",
      "text/plain": [
       "<Figure size 640x480 with 1 Axes>"
      ]
     },
     "metadata": {},
     "output_type": "display_data"
    }
   ],
   "source": [
    "# # 1. 미들급 개발자 = 연차가 4 이상, 7이하\n",
    "mid_dev = join_data[(join_data['연차'] <=7) & (join_data['연차'] >=4)]\n",
    "# 2. 미들급 개발자의 보유 기술 별 평균 월급을 구하시오\n",
    "mid_dev = mid_dev[[\"보유기술\", \"월급\"]].groupby(by=\"보유기술\").mean().astype('int64').loc[['HTML/CSS', 'JavaScript', 'Python', 'Spring','SQL']]\n",
    "mid_dev.loc[['HTML/CSS', 'JavaScript', 'Python', 'Spring','SQL']]\n",
    "# 3. 시각화\n",
    "sns.barplot(data=mid_dev.loc[['HTML/CSS', 'JavaScript', 'Python', 'Spring','SQL']], x=\"보유기술\", y=\"월급\", hue=\"보유기술\")\n",
    "\n",
    "(join_data[(join_data['연차'] <=7) & (join_data['연차'] >=4)]\n",
    " [[\"보유기술\", \"월급\"]].groupby(by=\"보유기술\").mean().astype('int64')\n",
    " .loc[['HTML/CSS', 'JavaScript', 'Python', 'Spring','SQL']].plot(kind='bar'))"
   ]
  },
  {
   "cell_type": "code",
   "execution_count": 107,
   "id": "93416b83",
   "metadata": {},
   "outputs": [
    {
     "data": {
      "text/plain": [
       "<Axes: xlabel='보유기술', ylabel='월급'>"
      ]
     },
     "execution_count": 107,
     "metadata": {},
     "output_type": "execute_result"
    },
    {
     "data": {
      "image/png": "[encoded data removed]",
      "text/plain": [
       "<Figure size 640x480 with 1 Axes>"
      ]
     },
     "metadata": {},
     "output_type": "display_data"
    }
   ],
   "source": [
    "# # 시니어 개발자 = 연차가 8이상 나이가 35이상\n",
    "# # 1. 시니어 개발자의 데이터를 가져오기\n",
    "# senior_dev = join_data[(join_data['연차'] >= 8) & (join_data['나이'] == '<35')]\n",
    "# # 2. 시니어 개발자의 보유 기술별 평균 월급 구하기\n",
    "# senior_dev = senior_dev[['보유기술', '월급']].groupby(by='보유기술').mean().astype('int64')\n",
    "# # 3. seaborn 라이브러리로 시각화 ('HTML/CSS', 'JavaScript', 'Python', 'Spring','SQL')\n",
    "# sns.barplot(data = senior_dev.loc[['HTML/CSS', 'JavaScript', 'Python', 'Spring','SQL']]\n",
    "#             , x='보유기술', y='월급', hue='보유기술' )\n",
    "\n",
    "sns.barplot(data = join_data[(join_data['연차'] >= 8) & (join_data['나이'] == '<35')]\n",
    "            [['보유기술', '월급']].groupby(by='보유기술').mean().astype('int64')\n",
    "            .loc[['HTML/CSS', 'JavaScript', 'Python', 'Spring','SQL']]\n",
    "            , x='보유기술', y='월급', hue='보유기술', palette='magma')"
   ]
  },
  {
   "cell_type": "markdown",
   "id": "4269bd83",
   "metadata": {},
   "source": [
    "## 상관계수 분석"
   ]
  },
  {
   "cell_type": "code",
   "execution_count": 108,
   "id": "b311aa27",
   "metadata": {},
   "outputs": [
    {
     "data": {
      "text/html": [
       "<div>\n",
       "<style scoped>\n",
       "    .dataframe tbody tr th:only-of-type {\n",
       "        vertical-align: middle;\n",
       "    }\n",
       "\n",
       "    .dataframe tbody tr th {\n",
       "        vertical-align: top;\n",
       "    }\n",
       "\n",
       "    .dataframe thead th {\n",
       "        text-align: right;\n",
       "    }\n",
       "</style>\n",
       "<table border=\"1\" class=\"dataframe\">\n",
       "  <thead>\n",
       "    <tr style=\"text-align: right;\">\n",
       "      <th></th>\n",
       "      <th>개발공부기간</th>\n",
       "      <th>연차</th>\n",
       "      <th>연봉</th>\n",
       "      <th>보유기술개수</th>\n",
       "      <th>월급</th>\n",
       "    </tr>\n",
       "  </thead>\n",
       "  <tbody>\n",
       "    <tr>\n",
       "      <th>개발공부기간</th>\n",
       "      <td>1.000000</td>\n",
       "      <td>0.900152</td>\n",
       "      <td>0.375811</td>\n",
       "      <td>0.015856</td>\n",
       "      <td>0.375811</td>\n",
       "    </tr>\n",
       "    <tr>\n",
       "      <th>연차</th>\n",
       "      <td>0.900152</td>\n",
       "      <td>1.000000</td>\n",
       "      <td>0.398403</td>\n",
       "      <td>0.012139</td>\n",
       "      <td>0.398403</td>\n",
       "    </tr>\n",
       "    <tr>\n",
       "      <th>연봉</th>\n",
       "      <td>0.375811</td>\n",
       "      <td>0.398403</td>\n",
       "      <td>1.000000</td>\n",
       "      <td>0.059573</td>\n",
       "      <td>1.000000</td>\n",
       "    </tr>\n",
       "    <tr>\n",
       "      <th>보유기술개수</th>\n",
       "      <td>0.015856</td>\n",
       "      <td>0.012139</td>\n",
       "      <td>0.059573</td>\n",
       "      <td>1.000000</td>\n",
       "      <td>0.059573</td>\n",
       "    </tr>\n",
       "    <tr>\n",
       "      <th>월급</th>\n",
       "      <td>0.375811</td>\n",
       "      <td>0.398403</td>\n",
       "      <td>1.000000</td>\n",
       "      <td>0.059573</td>\n",
       "      <td>1.000000</td>\n",
       "    </tr>\n",
       "  </tbody>\n",
       "</table>\n",
       "</div>"
      ],
      "text/plain": [
       "          개발공부기간        연차        연봉    보유기술개수        월급\n",
       "개발공부기간  1.000000  0.900152  0.375811  0.015856  0.375811\n",
       "연차      0.900152  1.000000  0.398403  0.012139  0.398403\n",
       "연봉      0.375811  0.398403  1.000000  0.059573  1.000000\n",
       "보유기술개수  0.015856  0.012139  0.059573  1.000000  0.059573\n",
       "월급      0.375811  0.398403  1.000000  0.059573  1.000000"
      ]
     },
     "execution_count": 108,
     "metadata": {},
     "output_type": "execute_result"
    }
   ],
   "source": [
    "# corr()함수를 활용하여 상관관계 출력\n",
    "# -> 문자 데이터가 섞여 있으면 numeric_only = True 설정이 필요\n",
    "\n",
    "join_data.corr(numeric_only=True) # 공분산 행렬"
   ]
  },
  {
   "cell_type": "code",
   "execution_count": 109,
   "id": "ea34f6a8",
   "metadata": {},
   "outputs": [
    {
     "data": {
      "text/plain": [
       "<Axes: >"
      ]
     },
     "execution_count": 109,
     "metadata": {},
     "output_type": "execute_result"
    },
    {
     "data": {
      "image/png": "[encoded data removed]",
      "text/plain": [
       "<Figure size 640x480 with 2 Axes>"
      ]
     },
     "metadata": {},
     "output_type": "display_data"
    }
   ],
   "source": [
    "# hearmap() 상관계수를 시각화\n",
    "sns.heatmap(join_data.corr(numeric_only=True), annot=True, fmt='.2f', linewidths=1)"
   ]
  }
 ],
 "metadata": {
  "kernelspec": {
   "display_name": "base",
   "language": "python",
   "name": "python3"
  },
  "language_info": {
   "codemirror_mode": {
    "name": "ipython",
    "version": 3
   },
   "file_extension": ".py",
   "mimetype": "text/x-python",
   "name": "python",
   "nbconvert_exporter": "python",
   "pygments_lexer": "ipython3",
   "version": "3.12.7"
  }
 },
 "nbformat": 4,
 "nbformat_minor": 5
}
